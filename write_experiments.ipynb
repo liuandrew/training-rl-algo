{
 "cells": [
  {
   "cell_type": "markdown",
   "metadata": {},
   "source": [
    "# Write Experiments\n",
    "\n",
    "This file is used to generate JSON files for running experients\n",
    "\n",
    "JSON files will be written for main.py to read arguments from, rather than going from the command-line"
   ]
  },
  {
   "cell_type": "code",
   "execution_count": 5,
   "metadata": {},
   "outputs": [],
   "source": [
    "import pickle\n",
    "import pandas as pd\n",
    "from datetime import datetime\n",
    "import os"
   ]
  },
  {
   "cell_type": "code",
   "execution_count": 12,
   "metadata": {},
   "outputs": [],
   "source": [
    "exp_name = 'nav_0_obj'\n",
    "config = {\n",
    "    'wandb_project_name': 'nav1',\n",
    "    'exp_name': exp_name,\n",
    "    'save_name': 'nav_0_obj',\n",
    "    'num_env_steps': 10000,\n",
    "    'env_name': 'NavEnv-v0',\n",
    "    'recurrent_policy': True,\n",
    "    'algo': 'ppo',\n",
    "    'num_mini_batch': 4,\n",
    "    'num_processes': 4,\n",
    "    'env_kwargs': {'num_objects': 0}\n",
    "}\n",
    "\n",
    "pickle.dump(config, open('experiment_configs/' + exp_name, 'wb'))"
   ]
  },
  {
   "cell_type": "code",
   "execution_count": 9,
   "metadata": {},
   "outputs": [],
   "source": [
    "files = os.listdir('experiment_configs/')"
   ]
  },
  {
   "cell_type": "code",
   "execution_count": 10,
   "metadata": {},
   "outputs": [
    {
     "name": "stdout",
     "output_type": "stream",
     "text": [
      "hello_world\n"
     ]
    }
   ],
   "source": [
    "for file in files:\n",
    "    if file not in ['.ipynb_checkpoints', 'archive']:\n",
    "        print(file)"
   ]
  },
  {
   "cell_type": "markdown",
   "metadata": {},
   "source": [
    "## Scheduler functions\n",
    "\n",
    "These functions are found in scheduler.py (testing them here), used to run and track the experiments in experiment_configs"
   ]
  },
  {
   "cell_type": "code",
   "execution_count": 2,
   "metadata": {},
   "outputs": [],
   "source": [
    "from scheduler import *"
   ]
  },
  {
   "cell_type": "code",
   "execution_count": 3,
   "metadata": {},
   "outputs": [],
   "source": [
    "run_experiment('hello_world')"
   ]
  }
 ],
 "metadata": {
  "kernelspec": {
   "display_name": "Python 3",
   "language": "python",
   "name": "python3"
  },
  "language_info": {
   "codemirror_mode": {
    "name": "ipython",
    "version": 3
   },
   "file_extension": ".py",
   "mimetype": "text/x-python",
   "name": "python",
   "nbconvert_exporter": "python",
   "pygments_lexer": "ipython3",
   "version": "3.7.6"
  }
 },
 "nbformat": 4,
 "nbformat_minor": 4
}
