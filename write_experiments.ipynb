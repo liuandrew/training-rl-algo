{
 "cells": [
  {
   "cell_type": "markdown",
   "metadata": {},
   "source": [
    "# Write Experiments\n",
    "\n",
    "This file is used to generate JSON files for running experients\n",
    "\n",
    "JSON files will be written for main.py to read arguments from, rather than going from the command-line"
   ]
  },
  {
   "cell_type": "code",
   "execution_count": 1,
   "metadata": {},
   "outputs": [],
   "source": [
    "import pickle\n",
    "import pandas as pd\n",
    "from datetime import datetime\n",
    "import os"
   ]
  },
  {
   "cell_type": "markdown",
   "metadata": {},
   "source": [
    "## Experiment 1: Number of Objects, dist vs goal\n",
    "\n",
    "Basic toy example, each "
   ]
  },
  {
   "cell_type": "code",
   "execution_count": 33,
   "metadata": {},
   "outputs": [],
   "source": [
    "num_objs = [7]\n",
    "rew_structures = ['dist', 'goal']\n",
    "\n",
    "\n",
    "for rew_struct in rew_structures:\n",
    "    for num_obj in num_objs:\n",
    "        exp_name = f'nav_{num_obj}_obj_{rew_struct}_recurrent'\n",
    "        config = {\n",
    "            'wandb_project_name': 'nav1',\n",
    "            'exp_name': exp_name,\n",
    "            'save_name': exp_name,\n",
    "            'num_env_steps': 250000,\n",
    "            'env_name': 'NavEnv-v0',\n",
    "            'recurrent_policy': True,\n",
    "            'algo': 'ppo',\n",
    "            'num_mini_batch': 16,\n",
    "            'num_processes': 16,\n",
    "            'env_kwargs': {'num_objects': num_obj, 'rew_structure': rew_struct},\n",
    "            'track': True,\n",
    "            'capture_video': 1\n",
    "        }\n",
    "\n",
    "        pickle.dump(config, open('experiment_configs/' + exp_name, 'wb'))"
   ]
  },
  {
   "cell_type": "code",
   "execution_count": 8,
   "metadata": {},
   "outputs": [],
   "source": [
    "num_objs = [0, 1, 2, 3, 4]\n",
    "rew_structures = ['dist', 'goal']\n",
    "\n",
    "\n",
    "for rew_struct in rew_structures:\n",
    "    for num_obj in num_objs:\n",
    "        exp_name = f'nav_{num_obj}_obj_{rew_struct}'\n",
    "        config = {\n",
    "            'wandb_project_name': 'nav1',\n",
    "            'exp_name': exp_name,\n",
    "            'save_name': exp_name,\n",
    "            'num_env_steps': 250000,\n",
    "            'env_name': 'NavEnv-v0',\n",
    "            'algo': 'ppo',\n",
    "            'num_mini_batch': 16,\n",
    "            'num_processes': 16,\n",
    "            'env_kwargs': {'num_objects': num_obj, 'rew_structure': rew_struct},\n",
    "            'track': True,\n",
    "            'capture_video': 1\n",
    "        }\n",
    "\n",
    "        pickle.dump(config, open('experiment_configs/' + exp_name, 'wb'))"
   ]
  },
  {
   "cell_type": "code",
   "execution_count": 4,
   "metadata": {},
   "outputs": [],
   "source": [
    "exp_name = 'nav_0_obj_goal'\n",
    "config = {\n",
    "    'wandb_project_name': 'nav1',\n",
    "    'exp_name': exp_name,\n",
    "    'save_name': exp_name,\n",
    "    'num_env_steps': 250000,\n",
    "    'env_name': 'NavEnv-v0',\n",
    "    'recurrent_policy': True,\n",
    "    'algo': 'ppo',\n",
    "    'num_mini_batch': 4,\n",
    "    'num_processes': 4,\n",
    "    'env_kwargs': {'num_objects': 0},\n",
    "    'track': True,\n",
    "    'capture_video': True\n",
    "}\n",
    "\n",
    "pickle.dump(config, open('experiment_configs/' + exp_name, 'wb'))"
   ]
  },
  {
   "cell_type": "code",
   "execution_count": 18,
   "metadata": {},
   "outputs": [
    {
     "data": {
      "text/plain": [
       "{'wandb_project_name': 'nav1',\n",
       " 'exp_name': 'nav_0_obj',\n",
       " 'save_name': 'nav_0_obj',\n",
       " 'num_env_steps': 10000,\n",
       " 'env_name': 'NavEnv-v0',\n",
       " 'recurrent_policy': True,\n",
       " 'algo': 'ppo',\n",
       " 'num_mini_batch': 4,\n",
       " 'num_processes': 4,\n",
       " 'env_kwargs': {'num_objects': 0},\n",
       " 'track': True,\n",
       " 'capture_video': True}"
      ]
     },
     "execution_count": 18,
     "metadata": {},
     "output_type": "execute_result"
    }
   ],
   "source": [
    "pickle.load(open('experiment_configs/nav_0_obj', 'rb'))"
   ]
  },
  {
   "cell_type": "code",
   "execution_count": 9,
   "metadata": {},
   "outputs": [],
   "source": [
    "files = os.listdir('experiment_configs/')"
   ]
  },
  {
   "cell_type": "code",
   "execution_count": 10,
   "metadata": {},
   "outputs": [
    {
     "name": "stdout",
     "output_type": "stream",
     "text": [
      "hello_world\n"
     ]
    }
   ],
   "source": [
    "for file in files:\n",
    "    if file not in ['.ipynb_checkpoints', 'archive']:\n",
    "        print(file)"
   ]
  },
  {
   "cell_type": "code",
   "execution_count": 16,
   "metadata": {},
   "outputs": [
    {
     "data": {
      "text/html": [
       "<div>\n",
       "<style scoped>\n",
       "    .dataframe tbody tr th:only-of-type {\n",
       "        vertical-align: middle;\n",
       "    }\n",
       "\n",
       "    .dataframe tbody tr th {\n",
       "        vertical-align: top;\n",
       "    }\n",
       "\n",
       "    .dataframe thead th {\n",
       "        text-align: right;\n",
       "    }\n",
       "</style>\n",
       "<table border=\"1\" class=\"dataframe\">\n",
       "  <thead>\n",
       "    <tr style=\"text-align: right;\">\n",
       "      <th></th>\n",
       "      <th>file</th>\n",
       "      <th>begin</th>\n",
       "      <th>end</th>\n",
       "      <th>exp_name</th>\n",
       "      <th>save_name</th>\n",
       "      <th>num_env_steps</th>\n",
       "      <th>env_name</th>\n",
       "      <th>recurrent_policy</th>\n",
       "      <th>algo</th>\n",
       "      <th>num_mini_batch</th>\n",
       "      <th>num_processes</th>\n",
       "      <th>success</th>\n",
       "      <th>env_kwargs</th>\n",
       "      <th>wandb_project_name</th>\n",
       "    </tr>\n",
       "  </thead>\n",
       "  <tbody>\n",
       "    <tr>\n",
       "      <th>0</th>\n",
       "      <td>hello_world</td>\n",
       "      <td>2021-10-25 18:23:03.197613</td>\n",
       "      <td>NaN</td>\n",
       "      <td>hello_world</td>\n",
       "      <td>hello_world</td>\n",
       "      <td>10000</td>\n",
       "      <td>CartPole-v0</td>\n",
       "      <td>True</td>\n",
       "      <td>ppo</td>\n",
       "      <td>4</td>\n",
       "      <td>4</td>\n",
       "      <td>NaN</td>\n",
       "      <td>NaN</td>\n",
       "      <td>NaN</td>\n",
       "    </tr>\n",
       "    <tr>\n",
       "      <th>1</th>\n",
       "      <td>hello_world</td>\n",
       "      <td>2021-10-25 18:28:38.870516</td>\n",
       "      <td>2021-10-25 18:43:41.004250</td>\n",
       "      <td>hello_world</td>\n",
       "      <td>hello_world</td>\n",
       "      <td>10000</td>\n",
       "      <td>CartPole-v0</td>\n",
       "      <td>True</td>\n",
       "      <td>ppo</td>\n",
       "      <td>4</td>\n",
       "      <td>4</td>\n",
       "      <td>NaN</td>\n",
       "      <td>NaN</td>\n",
       "      <td>NaN</td>\n",
       "    </tr>\n",
       "    <tr>\n",
       "      <th>2</th>\n",
       "      <td>hello_world</td>\n",
       "      <td>2021-10-25 18:58:10.351818</td>\n",
       "      <td>2021-10-25 18:59:07.591750</td>\n",
       "      <td>hello_world</td>\n",
       "      <td>hello_world</td>\n",
       "      <td>10000</td>\n",
       "      <td>CartPole-v0</td>\n",
       "      <td>True</td>\n",
       "      <td>ppo</td>\n",
       "      <td>4</td>\n",
       "      <td>4</td>\n",
       "      <td>True</td>\n",
       "      <td>NaN</td>\n",
       "      <td>NaN</td>\n",
       "    </tr>\n",
       "    <tr>\n",
       "      <th>3</th>\n",
       "      <td>nav_0_obj</td>\n",
       "      <td>2021-10-27 13:05:19.228026</td>\n",
       "      <td>NaN</td>\n",
       "      <td>nav_0_obj</td>\n",
       "      <td>nav_0_obj</td>\n",
       "      <td>10000</td>\n",
       "      <td>NavEnv-v0</td>\n",
       "      <td>True</td>\n",
       "      <td>ppo</td>\n",
       "      <td>4</td>\n",
       "      <td>4</td>\n",
       "      <td>NaN</td>\n",
       "      <td>{'num_objects': 0}</td>\n",
       "      <td>nav1</td>\n",
       "    </tr>\n",
       "  </tbody>\n",
       "</table>\n",
       "</div>"
      ],
      "text/plain": [
       "          file                      begin                         end  \\\n",
       "0  hello_world 2021-10-25 18:23:03.197613                         NaN   \n",
       "1  hello_world 2021-10-25 18:28:38.870516  2021-10-25 18:43:41.004250   \n",
       "2  hello_world 2021-10-25 18:58:10.351818  2021-10-25 18:59:07.591750   \n",
       "3    nav_0_obj 2021-10-27 13:05:19.228026                         NaN   \n",
       "\n",
       "      exp_name    save_name  num_env_steps     env_name  recurrent_policy  \\\n",
       "0  hello_world  hello_world          10000  CartPole-v0              True   \n",
       "1  hello_world  hello_world          10000  CartPole-v0              True   \n",
       "2  hello_world  hello_world          10000  CartPole-v0              True   \n",
       "3    nav_0_obj    nav_0_obj          10000    NavEnv-v0              True   \n",
       "\n",
       "  algo  num_mini_batch  num_processes success          env_kwargs  \\\n",
       "0  ppo               4              4     NaN                 NaN   \n",
       "1  ppo               4              4     NaN                 NaN   \n",
       "2  ppo               4              4    True                 NaN   \n",
       "3  ppo               4              4     NaN  {'num_objects': 0}   \n",
       "\n",
       "  wandb_project_name  \n",
       "0                NaN  \n",
       "1                NaN  \n",
       "2                NaN  \n",
       "3               nav1  "
      ]
     },
     "execution_count": 16,
     "metadata": {},
     "output_type": "execute_result"
    }
   ],
   "source": [
    "pickle.load(open('experiment_log', 'rb'))"
   ]
  },
  {
   "cell_type": "markdown",
   "metadata": {},
   "source": [
    "## Scheduler functions\n",
    "\n",
    "These functions are found in scheduler.py (testing them here), used to run and track the experiments in experiment_configs"
   ]
  },
  {
   "cell_type": "code",
   "execution_count": 3,
   "metadata": {},
   "outputs": [],
   "source": [
    "from scheduler import *\n",
    "import torch"
   ]
  },
  {
   "cell_type": "code",
   "execution_count": 3,
   "metadata": {},
   "outputs": [],
   "source": [
    "js = pickle.load(open('exp_log.json', 'rb'))"
   ]
  },
  {
   "cell_type": "code",
   "execution_count": 6,
   "metadata": {},
   "outputs": [],
   "source": [
    "df = pd.read_json(js)"
   ]
  },
  {
   "cell_type": "code",
   "execution_count": 7,
   "metadata": {},
   "outputs": [],
   "source": [
    "df.to_pickle('experiment_log')"
   ]
  },
  {
   "cell_type": "code",
   "execution_count": 5,
   "metadata": {},
   "outputs": [],
   "source": []
  },
  {
   "cell_type": "code",
   "execution_count": 5,
   "metadata": {},
   "outputs": [],
   "source": [
    "run_experiment('morris_epstruct_1_recurrent_sep_false', cont=True)"
   ]
  },
  {
   "cell_type": "code",
   "execution_count": 4,
   "metadata": {},
   "outputs": [
    {
     "data": {
      "text/plain": [
       "'python main.py --wandb-project-name nav2 --exp-name morris_epstruct_1_recurrent_sep_false --save-name morris_epstruct_1_recurrent_sep_false --num-env-steps 500000 --env-name MorrisEnv-v0 --recurrent-policy --algo ppo --num-mini-batch 16 --num-processes 16 --env-kwargs ep_struct=1 character_sep=False --track --capture-video 1 --cont --config-file-name morris_epstruct_1_recurrent_sep_false '"
      ]
     },
     "execution_count": 4,
     "metadata": {},
     "output_type": "execute_result"
    }
   ],
   "source": [
    "convert_config_to_command('morris_epstruct_1_recurrent_sep_false', cont=True)"
   ]
  },
  {
   "cell_type": "code",
   "execution_count": 6,
   "metadata": {},
   "outputs": [],
   "source": [
    "actor_critic, obs_rms = torch.load('trained_models/ppo/morris_epstruct_1_recurrent_sep_false.pt')"
   ]
  },
  {
   "cell_type": "code",
   "execution_count": 9,
   "metadata": {},
   "outputs": [
    {
     "data": {
      "text/plain": [
       "192096"
      ]
     },
     "execution_count": 9,
     "metadata": {},
     "output_type": "execute_result"
    }
   ],
   "source": [
    "int(obs_rms.count)"
   ]
  },
  {
   "cell_type": "code",
   "execution_count": 10,
   "metadata": {},
   "outputs": [],
   "source": [
    "from a2c_ppo_acktr import algo, utils\n"
   ]
  },
  {
   "cell_type": "code",
   "execution_count": 15,
   "metadata": {},
   "outputs": [
    {
     "data": {
      "text/plain": [
       "<a2c_ppo_acktr.algo.ppo.PPO at 0x26bc10eba48>"
      ]
     },
     "execution_count": 15,
     "metadata": {},
     "output_type": "execute_result"
    }
   ],
   "source": [
    "algo.PPO(actor_critic, 1.2, 100, 16, 0.1, 0.1, lr=0.005, eps=0.01, )"
   ]
  },
  {
   "cell_type": "code",
   "execution_count": 17,
   "metadata": {},
   "outputs": [
    {
     "data": {
      "text/plain": [
       "64"
      ]
     },
     "execution_count": 17,
     "metadata": {},
     "output_type": "execute_result"
    }
   ],
   "source": [
    "actor_critic.recurrent_hidden_state_size"
   ]
  },
  {
   "cell_type": "code",
   "execution_count": 3,
   "metadata": {},
   "outputs": [],
   "source": [
    "run_experiment('hello_world')"
   ]
  },
  {
   "cell_type": "markdown",
   "metadata": {},
   "source": [
    "# Morris Environment Experiments"
   ]
  },
  {
   "cell_type": "code",
   "execution_count": 30,
   "metadata": {},
   "outputs": [],
   "source": [
    "ep_structs = [1, 3]\n",
    "\n",
    "\n",
    "for ep_struct in ep_structs:\n",
    "    exp_name = f'morris_epstruct_{ep_struct}_sep_false_visible_negrew'\n",
    "    config = {\n",
    "        'wandb_project_name': 'nav2',\n",
    "        'exp_name': exp_name,\n",
    "        'save_name': exp_name,\n",
    "        'num_env_steps': 500000,\n",
    "        'env_name': 'MorrisEnv-v0',\n",
    "        'algo': 'ppo',\n",
    "        'num_mini_batch': 16,\n",
    "        'num_processes': 16,\n",
    "        'recurrent': True,\n",
    "        'env_kwargs': {'ep_struct': ep_struct, 'character_sep': False, 'platform_visible': True,\n",
    "                      'reward_shift': -1, 'platform_fixed_duration': 5, 'platform_size': 30,\n",
    "                      'max_steps': 1000},\n",
    "        'track': True,\n",
    "        'capture_video': 1\n",
    "    }\n",
    "\n",
    "    pickle.dump(config, open('experiment_configs/' + exp_name, 'wb'))"
   ]
  },
  {
   "cell_type": "code",
   "execution_count": null,
   "metadata": {},
   "outputs": [],
   "source": []
  },
  {
   "cell_type": "markdown",
   "metadata": {},
   "source": [
    "# Gridworld Experiments"
   ]
  },
  {
   "cell_type": "code",
   "execution_count": 7,
   "metadata": {},
   "outputs": [],
   "source": [
    "# Test local\n",
    "exp_name = f'gridworld_basic'\n",
    "config = {\n",
    "    'wandb_project_name': 'nav3',\n",
    "    'exp_name': exp_name,\n",
    "    'save_name': exp_name,\n",
    "    'num_env_steps': 500000,\n",
    "    'env_name': 'Gridworld-v0',\n",
    "    'algo': 'ppo',\n",
    "    'num_mini_batch': 1,\n",
    "    'num_processes': 1,\n",
    "    'recurrent': True,\n",
    "    'capture_video': 1\n",
    "}\n",
    "\n",
    "pickle.dump(config, open('experiment_configs/' + exp_name, 'wb'))"
   ]
  },
  {
   "cell_type": "code",
   "execution_count": 1,
   "metadata": {},
   "outputs": [],
   "source": [
    "\n",
    "exp_name = f'gridworld_basic'\n",
    "config = {\n",
    "    'wandb_project_name': 'nav3',\n",
    "    'exp_name': exp_name,\n",
    "    'save_name': exp_name,\n",
    "    'num_env_steps': 500000,\n",
    "    'env_name': 'Gridworld-v0',\n",
    "    'algo': 'ppo',\n",
    "    'num_mini_batch': 16,\n",
    "    'num_processes': 16,\n",
    "    'recurrent': True,\n",
    "    'track': True,\n",
    "    'capture_video': 1\n",
    "}\n",
    "\n",
    "pickle.dump(config, open('experiment_configs/' + exp_name, 'wb'))"
   ]
  },
  {
   "cell_type": "code",
   "execution_count": 4,
   "metadata": {},
   "outputs": [
    {
     "name": "stdout",
     "output_type": "stream",
     "text": [
      "6 0\n",
      "6 5\n",
      "6 10\n",
      "10 0\n",
      "10 5\n",
      "10 10\n",
      "14 0\n",
      "14 5\n",
      "14 10\n",
      "18 0\n",
      "18 5\n",
      "18 10\n"
     ]
    }
   ],
   "source": [
    "world_sizes = [6, 10, 14, 18]\n",
    "num_objs = [0, 5, 10]\n",
    "\n",
    "for size in world_sizes:\n",
    "    for obj in num_objs:\n",
    "        print(size, obj)\n",
    "        exp_name = f'grid_dist_{size}_{obj}'\n",
    "        config = {\n",
    "            'wandb_project_name': 'nav3',\n",
    "            'exp_name': exp_name,\n",
    "            'save_name': exp_name,\n",
    "            'num_env_steps': 500000,\n",
    "            'env_name': 'Gridworld-v0',\n",
    "            'algo': 'ppo',\n",
    "            'num_mini_batch': 16,\n",
    "            'num_processes': 16,\n",
    "            'recurrent': True,\n",
    "            'track': True,\n",
    "            'capture_video': 1,\n",
    "            'env_kwargs': {'world_size': size, 'num_obstacles': obj, 'give_dist': True}\n",
    "        }\n",
    "\n",
    "        pickle.dump(config, open('experiment_configs/' + exp_name, 'wb'))"
   ]
  },
  {
   "cell_type": "code",
   "execution_count": 2,
   "metadata": {},
   "outputs": [
    {
     "name": "stdout",
     "output_type": "stream",
     "text": [
      "6 0\n",
      "6 5\n",
      "6 10\n",
      "10 0\n",
      "10 5\n",
      "10 10\n",
      "14 0\n",
      "14 5\n",
      "14 10\n",
      "18 0\n",
      "18 5\n",
      "18 10\n"
     ]
    }
   ],
   "source": [
    "world_sizes = [6, 10, 14, 18]\n",
    "num_objs = [0, 5, 10]\n",
    "\n",
    "for size in world_sizes:\n",
    "    for obj in num_objs:\n",
    "        print(size, obj)\n",
    "        exp_name = f'grid_{size}_{obj}'\n",
    "        config = {\n",
    "            'wandb_project_name': 'nav3',\n",
    "            'exp_name': exp_name,\n",
    "            'save_name': exp_name,\n",
    "            'num_env_steps': 100000,\n",
    "            'env_name': 'Gridworld-v0',\n",
    "            'algo': 'ppo',\n",
    "            'num_mini_batch': 16,\n",
    "            'num_processes': 16,\n",
    "            'recurrent': True,\n",
    "            'track': True,\n",
    "            'capture_video': 1,\n",
    "            'env_kwargs': {'world_size': size, 'num_obstacles': obj}\n",
    "        }\n",
    "\n",
    "        pickle.dump(config, open('experiment_configs/' + exp_name, 'wb'))"
   ]
  },
  {
   "cell_type": "markdown",
   "metadata": {},
   "source": [
    "## Reshaping experiments"
   ]
  },
  {
   "cell_type": "code",
   "execution_count": 3,
   "metadata": {},
   "outputs": [],
   "source": [
    "reward_shaping = [0, 1, 2, 3]\n",
    "num_trials=10\n",
    "\n",
    "for shape in reward_shaping:\n",
    "    for i in range(num_trials):\n",
    "        exp_name = f'grid_reshaping_{shape}_{i}'\n",
    "        config = {\n",
    "            'wandb_project_name': 'GridNav_Reward_Shaping',\n",
    "            'exp_name': exp_name,\n",
    "            'save_name': exp_name,\n",
    "            'num_env_steps': 100000,\n",
    "            'env_name': 'Gridworld-v0',\n",
    "            'algo': 'ppo',\n",
    "            'num_mini_batch': 16,\n",
    "            'num_processes': 16,\n",
    "            'recurrent': True,\n",
    "            'track': True,\n",
    "            'capture_video': 1,\n",
    "            'seed': i,\n",
    "            'env_kwargs': {'world_size': 14, 'num_obstacles': 0, 'give_dist': True,\n",
    "                          'give_time': True, 'reward_shaping': shape}\n",
    "        }\n",
    "\n",
    "        pickle.dump(config, open('experiment_configs/' + exp_name, 'wb'))"
   ]
  },
  {
   "cell_type": "code",
   "execution_count": 13,
   "metadata": {},
   "outputs": [],
   "source": [
    "reward_shaping = [1]\n",
    "num_trials=1\n",
    "\n",
    "for shape in reward_shaping:\n",
    "    for i in range(num_trials):\n",
    "        exp_name = f'grid_reshaping_{shape}_{i}'\n",
    "        config = {\n",
    "            'wandb_project_name': 'nav3',\n",
    "            'exp_name': exp_name,\n",
    "            'save_name': exp_name,\n",
    "            'num_env_steps': 100000,\n",
    "            'env_name': 'Gridworld-v0',\n",
    "            'algo': 'ppo',\n",
    "            'num_mini_batch': 2,\n",
    "            'num_processes': 2,\n",
    "            'recurrent': True,\n",
    "            'track': True,\n",
    "            'capture_video': 1,\n",
    "            'seed': i,\n",
    "            'env_kwargs': {'world_size': 14, 'num_obstacles': 0, 'give_dist': True,\n",
    "                          'give_time': True, 'reward_shaping': shape}\n",
    "        }\n",
    "\n",
    "        pickle.dump(config, open('experiment_configs/' + exp_name, 'wb'))"
   ]
  },
  {
   "cell_type": "code",
   "execution_count": 5,
   "metadata": {},
   "outputs": [
    {
     "ename": "NameError",
     "evalue": "name 'color_configs' is not defined",
     "output_type": "error",
     "traceback": [
      "\u001b[1;31m---------------------------------------------------------------------------\u001b[0m",
      "\u001b[1;31mNameError\u001b[0m                                 Traceback (most recent call last)",
      "\u001b[1;32m<ipython-input-5-a13d8e7c7a00>\u001b[0m in \u001b[0;36m<module>\u001b[1;34m\u001b[0m\n\u001b[0;32m      1\u001b[0m \u001b[0mcolors_configs\u001b[0m \u001b[1;33m=\u001b[0m \u001b[1;33m[\u001b[0m\u001b[1;36m2\u001b[0m\u001b[1;33m,\u001b[0m \u001b[1;36m2.5\u001b[0m\u001b[1;33m,\u001b[0m \u001b[1;36m4\u001b[0m\u001b[1;33m]\u001b[0m\u001b[1;33m\u001b[0m\u001b[1;33m\u001b[0m\u001b[0m\n\u001b[0;32m      2\u001b[0m \u001b[0mnum_trials\u001b[0m \u001b[1;33m=\u001b[0m \u001b[1;36m10\u001b[0m\u001b[1;33m\u001b[0m\u001b[1;33m\u001b[0m\u001b[0m\n\u001b[1;32m----> 3\u001b[1;33m \u001b[1;32mfor\u001b[0m \u001b[0mcolor\u001b[0m \u001b[1;32min\u001b[0m \u001b[0mcolor_configs\u001b[0m\u001b[1;33m:\u001b[0m\u001b[1;33m\u001b[0m\u001b[1;33m\u001b[0m\u001b[0m\n\u001b[0m\u001b[0;32m      4\u001b[0m     \u001b[1;32mfor\u001b[0m \u001b[0mi\u001b[0m \u001b[1;32min\u001b[0m \u001b[0mrange\u001b[0m\u001b[1;33m(\u001b[0m\u001b[0mnum_trials\u001b[0m\u001b[1;33m)\u001b[0m\u001b[1;33m:\u001b[0m\u001b[1;33m\u001b[0m\u001b[1;33m\u001b[0m\u001b[0m\n\u001b[0;32m      5\u001b[0m         \u001b[0mexp_name\u001b[0m \u001b[1;33m=\u001b[0m \u001b[1;34mf'wallcolors_{color}_{i}'\u001b[0m\u001b[1;33m\u001b[0m\u001b[1;33m\u001b[0m\u001b[0m\n",
      "\u001b[1;31mNameError\u001b[0m: name 'color_configs' is not defined"
     ]
    }
   ],
   "source": [
    "colors_configs = [2, 2.5, 4]\n",
    "num_trials = 10\n",
    "for color in color_configs:\n",
    "    for i in range(num_trials):\n",
    "        exp_name = f'wallcolors_{color}_{i}'\n",
    "        config = {\n",
    "            'wandb_project_name': 'GridNav_Visible_Platform_Colored_Walls',\n",
    "            'exp_name': exp_name,\n",
    "            'save_name': exp_name,\n",
    "            'num_env_steps': 100000,\n",
    "            'env_name': 'Gridworld-v0',\n",
    "            'algo': 'ppo',\n",
    "            'num_mini_batch': 2,\n",
    "            'num_processes': 2,\n",
    "            'recurrent': True,\n",
    "            'track': True,\n",
    "            'capture_video': 1,\n",
    "            'seed': i,\n",
    "            'env_kwargs': {'world_size': 14, 'num_obstacles': 0, 'give_dist': True,\n",
    "                          'give_time': True, 'reward_shaping': shape}\n",
    "        }\n",
    "\n",
    "        pickle.dump(config, open('experiment_configs/' + exp_name, 'wb'))"
   ]
  }
 ],
 "metadata": {
  "kernelspec": {
   "display_name": "Python 3",
   "language": "python",
   "name": "python3"
  },
  "language_info": {
   "codemirror_mode": {
    "name": "ipython",
    "version": 3
   },
   "file_extension": ".py",
   "mimetype": "text/x-python",
   "name": "python",
   "nbconvert_exporter": "python",
   "pygments_lexer": "ipython3",
   "version": "3.7.6"
  }
 },
 "nbformat": 4,
 "nbformat_minor": 4
}
