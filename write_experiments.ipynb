{
 "cells": [
  {
   "cell_type": "markdown",
   "metadata": {},
   "source": [
    "# Write Experiments\n",
    "\n",
    "This file is used to generate JSON files for running experients\n",
    "\n",
    "JSON files will be written for main.py to read arguments from, rather than going from the command-line"
   ]
  },
  {
   "cell_type": "code",
   "execution_count": 5,
   "metadata": {},
   "outputs": [],
   "source": [
    "import pickle\n",
    "import pandas as pd\n",
    "from datetime import datetime\n",
    "import os"
   ]
  },
  {
   "cell_type": "code",
   "execution_count": 12,
   "metadata": {},
   "outputs": [],
   "source": [
    "exp_name = 'nav_0_obj'\n",
    "config = {\n",
    "    'wandb_project_name': 'nav1',\n",
    "    'exp_name': exp_name,\n",
    "    'save_name': 'nav_0_obj',\n",
    "    'num_env_steps': 10000,\n",
    "    'env_name': 'NavEnv-v0',\n",
    "    'recurrent_policy': True,\n",
    "    'algo': 'ppo',\n",
    "    'num_mini_batch': 4,\n",
    "    'num_processes': 4,\n",
    "    'env_kwargs': {'num_objects': 0}\n",
    "}\n",
    "\n",
    "pickle.dump(config, open('experiment_configs/' + exp_name, 'wb'))"
   ]
  },
  {
   "cell_type": "code",
   "execution_count": 15,
   "metadata": {},
   "outputs": [
    {
     "data": {
      "text/plain": [
       "{'wandb_project_name': 'nav1',\n",
       " 'exp_name': 'nav_0_obj',\n",
       " 'save_name': 'nav_0_obj',\n",
       " 'num_env_steps': 10000,\n",
       " 'env_name': 'NavEnv-v0',\n",
       " 'recurrent_policy': True,\n",
       " 'algo': 'ppo',\n",
       " 'num_mini_batch': 4,\n",
       " 'num_processes': 4,\n",
       " 'env_kwargs': {'num_objects': 0}}"
      ]
     },
     "execution_count": 15,
     "metadata": {},
     "output_type": "execute_result"
    }
   ],
   "source": [
    "pickle.load(open('experiment_configs/nav_0_obj', 'rb'))"
   ]
  },
  {
   "cell_type": "code",
   "execution_count": 9,
   "metadata": {},
   "outputs": [],
   "source": [
    "files = os.listdir('experiment_configs/')"
   ]
  },
  {
   "cell_type": "code",
   "execution_count": 10,
   "metadata": {},
   "outputs": [
    {
     "name": "stdout",
     "output_type": "stream",
     "text": [
      "hello_world\n"
     ]
    }
   ],
   "source": [
    "for file in files:\n",
    "    if file not in ['.ipynb_checkpoints', 'archive']:\n",
    "        print(file)"
   ]
  },
  {
   "cell_type": "code",
   "execution_count": 16,
   "metadata": {},
   "outputs": [
    {
     "data": {
      "text/html": [
       "<div>\n",
       "<style scoped>\n",
       "    .dataframe tbody tr th:only-of-type {\n",
       "        vertical-align: middle;\n",
       "    }\n",
       "\n",
       "    .dataframe tbody tr th {\n",
       "        vertical-align: top;\n",
       "    }\n",
       "\n",
       "    .dataframe thead th {\n",
       "        text-align: right;\n",
       "    }\n",
       "</style>\n",
       "<table border=\"1\" class=\"dataframe\">\n",
       "  <thead>\n",
       "    <tr style=\"text-align: right;\">\n",
       "      <th></th>\n",
       "      <th>file</th>\n",
       "      <th>begin</th>\n",
       "      <th>end</th>\n",
       "      <th>exp_name</th>\n",
       "      <th>save_name</th>\n",
       "      <th>num_env_steps</th>\n",
       "      <th>env_name</th>\n",
       "      <th>recurrent_policy</th>\n",
       "      <th>algo</th>\n",
       "      <th>num_mini_batch</th>\n",
       "      <th>num_processes</th>\n",
       "      <th>success</th>\n",
       "      <th>env_kwargs</th>\n",
       "      <th>wandb_project_name</th>\n",
       "    </tr>\n",
       "  </thead>\n",
       "  <tbody>\n",
       "    <tr>\n",
       "      <th>0</th>\n",
       "      <td>hello_world</td>\n",
       "      <td>2021-10-25 18:23:03.197613</td>\n",
       "      <td>NaN</td>\n",
       "      <td>hello_world</td>\n",
       "      <td>hello_world</td>\n",
       "      <td>10000</td>\n",
       "      <td>CartPole-v0</td>\n",
       "      <td>True</td>\n",
       "      <td>ppo</td>\n",
       "      <td>4</td>\n",
       "      <td>4</td>\n",
       "      <td>NaN</td>\n",
       "      <td>NaN</td>\n",
       "      <td>NaN</td>\n",
       "    </tr>\n",
       "    <tr>\n",
       "      <th>1</th>\n",
       "      <td>hello_world</td>\n",
       "      <td>2021-10-25 18:28:38.870516</td>\n",
       "      <td>2021-10-25 18:43:41.004250</td>\n",
       "      <td>hello_world</td>\n",
       "      <td>hello_world</td>\n",
       "      <td>10000</td>\n",
       "      <td>CartPole-v0</td>\n",
       "      <td>True</td>\n",
       "      <td>ppo</td>\n",
       "      <td>4</td>\n",
       "      <td>4</td>\n",
       "      <td>NaN</td>\n",
       "      <td>NaN</td>\n",
       "      <td>NaN</td>\n",
       "    </tr>\n",
       "    <tr>\n",
       "      <th>2</th>\n",
       "      <td>hello_world</td>\n",
       "      <td>2021-10-25 18:58:10.351818</td>\n",
       "      <td>2021-10-25 18:59:07.591750</td>\n",
       "      <td>hello_world</td>\n",
       "      <td>hello_world</td>\n",
       "      <td>10000</td>\n",
       "      <td>CartPole-v0</td>\n",
       "      <td>True</td>\n",
       "      <td>ppo</td>\n",
       "      <td>4</td>\n",
       "      <td>4</td>\n",
       "      <td>True</td>\n",
       "      <td>NaN</td>\n",
       "      <td>NaN</td>\n",
       "    </tr>\n",
       "    <tr>\n",
       "      <th>3</th>\n",
       "      <td>nav_0_obj</td>\n",
       "      <td>2021-10-27 13:05:19.228026</td>\n",
       "      <td>NaN</td>\n",
       "      <td>nav_0_obj</td>\n",
       "      <td>nav_0_obj</td>\n",
       "      <td>10000</td>\n",
       "      <td>NavEnv-v0</td>\n",
       "      <td>True</td>\n",
       "      <td>ppo</td>\n",
       "      <td>4</td>\n",
       "      <td>4</td>\n",
       "      <td>NaN</td>\n",
       "      <td>{'num_objects': 0}</td>\n",
       "      <td>nav1</td>\n",
       "    </tr>\n",
       "  </tbody>\n",
       "</table>\n",
       "</div>"
      ],
      "text/plain": [
       "          file                      begin                         end  \\\n",
       "0  hello_world 2021-10-25 18:23:03.197613                         NaN   \n",
       "1  hello_world 2021-10-25 18:28:38.870516  2021-10-25 18:43:41.004250   \n",
       "2  hello_world 2021-10-25 18:58:10.351818  2021-10-25 18:59:07.591750   \n",
       "3    nav_0_obj 2021-10-27 13:05:19.228026                         NaN   \n",
       "\n",
       "      exp_name    save_name  num_env_steps     env_name  recurrent_policy  \\\n",
       "0  hello_world  hello_world          10000  CartPole-v0              True   \n",
       "1  hello_world  hello_world          10000  CartPole-v0              True   \n",
       "2  hello_world  hello_world          10000  CartPole-v0              True   \n",
       "3    nav_0_obj    nav_0_obj          10000    NavEnv-v0              True   \n",
       "\n",
       "  algo  num_mini_batch  num_processes success          env_kwargs  \\\n",
       "0  ppo               4              4     NaN                 NaN   \n",
       "1  ppo               4              4     NaN                 NaN   \n",
       "2  ppo               4              4    True                 NaN   \n",
       "3  ppo               4              4     NaN  {'num_objects': 0}   \n",
       "\n",
       "  wandb_project_name  \n",
       "0                NaN  \n",
       "1                NaN  \n",
       "2                NaN  \n",
       "3               nav1  "
      ]
     },
     "execution_count": 16,
     "metadata": {},
     "output_type": "execute_result"
    }
   ],
   "source": [
    "pickle.load(open('experiment_log', 'rb'))"
   ]
  },
  {
   "cell_type": "markdown",
   "metadata": {},
   "source": [
    "## Scheduler functions\n",
    "\n",
    "These functions are found in scheduler.py (testing them here), used to run and track the experiments in experiment_configs"
   ]
  },
  {
   "cell_type": "code",
   "execution_count": 2,
   "metadata": {},
   "outputs": [],
   "source": [
    "from scheduler import *"
   ]
  },
  {
   "cell_type": "code",
   "execution_count": 3,
   "metadata": {},
   "outputs": [],
   "source": [
    "run_experiment('hello_world')"
   ]
  }
 ],
 "metadata": {
  "kernelspec": {
   "display_name": "Python 3",
   "language": "python",
   "name": "python3"
  },
  "language_info": {
   "codemirror_mode": {
    "name": "ipython",
    "version": 3
   },
   "file_extension": ".py",
   "mimetype": "text/x-python",
   "name": "python",
   "nbconvert_exporter": "python",
   "pygments_lexer": "ipython3",
   "version": "3.7.6"
  }
 },
 "nbformat": 4,
 "nbformat_minor": 4
}
