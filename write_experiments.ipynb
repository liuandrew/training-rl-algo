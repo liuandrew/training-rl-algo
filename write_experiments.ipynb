{
 "cells": [
  {
   "cell_type": "markdown",
   "metadata": {},
   "source": [
    "# Write Experiments\n",
    "\n",
    "This file is used to generate JSON files for running experients\n",
    "\n",
    "JSON files will be written for main.py to read arguments from, rather than going from the command-line"
   ]
  },
  {
   "cell_type": "code",
   "execution_count": 9,
   "metadata": {},
   "outputs": [],
   "source": [
    "import pickle\n",
    "import pandas as pd\n",
    "from datetime import datetime"
   ]
  },
  {
   "cell_type": "code",
   "execution_count": 2,
   "metadata": {},
   "outputs": [],
   "source": [
    "config = {\n",
    "    'exp_name': 'hello_world',\n",
    "    'save_name': 'hello_world',\n",
    "    'num_env_steps': 10000,\n",
    "    'env_name': 'CartPole-v0',\n",
    "    'recurrent_policy': True,\n",
    "    'algo': 'ppo',\n",
    "    'num_mini_batch': 4,\n",
    "    'num_processes': 4\n",
    "}\n",
    "pickle.dump(config, open('experiment_configs/hello_world', 'wb'))"
   ]
  },
  {
   "cell_type": "code",
   "execution_count": null,
   "metadata": {},
   "outputs": [],
   "source": []
  },
  {
   "cell_type": "markdown",
   "metadata": {},
   "source": [
    "## Scheduler functions\n",
    "\n",
    "These functions are found in scheduler.py (testing them here), used to run and track the experiments in experiment_configs"
   ]
  },
  {
   "cell_type": "code",
   "execution_count": 2,
   "metadata": {},
   "outputs": [],
   "source": [
    "from scheduler import *"
   ]
  },
  {
   "cell_type": "code",
   "execution_count": 3,
   "metadata": {},
   "outputs": [],
   "source": [
    "run_experiment('hello_world')"
   ]
  }
 ],
 "metadata": {
  "kernelspec": {
   "display_name": "Python 3",
   "language": "python",
   "name": "python3"
  },
  "language_info": {
   "codemirror_mode": {
    "name": "ipython",
    "version": 3
   },
   "file_extension": ".py",
   "mimetype": "text/x-python",
   "name": "python",
   "nbconvert_exporter": "python",
   "pygments_lexer": "ipython3",
   "version": "3.7.6"
  }
 },
 "nbformat": 4,
 "nbformat_minor": 4
}
