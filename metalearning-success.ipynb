{
 "cells": [
  {
   "cell_type": "code",
   "execution_count": 1,
   "metadata": {},
   "outputs": [
    {
     "data": {
      "text/plain": [
       "[<matplotlib.lines.Line2D at 0x246ac19b708>]"
      ]
     },
     "execution_count": 1,
     "metadata": {},
     "output_type": "execute_result"
    },
    {
     "data": {
      "image/png": "[encoded data removed]",
      "text/plain": [
       "<Figure size 72x72 with 1 Axes>"
      ]
     },
     "metadata": {
      "needs_background": "light"
     },
     "output_type": "display_data"
    }
   ],
   "source": [
    "'''\n",
    "For some reason need to plot before finishing imports or else can't plot without crashing\n",
    "'''\n",
    "import matplotlib.pyplot as plt\n",
    "fig = plt.figure(figsize=(1,1))\n",
    "plt.plot([1],[1])"
   ]
  },
  {
   "cell_type": "code",
   "execution_count": 1,
   "metadata": {},
   "outputs": [],
   "source": [
    "import numpy as np\n",
    "import pandas as pd\n",
    "import torch\n",
    "import torch.nn as nn\n",
    "import torch.optim as optim\n",
    "from torch.distributions.categorical import Categorical\n",
    "from torch.optim import Adam\n",
    "\n",
    "from scipy.special import softmax\n",
    "\n",
    "from tqdm import tqdm\n",
    "\n",
    "import gym\n",
    "from gym import error, spaces, utils\n",
    "\n"
   ]
  },
  {
   "cell_type": "code",
   "execution_count": 8,
   "metadata": {},
   "outputs": [],
   "source": [
    "x = torch.tensor([-1, 4, 6])"
   ]
  },
  {
   "cell_type": "code",
   "execution_count": 9,
   "metadata": {},
   "outputs": [
    {
     "ename": "ValueError",
     "evalue": "Expected parameter probs (Tensor of shape (3,)) of distribution Categorical(probs: torch.Size([3])) to satisfy the constraint Simplex(), but found invalid values:\ntensor([-0.1111,  0.4444,  0.6667])",
     "output_type": "error",
     "traceback": [
      "\u001b[1;31m---------------------------------------------------------------------------\u001b[0m",
      "\u001b[1;31mValueError\u001b[0m                                Traceback (most recent call last)",
      "\u001b[1;32m~\\AppData\\Local\\Temp/ipykernel_3044/3063414632.py\u001b[0m in \u001b[0;36m<module>\u001b[1;34m\u001b[0m\n\u001b[1;32m----> 1\u001b[1;33m \u001b[0mCategorical\u001b[0m\u001b[1;33m(\u001b[0m\u001b[0mx\u001b[0m\u001b[1;33m)\u001b[0m\u001b[1;33m.\u001b[0m\u001b[0mprobs\u001b[0m\u001b[1;33m\u001b[0m\u001b[1;33m\u001b[0m\u001b[0m\n\u001b[0m",
      "\u001b[1;32m~\\miniconda3\\lib\\site-packages\\torch\\distributions\\categorical.py\u001b[0m in \u001b[0;36m__init__\u001b[1;34m(self, probs, logits, validate_args)\u001b[0m\n\u001b[0;32m     62\u001b[0m         \u001b[0mself\u001b[0m\u001b[1;33m.\u001b[0m\u001b[0m_num_events\u001b[0m \u001b[1;33m=\u001b[0m \u001b[0mself\u001b[0m\u001b[1;33m.\u001b[0m\u001b[0m_param\u001b[0m\u001b[1;33m.\u001b[0m\u001b[0msize\u001b[0m\u001b[1;33m(\u001b[0m\u001b[1;33m)\u001b[0m\u001b[1;33m[\u001b[0m\u001b[1;33m-\u001b[0m\u001b[1;36m1\u001b[0m\u001b[1;33m]\u001b[0m\u001b[1;33m\u001b[0m\u001b[1;33m\u001b[0m\u001b[0m\n\u001b[0;32m     63\u001b[0m         \u001b[0mbatch_shape\u001b[0m \u001b[1;33m=\u001b[0m \u001b[0mself\u001b[0m\u001b[1;33m.\u001b[0m\u001b[0m_param\u001b[0m\u001b[1;33m.\u001b[0m\u001b[0msize\u001b[0m\u001b[1;33m(\u001b[0m\u001b[1;33m)\u001b[0m\u001b[1;33m[\u001b[0m\u001b[1;33m:\u001b[0m\u001b[1;33m-\u001b[0m\u001b[1;36m1\u001b[0m\u001b[1;33m]\u001b[0m \u001b[1;32mif\u001b[0m \u001b[0mself\u001b[0m\u001b[1;33m.\u001b[0m\u001b[0m_param\u001b[0m\u001b[1;33m.\u001b[0m\u001b[0mndimension\u001b[0m\u001b[1;33m(\u001b[0m\u001b[1;33m)\u001b[0m \u001b[1;33m>\u001b[0m \u001b[1;36m1\u001b[0m \u001b[1;32melse\u001b[0m \u001b[0mtorch\u001b[0m\u001b[1;33m.\u001b[0m\u001b[0mSize\u001b[0m\u001b[1;33m(\u001b[0m\u001b[1;33m)\u001b[0m\u001b[1;33m\u001b[0m\u001b[1;33m\u001b[0m\u001b[0m\n\u001b[1;32m---> 64\u001b[1;33m         \u001b[0msuper\u001b[0m\u001b[1;33m(\u001b[0m\u001b[0mCategorical\u001b[0m\u001b[1;33m,\u001b[0m \u001b[0mself\u001b[0m\u001b[1;33m)\u001b[0m\u001b[1;33m.\u001b[0m\u001b[0m__init__\u001b[0m\u001b[1;33m(\u001b[0m\u001b[0mbatch_shape\u001b[0m\u001b[1;33m,\u001b[0m \u001b[0mvalidate_args\u001b[0m\u001b[1;33m=\u001b[0m\u001b[0mvalidate_args\u001b[0m\u001b[1;33m)\u001b[0m\u001b[1;33m\u001b[0m\u001b[1;33m\u001b[0m\u001b[0m\n\u001b[0m\u001b[0;32m     65\u001b[0m \u001b[1;33m\u001b[0m\u001b[0m\n\u001b[0;32m     66\u001b[0m     \u001b[1;32mdef\u001b[0m \u001b[0mexpand\u001b[0m\u001b[1;33m(\u001b[0m\u001b[0mself\u001b[0m\u001b[1;33m,\u001b[0m \u001b[0mbatch_shape\u001b[0m\u001b[1;33m,\u001b[0m \u001b[0m_instance\u001b[0m\u001b[1;33m=\u001b[0m\u001b[1;32mNone\u001b[0m\u001b[1;33m)\u001b[0m\u001b[1;33m:\u001b[0m\u001b[1;33m\u001b[0m\u001b[1;33m\u001b[0m\u001b[0m\n",
      "\u001b[1;32m~\\miniconda3\\lib\\site-packages\\torch\\distributions\\distribution.py\u001b[0m in \u001b[0;36m__init__\u001b[1;34m(self, batch_shape, event_shape, validate_args)\u001b[0m\n\u001b[0;32m     54\u001b[0m                 \u001b[1;32mif\u001b[0m \u001b[1;32mnot\u001b[0m \u001b[0mvalid\u001b[0m\u001b[1;33m.\u001b[0m\u001b[0mall\u001b[0m\u001b[1;33m(\u001b[0m\u001b[1;33m)\u001b[0m\u001b[1;33m:\u001b[0m\u001b[1;33m\u001b[0m\u001b[1;33m\u001b[0m\u001b[0m\n\u001b[0;32m     55\u001b[0m                     raise ValueError(\n\u001b[1;32m---> 56\u001b[1;33m                         \u001b[1;34mf\"Expected parameter {param} \"\u001b[0m\u001b[1;33m\u001b[0m\u001b[1;33m\u001b[0m\u001b[0m\n\u001b[0m\u001b[0;32m     57\u001b[0m                         \u001b[1;34mf\"({type(value).__name__} of shape {tuple(value.shape)}) \"\u001b[0m\u001b[1;33m\u001b[0m\u001b[1;33m\u001b[0m\u001b[0m\n\u001b[0;32m     58\u001b[0m                         \u001b[1;34mf\"of distribution {repr(self)} \"\u001b[0m\u001b[1;33m\u001b[0m\u001b[1;33m\u001b[0m\u001b[0m\n",
      "\u001b[1;31mValueError\u001b[0m: Expected parameter probs (Tensor of shape (3,)) of distribution Categorical(probs: torch.Size([3])) to satisfy the constraint Simplex(), but found invalid values:\ntensor([-0.1111,  0.4444,  0.6667])"
     ]
    }
   ],
   "source": [
    "Categorical(x).probs"
   ]
  },
  {
   "cell_type": "code",
   "execution_count": 12,
   "metadata": {},
   "outputs": [
    {
     "data": {
      "text/plain": [
       "<function torch.nn.init.constant_(tensor: torch.Tensor, val: float) -> torch.Tensor>"
      ]
     },
     "execution_count": 12,
     "metadata": {},
     "output_type": "execute_result"
    }
   ],
   "source": [
    "torch.nn.init.constant_("
   ]
  },
  {
   "cell_type": "code",
   "execution_count": null,
   "metadata": {},
   "outputs": [],
   "source": []
  },
  {
   "cell_type": "code",
   "execution_count": 3,
   "metadata": {},
   "outputs": [],
   "source": [
    "class BanditsEnv(gym.Env, utils.EzPickle):    \n",
    "    def __init__(self, num_timesteps=100, num_arms=2, reward_probabilities=np.array([0.25, 0.75]),\n",
    "                require_central_saccade=False, changing_reward_probabilities=False):\n",
    "        '''\n",
    "        Configure the multi-arm bandit environment\n",
    "        \n",
    "        num_trials: How many trials the environment should be run for\n",
    "        num_arms: How many arms there are for the bandit\n",
    "        reward_probabilities: Probability of rewarding when arm is pulled\n",
    "        require_central_saccade: At each trial, we will require a central saccade before\n",
    "            an arm can be pulled (agent must produced a central action)\n",
    "            NOT IMPLEMENTED\n",
    "        changing_reward_probabilities: If set to True, the arms may change their output\n",
    "            probabilities over time. Then reward_probabilities should be a size\n",
    "            (num_timesteps, num_arms) array, so at each timestep the reward probabiliies\n",
    "            are given by reward_probabilities[self.timestep]\n",
    "            \n",
    "        observation_space: 2 with central saccade, 1 without\n",
    "        action_space: num_arms + 2 for central saccade, num_arms + 1 without\n",
    "            (additional action for Noop)\n",
    "            Actions are\n",
    "            [ARM1, ARM2,..., ARMN, CENTER]\n",
    "        '''\n",
    "        self.num_timesteps = num_timesteps\n",
    "        self.current_trial = 0\n",
    "        self.timestep = 0\n",
    "        self.num_arms = num_arms\n",
    "        self.reward_probabilities = reward_probabilities\n",
    "        if changing_reward_probabilities:\n",
    "            assert reward_probabilities.shape == (num_timesteps, num_arms), \\\n",
    "                f\"Reward probabilities should be of shape ({num_timesteps}, {num_arms})\"\n",
    "        else:\n",
    "            assert reward_probabilities.shape == (num_arms,), \\\n",
    "                f\"Reward probabilities should be of shape ({num_arms},)\"\n",
    "        self.changing_reward_probabilities = changing_reward_probabilities\n",
    "        self.require_central_saccade = require_central_saccade\n",
    "        \n",
    "        self.NOOP = num_arms + 2\n",
    "        if require_central_saccade:\n",
    "            self.observation_space = spaces.Discrete(2)\n",
    "            self.action_space = spaces.Discrete(num_arms + 2)\n",
    "            self.CENTER = num_arms\n",
    "        else:\n",
    "            self.observation_space = spaces.Discrete(1)\n",
    "            self.action_space = spaces.Discrete(num_arms + 1)\n",
    "        \n",
    "        self.saccade_completed = False #keeps track of whether a central saccade was performed\n",
    "        \n",
    "    \n",
    "    def step(self, action):\n",
    "        '''\n",
    "        Take an action, update the state\n",
    "        returns: observation, reward, done, None\n",
    "            observation: the state being given (0 if central saccade not required, 1 if required)\n",
    "            reward: reward received at this timestep\n",
    "            done: whether experiment is completed\n",
    "            None: this is where info would go\n",
    "        '''\n",
    "        reward = self.perform_action(action)\n",
    "        \n",
    "        \n",
    "        self.timestep += 1\n",
    "        done = False\n",
    "        if self.timestep >= self.num_timesteps:\n",
    "            done = True\n",
    "\n",
    "        obs = self.next_observation()\n",
    "        \n",
    "        return obs, reward, done, None\n",
    "        \n",
    "        \n",
    "    def next_observation(self):\n",
    "        '''\n",
    "        Return the observation, which will be a 0 if an arm pull is requested and 1 if\n",
    "        a central saccade is requested\n",
    "        '''\n",
    "        if self.require_central_saccade and not self.saccade_completed:\n",
    "            return 1\n",
    "        else:\n",
    "            return 0\n",
    "        \n",
    "        \n",
    "    def perform_action(self, action):\n",
    "        '''\n",
    "        Perform the action and determine result\n",
    "        Returns the reward received\n",
    "        If a saccade is required and performed, we will set self.saccade_complete to True   \n",
    "        '''\n",
    "        if self.require_central_saccade:\n",
    "            if not self.saccade_completed:\n",
    "                if action == self.CENTER:\n",
    "                    self.saccade_completed = True\n",
    "                    return 0\n",
    "                else:\n",
    "                    return -1\n",
    "            else:\n",
    "                if action == self.NOOP:\n",
    "                    return 0\n",
    "                if action == self.CENTER:\n",
    "                    self.saccade_completed = False\n",
    "                    return -1\n",
    "                else:\n",
    "                    self.saccade_completed = False\n",
    "                    return self.pull_arm(action)\n",
    "        \n",
    "        else:\n",
    "            #central saccade not required\n",
    "            if action == self.NOOP:\n",
    "                return 0\n",
    "            else:\n",
    "                return self.pull_arm(action)\n",
    "    \n",
    "    \n",
    "    def pull_arm(self, arm):\n",
    "        '''\n",
    "        Pull bandit arm to check what reward is received\n",
    "        '''\n",
    "        #Get the reward probability of the arm being pulled\n",
    "        if self.changing_reward_probabilities:\n",
    "            reward_probability = self.reward_probabilities[self.timestep][arm]\n",
    "        else:\n",
    "            reward_probability = self.reward_probabilities[arm]\n",
    "        \n",
    "        if(np.random.random() < reward_probability):\n",
    "            return 1\n",
    "        else:\n",
    "            return 0\n",
    "        \n",
    "    def reset(self):\n",
    "        '''\n",
    "        Reset state\n",
    "        '''\n",
    "        self.saccade_completed = False\n",
    "        self.timestep = 0\n",
    "        self.current_trial = 0\n",
    "        \n",
    "        return self.next_observation()\n",
    "    \n",
    "    def close(self):\n",
    "        pass\n",
    "    \n",
    "    \n",
    "    \n",
    "    \n",
    "def generate_bandit_env(require_central_saccade=False):\n",
    "    '''\n",
    "    Generate a random bandit environment with two arms of random reward probability\n",
    "    '''\n",
    "    arm1 = np.random.uniform()\n",
    "    arm2 = 1 - arm1\n",
    "    \n",
    "    env = BanditsEnv(reward_probabilities=np.array([arm1, arm2]), require_central_saccade=require_central_saccade)\n",
    "    return env\n",
    "        "
   ]
  },
  {
   "cell_type": "markdown",
   "metadata": {},
   "source": [
    "# Experiment 0: Correlated 2 bandit arms"
   ]
  },
  {
   "cell_type": "code",
   "execution_count": 11,
   "metadata": {},
   "outputs": [
    {
     "ename": "RuntimeError",
     "evalue": "Expected object of type torch.FloatTensor but found type torch.LongTensor for argument #2 'other'",
     "output_type": "error",
     "traceback": [
      "\u001b[1;31m---------------------------------------------------------------------------\u001b[0m",
      "\u001b[1;31mRuntimeError\u001b[0m                              Traceback (most recent call last)",
      "\u001b[1;32m~\\AppData\\Local\\Temp/ipykernel_9844/3331504955.py\u001b[0m in \u001b[0;36m<module>\u001b[1;34m\u001b[0m\n\u001b[0;32m    244\u001b[0m \u001b[1;33m\u001b[0m\u001b[0m\n\u001b[0;32m    245\u001b[0m     \u001b[1;32mif\u001b[0m \u001b[0mn_epi\u001b[0m\u001b[1;33m%\u001b[0m\u001b[1;36m5\u001b[0m \u001b[1;33m==\u001b[0m \u001b[1;36m4\u001b[0m\u001b[1;33m:\u001b[0m\u001b[1;33m\u001b[0m\u001b[1;33m\u001b[0m\u001b[0m\n\u001b[1;32m--> 246\u001b[1;33m         \u001b[0mbatch\u001b[0m \u001b[1;33m=\u001b[0m \u001b[0mmodel\u001b[0m\u001b[1;33m.\u001b[0m\u001b[0mcalc_advantage\u001b[0m\u001b[1;33m(\u001b[0m\u001b[0mbatch\u001b[0m\u001b[1;33m)\u001b[0m\u001b[1;33m\u001b[0m\u001b[1;33m\u001b[0m\u001b[0m\n\u001b[0m\u001b[0;32m    247\u001b[0m         \u001b[0mmodel\u001b[0m\u001b[1;33m.\u001b[0m\u001b[0mtrain_net\u001b[0m\u001b[1;33m(\u001b[0m\u001b[0mbatch\u001b[0m\u001b[1;33m)\u001b[0m\u001b[1;33m\u001b[0m\u001b[1;33m\u001b[0m\u001b[0m\n\u001b[0;32m    248\u001b[0m         \u001b[0mbatch\u001b[0m \u001b[1;33m=\u001b[0m \u001b[1;33m[\u001b[0m\u001b[1;33m]\u001b[0m\u001b[1;33m\u001b[0m\u001b[1;33m\u001b[0m\u001b[0m\n",
      "\u001b[1;32m~\\AppData\\Local\\Temp/ipykernel_9844/3331504955.py\u001b[0m in \u001b[0;36mcalc_advantage\u001b[1;34m(self, data)\u001b[0m\n\u001b[0;32m    119\u001b[0m                 \u001b[0mv_prime\u001b[0m\u001b[1;33m,\u001b[0m \u001b[0m_\u001b[0m \u001b[1;33m=\u001b[0m \u001b[0mself\u001b[0m\u001b[1;33m.\u001b[0m\u001b[0mv\u001b[0m\u001b[1;33m(\u001b[0m\u001b[0ms_prime\u001b[0m\u001b[1;33m,\u001b[0m \u001b[0mhidden_prime\u001b[0m\u001b[1;33m)\u001b[0m\u001b[1;33m\u001b[0m\u001b[1;33m\u001b[0m\u001b[0m\n\u001b[0;32m    120\u001b[0m                 \u001b[0mv\u001b[0m\u001b[1;33m,\u001b[0m \u001b[0m_\u001b[0m \u001b[1;33m=\u001b[0m \u001b[0mself\u001b[0m\u001b[1;33m.\u001b[0m\u001b[0mv\u001b[0m\u001b[1;33m(\u001b[0m\u001b[0ms\u001b[0m\u001b[1;33m,\u001b[0m \u001b[0minit_hidden\u001b[0m\u001b[1;33m)\u001b[0m\u001b[1;33m\u001b[0m\u001b[1;33m\u001b[0m\u001b[0m\n\u001b[1;32m--> 121\u001b[1;33m                 \u001b[0mtd_target\u001b[0m \u001b[1;33m=\u001b[0m \u001b[0mr\u001b[0m \u001b[1;33m+\u001b[0m \u001b[0mgamma\u001b[0m \u001b[1;33m*\u001b[0m \u001b[0mv_prime\u001b[0m \u001b[1;33m*\u001b[0m \u001b[0mdone_mask\u001b[0m\u001b[1;33m\u001b[0m\u001b[1;33m\u001b[0m\u001b[0m\n\u001b[0m\u001b[0;32m    122\u001b[0m                 \u001b[0mdelta\u001b[0m \u001b[1;33m=\u001b[0m \u001b[0mtd_target\u001b[0m \u001b[1;33m-\u001b[0m \u001b[0mv\u001b[0m\u001b[1;33m\u001b[0m\u001b[1;33m\u001b[0m\u001b[0m\n\u001b[0;32m    123\u001b[0m             \u001b[0mdelta\u001b[0m \u001b[1;33m=\u001b[0m \u001b[0mdelta\u001b[0m\u001b[1;33m.\u001b[0m\u001b[0mnumpy\u001b[0m\u001b[1;33m(\u001b[0m\u001b[1;33m)\u001b[0m\u001b[1;33m\u001b[0m\u001b[1;33m\u001b[0m\u001b[0m\n",
      "\u001b[1;31mRuntimeError\u001b[0m: Expected object of type torch.FloatTensor but found type torch.LongTensor for argument #2 'other'"
     ]
    }
   ],
   "source": [
    "import gym\n",
    "import torch\n",
    "import torch.nn as nn\n",
    "import torch.nn.functional as F\n",
    "import torch.optim as optim\n",
    "from torch.distributions import Normal\n",
    "import numpy as np\n",
    "\n",
    "#Hyperparameters\n",
    "learning_rate  = 0.0003\n",
    "gamma           = 0.9\n",
    "lmbda           = 0.9\n",
    "eps_clip        = 0.2\n",
    "K_epoch         = 4\n",
    "rollout_len    = 1\n",
    "buffer_size    = 30\n",
    "minibatch_size = 32\n",
    "action_space_size = 2\n",
    "input_size = action_space_size + 2\n",
    "hidden_size = 128\n",
    "require_saccade = False\n",
    "\n",
    "def format_input(previous_action=None, previous_reward=0, timestep=0, observation=False):\n",
    "    '''\n",
    "    If observation is False, we are not expecting an observation\n",
    "    If it is an input, we are probably requiring a saccade in the environment\n",
    "    '''\n",
    "    inp = np.zeros(input_size)\n",
    "    if(previous_action is not None):\n",
    "        inp[previous_action] = 1\n",
    "    inp[action_space_size] = previous_reward\n",
    "    inp[action_space_size + 1] = timestep\n",
    "    if observation is not False:\n",
    "        inp[-1] = observation\n",
    "    inp = torch.tensor(inp, dtype=torch.float).view(1, 1, -1)\n",
    "    return inp\n",
    "\n",
    "class PPO(nn.Module):\n",
    "    def __init__(self):\n",
    "        super(PPO, self).__init__()\n",
    "        self.data = []\n",
    "        \n",
    "#         self.fc1   = nn.Linear(3,128)\n",
    "#         self.fc_mu = nn.Linear(128,1)\n",
    "#         self.fc_std  = nn.Linear(128,1)\n",
    "#         self.fc_v = nn.Linear(128,1)\n",
    "        \n",
    "        self.rnn = nn.LSTM(input_size, hidden_size)\n",
    "        self.fc_pi = nn.Linear(hidden_size, action_space_size)\n",
    "        self.fc_v = nn.Linear(hidden_size, 1)\n",
    "        \n",
    "        self.optimizer = optim.Adam(self.parameters(), lr=learning_rate)\n",
    "        self.optimization_step = 0\n",
    "\n",
    "    def pi(self, x, hidden):\n",
    "#         x = F.relu(self.fc1(x))\n",
    "#         mu = 2.0*torch.tanh(self.fc_mu(x))\n",
    "#         std = F.softplus(self.fc_std(x))\n",
    "#         return mu, std\n",
    "#         x = F.relu(self.rnn())\n",
    "        x, hidden = self.rnn(x, hidden)\n",
    "        logits = self.fc_pi(x).squeeze()\n",
    "        return Categorical(logits=logits), hidden\n",
    "    \n",
    "    def v(self, x, hidden):\n",
    "#         x = F.relu(self.fc1(x))\n",
    "#         v = self.fc_v(x)\n",
    "        x, hidden = self.rnn(x, hidden)\n",
    "        v = self.fc_v(x).squeeze()\n",
    "        return v, hidden\n",
    "      \n",
    "    def put_data(self, transition):\n",
    "        self.data.append(transition)\n",
    "        \n",
    "    def make_batch(self):\n",
    "        s_batch, a_batch, r_batch, s_prime_batch, prob_a_batch, done_batch, hidden_batch = [], [], [], [], [], [], []\n",
    "        data = []\n",
    "\n",
    "        for j in range(buffer_size):\n",
    "            for i in range(minibatch_size):\n",
    "                rollout = self.data.pop()\n",
    "                s_lst, a_lst, r_lst, s_prime_lst, prob_a_lst, done_lst, hidden_lst = [], [], [], [], [], [], []\n",
    "\n",
    "                for transition in rollout:\n",
    "                    s, a, r, s_prime, prob_a, done, hidden = transition\n",
    "                    \n",
    "                    s_lst.append(s)\n",
    "                    a_lst.append([a])\n",
    "                    r_lst.append([r])\n",
    "                    s_prime_lst.append(s_prime)\n",
    "                    prob_a_lst.append([prob_a])\n",
    "                    done_mask = 0 if done else 1\n",
    "                    done_lst.append([done_mask])\n",
    "                    hidden_lst.append([hidden])\n",
    "\n",
    "                s_batch.append(s_lst)\n",
    "                a_batch.append(a_lst)\n",
    "                r_batch.append(r_lst)\n",
    "                s_prime_batch.append(s_prime_lst)\n",
    "                prob_a_batch.append(prob_a_lst)\n",
    "                done_batch.append(done_lst)\n",
    "                hidden_batch.append(hidden_lst)\n",
    "                    \n",
    "            mini_batch = torch.tensor(s_batch, dtype=torch.float), torch.tensor(a_batch, dtype=torch.float), \\\n",
    "                          torch.tensor(r_batch, dtype=torch.float), torch.tensor(s_prime_batch, dtype=torch.float), \\\n",
    "                          torch.tensor(done_batch, dtype=torch.float), torch.tensor(prob_a_batch, dtype=torch.float), \\\n",
    "                          torch.tensor(hidden_batch, dtype=torch.float)\n",
    "            data.append(mini_batch)\n",
    "\n",
    "        return data\n",
    "\n",
    "    def calc_advantage(self, data):\n",
    "        data_with_adv = []\n",
    "        init_hidden = (torch.zeros(1, 1, hidden_size), torch.zeros(1, 1, hidden_size))\n",
    "        for mini_batch in data:\n",
    "            s, a, r, s_prime, done_mask, old_log_prob, hidden_prime = mini_batch\n",
    "            \n",
    "            with torch.no_grad():\n",
    "                v_prime, _ = self.v(s_prime, hidden_prime)\n",
    "                v, _ = self.v(s, init_hidden)\n",
    "                td_target = r + gamma * v_prime * done_mask\n",
    "                delta = td_target - v\n",
    "            delta = delta.numpy()\n",
    "\n",
    "            advantage_lst = []\n",
    "            advantage = 0.0\n",
    "            for delta_t in delta[::-1]:\n",
    "                advantage = gamma * lmbda * advantage + delta_t\n",
    "                advantage_lst.append([advantage])\n",
    "            advantage_lst.reverse()\n",
    "            advantage = torch.tensor(advantage_lst, dtype=torch.float).view(-1)\n",
    "            data_with_adv.append((s, a, r, s_prime, done_mask, old_log_prob, td_target, advantage))\n",
    "\n",
    "        return data_with_adv\n",
    "\n",
    "        \n",
    "    def train_net(self, data):\n",
    "        init_hidden = (torch.zeros(1, 1, hidden_size), torch.zeros(1, 1, hidden_size))\n",
    "        pg_losses = []\n",
    "        v_losses = []\n",
    "        for i in range(K_epoch):\n",
    "            for mini_batch in data:\n",
    "                s, a, r, s_prime, done_mask, old_log_prob, td_target, advantage = mini_batch\n",
    "                v, _ = self.v(s, init_hidden)\n",
    "                dist, _ = self.pi(s, init_hidden)\n",
    "                log_prob = dist.log_prob(a)\n",
    "                ratio = torch.exp(log_prob - old_log_prob)  # a/b == exp(log(a)-log(b))\n",
    "\n",
    "                surr1 = ratio * advantage\n",
    "                surr2 = torch.clamp(ratio, 1-eps_clip, 1+eps_clip) * advantage\n",
    "                \n",
    "                pg_loss = -torch.min(surr1, surr2).mean()\n",
    "                v_loss = F.smooth_l1_loss(v, td_target)\n",
    "                \n",
    "                loss = pg_loss + v_loss\n",
    "\n",
    "                self.optimizer.zero_grad()\n",
    "                loss.mean().backward()\n",
    "                nn.utils.clip_grad_norm_(self.parameters(), 1.0)\n",
    "                self.optimizer.step()\n",
    "                self.optimization_step += 1\n",
    "                \n",
    "                pg_losses.append(pg_loss)\n",
    "                v_losses.append(v_loss)\n",
    "        return pg_losses, v_losses\n",
    "                \n",
    "        \n",
    "# def main():\n",
    "model = PPO()\n",
    "# score = 0.0\n",
    "print_interval = 20\n",
    "# rollout = []\n",
    "\n",
    "def run_episode(env):\n",
    "    '''\n",
    "    Run an episode with the given environment\n",
    "    return (s, a, r, s', done, log_prob, second_hidden) from episode\n",
    "    '''\n",
    "#     env = generate_bandit_env()\n",
    "    s = env.reset()\n",
    "#     print(env.reward_probabilities)\n",
    "    score = 0\n",
    "    a = None\n",
    "    r = 0\n",
    "    t = 0\n",
    "    hidden = (torch.zeros(1, 1, hidden_size), torch.zeros(1, 1, hidden_size))\n",
    "    done = False\n",
    "    \n",
    "    ep_s = []\n",
    "    ep_s_prime = []\n",
    "    ep_r = []\n",
    "    ep_a = []\n",
    "    ep_done = []\n",
    "    ep_hidden = []\n",
    "    ep_log_prob = []\n",
    "\n",
    "    while not done:\n",
    "        s = format_input(a, r, t)\n",
    "#             mu, std = model.pi(torch.from_numpy(s).float())\n",
    "        dist, hidden = model.pi(s, hidden)\n",
    "        a = dist.sample()\n",
    "        log_prob = dist.log_prob(a)\n",
    "        s_prime, r, done, info = env.step(a.item())\n",
    "        t = t + 1\n",
    "        r = r\n",
    "\n",
    "        s_prime = format_input(a, r, t)\n",
    "#             rollout.append((s, a, r, s_prime, log_prob.item(), done, (hidden[0].detach(), hidden[1].detach())))\n",
    "\n",
    "        ep_s.append(s.squeeze())\n",
    "        ep_s_prime.append(s_prime.squeeze())\n",
    "        ep_a.append(a)\n",
    "        ep_r.append(r)\n",
    "        ep_done.append(done)\n",
    "        ep_hidden.append(hidden)\n",
    "        ep_log_prob.append(log_prob)\n",
    "\n",
    "        s = s_prime\n",
    "        score += r\n",
    "        if done:\n",
    "            batch_s = torch.stack(ep_s).view(-1, 1, input_size)\n",
    "            batch_s_prime = torch.stack(ep_s_prime).view(-1, 1, input_size)\n",
    "            batch_r = torch.tensor(ep_r)\n",
    "            batch_a = torch.tensor(ep_a)\n",
    "            ep_done_mask = [0 if done else 1 for done in ep_done]\n",
    "            batch_done = torch.tensor(ep_done_mask)\n",
    "            batch_log_prob = torch.tensor(ep_log_prob)\n",
    "            batch_hidden_prime = ep_hidden[1]\n",
    "            data = (batch_s, batch_a, batch_r, batch_s_prime, batch_done, batch_log_prob, batch_hidden_prime)\n",
    "#             batch.append(data)\n",
    "            return data, score\n",
    "\n",
    "batch = []\n",
    "score = 0\n",
    "reward_probability_options = [np.array([0.25, 0.75]), np.array([0.75, 0.25])]\n",
    "for n_epi in range(300):\n",
    "#     env = generate_bandit_env()\n",
    "#     env = BanditsEnv(num_timesteps=10, reward_probabilities=np.array([0.75, 0.25]))\n",
    "    reward_probability = reward_probability_options[np.random.choice([0, 1])]\n",
    "    env = BanditsEnv(num_timesteps=100, reward_probabilities=reward_probability)\n",
    "    data, ep_score = run_episode(env)\n",
    "    batch.append(data)\n",
    "    score += ep_score\n",
    "        \n",
    "    if n_epi%5 == 4:\n",
    "        batch = model.calc_advantage(batch)\n",
    "        model.train_net(batch)\n",
    "        batch = []\n",
    "    if n_epi%print_interval==0 and n_epi!=0:\n",
    "        print(\"# of episode :{}, avg score : {:.1f}, opt step: {}\".format(n_epi, score/print_interval, model.optimization_step))\n",
    "        score = 0.0\n",
    "\n",
    "env.close()\n",
    "\n",
    "# if __name__ == '__main__':\n",
    "#     main()"
   ]
  },
  {
   "cell_type": "code",
   "execution_count": 21,
   "metadata": {},
   "outputs": [
    {
     "ename": "NameError",
     "evalue": "name 'v_prime' is not defined",
     "output_type": "error",
     "traceback": [
      "\u001b[1;31m---------------------------------------------------------------------------\u001b[0m",
      "\u001b[1;31mNameError\u001b[0m                                 Traceback (most recent call last)",
      "\u001b[1;32m~\\AppData\\Local\\Temp/ipykernel_9844/67201395.py\u001b[0m in \u001b[0;36m<module>\u001b[1;34m\u001b[0m\n\u001b[1;32m----> 1\u001b[1;33m \u001b[0mv_prime\u001b[0m\u001b[1;33m\u001b[0m\u001b[1;33m\u001b[0m\u001b[0m\n\u001b[0m",
      "\u001b[1;31mNameError\u001b[0m: name 'v_prime' is not defined"
     ]
    }
   ],
   "source": [
    "v_prime"
   ]
  },
  {
   "cell_type": "code",
   "execution_count": 12,
   "metadata": {},
   "outputs": [
    {
     "data": {
      "text/plain": [
       "0"
      ]
     },
     "execution_count": 12,
     "metadata": {},
     "output_type": "execute_result"
    }
   ],
   "source": [
    "env.reset()"
   ]
  },
  {
   "cell_type": "code",
   "execution_count": 15,
   "metadata": {},
   "outputs": [],
   "source": [
    "obs, reward, done, info = env.step(0)"
   ]
  },
  {
   "cell_type": "code",
   "execution_count": 16,
   "metadata": {},
   "outputs": [],
   "source": [
    "action = 0"
   ]
  },
  {
   "cell_type": "code",
   "execution_count": 13,
   "metadata": {},
   "outputs": [
    {
     "data": {
      "text/plain": [
       "tensor([[[0., 0., 0., 0.]]])"
      ]
     },
     "execution_count": 13,
     "metadata": {},
     "output_type": "execute_result"
    }
   ],
   "source": [
    "format_input()"
   ]
  },
  {
   "cell_type": "code",
   "execution_count": 18,
   "metadata": {},
   "outputs": [
    {
     "data": {
      "text/plain": [
       "tensor([[[1., 0., 0., 1.]]])"
      ]
     },
     "execution_count": 18,
     "metadata": {},
     "output_type": "execute_result"
    }
   ],
   "source": [
    "format_input(action, reward, 1)"
   ]
  },
  {
   "cell_type": "code",
   "execution_count": 10,
   "metadata": {},
   "outputs": [
    {
     "name": "stdout",
     "output_type": "stream",
     "text": [
      "8\n"
     ]
    }
   ],
   "source": [
    "# reward_probability = reward_probability_options[np.random.choice([0, 1])]\n",
    "reward_probability = np.array([0.25, 0.75])\n",
    "env = BanditsEnv(num_timesteps=20, reward_probabilities=reward_probability)\n",
    "data, score = run_episode(env)\n",
    "print(score)\n",
    "batch = [data]\n",
    "batch_adv = model.calc_advantage(batch)"
   ]
  },
  {
   "cell_type": "code",
   "execution_count": 11,
   "metadata": {},
   "outputs": [
    {
     "data": {
      "text/plain": [
       "[(tensor([[[ 0.,  0.,  0.,  0.]],\n",
       "  \n",
       "          [[ 0.,  1.,  0.,  1.]],\n",
       "  \n",
       "          [[ 1.,  0.,  0.,  2.]],\n",
       "  \n",
       "          [[ 0.,  1.,  1.,  3.]],\n",
       "  \n",
       "          [[ 1.,  0.,  0.,  4.]],\n",
       "  \n",
       "          [[ 1.,  0.,  1.,  5.]],\n",
       "  \n",
       "          [[ 0.,  1.,  1.,  6.]],\n",
       "  \n",
       "          [[ 0.,  1.,  1.,  7.]],\n",
       "  \n",
       "          [[ 1.,  0.,  0.,  8.]],\n",
       "  \n",
       "          [[ 1.,  0.,  0.,  9.]],\n",
       "  \n",
       "          [[ 1.,  0.,  0., 10.]],\n",
       "  \n",
       "          [[ 1.,  0.,  0., 11.]],\n",
       "  \n",
       "          [[ 1.,  0.,  0., 12.]],\n",
       "  \n",
       "          [[ 1.,  0.,  0., 13.]],\n",
       "  \n",
       "          [[ 1.,  0.,  1., 14.]],\n",
       "  \n",
       "          [[ 1.,  0.,  0., 15.]],\n",
       "  \n",
       "          [[ 1.,  0.,  0., 16.]],\n",
       "  \n",
       "          [[ 0.,  1.,  1., 17.]],\n",
       "  \n",
       "          [[ 1.,  0.,  1., 18.]],\n",
       "  \n",
       "          [[ 1.,  0.,  0., 19.]]]),\n",
       "  tensor([1, 0, 1, 0, 0, 1, 1, 0, 0, 0, 0, 0, 0, 0, 0, 0, 1, 0, 0, 0]),\n",
       "  tensor([0, 0, 1, 0, 1, 1, 1, 0, 0, 0, 0, 0, 0, 1, 0, 0, 1, 1, 0, 1]),\n",
       "  tensor([[[ 0.,  1.,  0.,  1.]],\n",
       "  \n",
       "          [[ 1.,  0.,  0.,  2.]],\n",
       "  \n",
       "          [[ 0.,  1.,  1.,  3.]],\n",
       "  \n",
       "          [[ 1.,  0.,  0.,  4.]],\n",
       "  \n",
       "          [[ 1.,  0.,  1.,  5.]],\n",
       "  \n",
       "          [[ 0.,  1.,  1.,  6.]],\n",
       "  \n",
       "          [[ 0.,  1.,  1.,  7.]],\n",
       "  \n",
       "          [[ 1.,  0.,  0.,  8.]],\n",
       "  \n",
       "          [[ 1.,  0.,  0.,  9.]],\n",
       "  \n",
       "          [[ 1.,  0.,  0., 10.]],\n",
       "  \n",
       "          [[ 1.,  0.,  0., 11.]],\n",
       "  \n",
       "          [[ 1.,  0.,  0., 12.]],\n",
       "  \n",
       "          [[ 1.,  0.,  0., 13.]],\n",
       "  \n",
       "          [[ 1.,  0.,  1., 14.]],\n",
       "  \n",
       "          [[ 1.,  0.,  0., 15.]],\n",
       "  \n",
       "          [[ 1.,  0.,  0., 16.]],\n",
       "  \n",
       "          [[ 0.,  1.,  1., 17.]],\n",
       "  \n",
       "          [[ 1.,  0.,  1., 18.]],\n",
       "  \n",
       "          [[ 1.,  0.,  0., 19.]],\n",
       "  \n",
       "          [[ 1.,  0.,  1., 20.]]]),\n",
       "  tensor([1, 1, 1, 1, 1, 1, 1, 1, 1, 1, 1, 1, 1, 1, 1, 1, 1, 1, 1, 0]),\n",
       "  tensor([-0.9080, -0.2845, -1.5909, -0.1462, -0.1233, -2.3186, -2.4344, -0.0873,\n",
       "          -0.0942, -0.0966, -0.0990, -0.1018, -0.1053, -0.1102, -0.1114, -0.1231,\n",
       "          -2.0565, -0.1446, -0.1688, -0.2041]),\n",
       "  tensor([3.8834, 3.6255, 4.7489, 3.6039, 4.5415, 4.4387, 4.3374, 3.1107, 2.9629,\n",
       "          2.8434, 2.7299, 2.6131, 2.4815, 3.4065, 2.1570, 1.8838, 2.6052, 2.1811,\n",
       "          0.6711, 1.0000]),\n",
       "  tensor([ 1.7781, -0.3718,  0.5426, -0.0242,  0.4650, -0.1656, -0.8576, -1.7160,\n",
       "          -1.3900, -1.1146, -0.8318, -0.5084, -0.1228,  0.3519, -0.3908,  0.1240,\n",
       "           0.7413,  0.2176, -0.3111,  0.3119]))]"
      ]
     },
     "execution_count": 11,
     "metadata": {},
     "output_type": "execute_result"
    }
   ],
   "source": [
    "batch_adv"
   ]
  },
  {
   "cell_type": "code",
   "execution_count": 9,
   "metadata": {},
   "outputs": [],
   "source": [
    "results = model.train_net(batch_adv)"
   ]
  },
  {
   "cell_type": "code",
   "execution_count": null,
   "metadata": {},
   "outputs": [],
   "source": [
    "for i in range(20):\n",
    "    "
   ]
  },
  {
   "cell_type": "code",
   "execution_count": 127,
   "metadata": {},
   "outputs": [
    {
     "data": {
      "text/plain": [
       "([tensor([2.9879, 3.1356, 2.6249, 2.2081, 1.7936, 1.4282, 1.1225, 0.8632, 0.6328,\n",
       "          0.4185], grad_fn=<NegBackward>),\n",
       "  tensor([2.9869, 3.1344, 2.6231, 2.2057, 1.7912, 1.4261, 1.1209, 0.8620, 0.6320,\n",
       "          0.4180], grad_fn=<NegBackward>),\n",
       "  tensor([2.9852, 3.1319, 2.6200, 2.2019, 1.7874, 1.4227, 1.1182, 0.8600, 0.6305,\n",
       "          0.4171], grad_fn=<NegBackward>),\n",
       "  tensor([2.9829, 3.1282, 2.6155, 2.1968, 1.7823, 1.4183, 1.1145, 0.8572, 0.6285,\n",
       "          0.4158], grad_fn=<NegBackward>)],\n",
       " [tensor(0.1864, grad_fn=<SmoothL1LossBackward>),\n",
       "  tensor(0.1810, grad_fn=<SmoothL1LossBackward>),\n",
       "  tensor(0.1724, grad_fn=<SmoothL1LossBackward>),\n",
       "  tensor(0.1612, grad_fn=<SmoothL1LossBackward>)])"
      ]
     },
     "execution_count": 127,
     "metadata": {},
     "output_type": "execute_result"
    }
   ],
   "source": [
    "results"
   ]
  },
  {
   "cell_type": "code",
   "execution_count": null,
   "metadata": {},
   "outputs": [],
   "source": []
  },
  {
   "cell_type": "code",
   "execution_count": 137,
   "metadata": {},
   "outputs": [],
   "source": [
    "init_hidden = (torch.zeros(1, 1, hidden_size), torch.zeros(1, 1, hidden_size))\n",
    "v, _ = model.v(batch_adv[0][0], init_hidden)\n",
    "td_target = batch_adv[0][6]"
   ]
  },
  {
   "cell_type": "code",
   "execution_count": 139,
   "metadata": {},
   "outputs": [
    {
     "data": {
      "text/plain": [
       "tensor(0.1482, grad_fn=<SmoothL1LossBackward>)"
      ]
     },
     "execution_count": 139,
     "metadata": {},
     "output_type": "execute_result"
    }
   ],
   "source": [
    "F.smooth_l1_loss(v, td_target)"
   ]
  },
  {
   "cell_type": "code",
   "execution_count": 140,
   "metadata": {},
   "outputs": [
    {
     "data": {
      "text/plain": [
       "tensor([0.4408, 0.9673, 0.7576, 0.6540, 0.5311, 0.4207, 0.3372, 0.2762, 0.2289,\n",
       "        0.3611], grad_fn=<SubBackward0>)"
      ]
     },
     "execution_count": 140,
     "metadata": {},
     "output_type": "execute_result"
    }
   ],
   "source": [
    "v - td_target"
   ]
  },
  {
   "cell_type": "code",
   "execution_count": null,
   "metadata": {},
   "outputs": [],
   "source": []
  },
  {
   "cell_type": "code",
   "execution_count": null,
   "metadata": {},
   "outputs": [],
   "source": []
  },
  {
   "cell_type": "code",
   "execution_count": 12,
   "metadata": {},
   "outputs": [
    {
     "name": "stdout",
     "output_type": "stream",
     "text": [
      "6\n",
      "18\n"
     ]
    },
    {
     "data": {
      "text/plain": [
       "<matplotlib.legend.Legend at 0x196ef895e08>"
      ]
     },
     "execution_count": 12,
     "metadata": {},
     "output_type": "execute_result"
    },
    {
     "data": {
      "image/png": "[encoded data removed]",
      "text/plain": [
       "<Figure size 432x288 with 1 Axes>"
      ]
     },
     "metadata": {
      "needs_background": "light"
     },
     "output_type": "display_data"
    }
   ],
   "source": [
    "test_setups = [np.array([0.25, 0.75]), np.array([0.75, 0.25])]\n",
    "test_results = []\n",
    "\n",
    "with torch.no_grad():\n",
    "    for rew_prob in test_setups:\n",
    "        env = BanditsEnv(reward_probabilities=rew_prob, num_timesteps=20)\n",
    "        data, score = run_episode(env)\n",
    "        test_results.append(data[1])\n",
    "        print(score)               \n",
    "\n",
    "\n",
    "for i, res in enumerate(test_results):\n",
    "    plt.scatter(np.arange(0, len(res)), res, label=f'arm1={test_setups[i][0]}', alpha=0.7)\n",
    "    \n",
    "plt.legend()"
   ]
  },
  {
   "cell_type": "code",
   "execution_count": 20,
   "metadata": {},
   "outputs": [
    {
     "data": {
      "text/plain": [
       "1"
      ]
     },
     "execution_count": 20,
     "metadata": {},
     "output_type": "execute_result"
    }
   ],
   "source": [
    "np.random.choice([0, 1])"
   ]
  },
  {
   "cell_type": "code",
   "execution_count": 13,
   "metadata": {},
   "outputs": [
    {
     "name": "stdout",
     "output_type": "stream",
     "text": [
      "0.35000000000000014\n",
      "0.7600000000000005\n"
     ]
    },
    {
     "data": {
      "text/plain": [
       "<matplotlib.legend.Legend at 0x21b30582b48>"
      ]
     },
     "execution_count": 13,
     "metadata": {},
     "output_type": "execute_result"
    },
    {
     "data": {
      "image/png": "[encoded data removed]",
      "text/plain": [
       "<Figure size 432x288 with 1 Axes>"
      ]
     },
     "metadata": {
      "needs_background": "light"
     },
     "output_type": "display_data"
    }
   ],
   "source": [
    "test_setups = [np.array([0.25, 0.75]), np.array([0.75, 0.25])]\n",
    "test_results = []\n",
    "\n",
    "with torch.no_grad():\n",
    "    for rew_prob in test_setups:\n",
    "        env = BanditsEnv(reward_probabilities=rew_prob)\n",
    "        data, score = run_episode(env)\n",
    "        test_results.append(data[1])\n",
    "        print(score)               \n",
    "\n",
    "\n",
    "for i, res in enumerate(test_results):\n",
    "    plt.scatter(np.arange(0, len(res)), res, label=f'arm1={test_setups[i][0]}', alpha=0.7)\n",
    "    \n",
    "plt.legend()"
   ]
  },
  {
   "cell_type": "code",
   "execution_count": 18,
   "metadata": {},
   "outputs": [],
   "source": [
    "torch.save({\n",
    "    'episode': 2000,\n",
    "    'optimization_steps': 20000,\n",
    "    'model_state_dict': model.state_dict(),\n",
    "    'optimizer_state_dict': model.optimizer.state_dict()\n",
    "}, 'saves/metalearner_experiment0')"
   ]
  },
  {
   "cell_type": "markdown",
   "metadata": {},
   "source": [
    "# Experiment 0b: Central saccade"
   ]
  },
  {
   "cell_type": "code",
   "execution_count": null,
   "metadata": {},
   "outputs": [],
   "source": [
    "model = PPO()\n",
    "checkpoint = torch.load('saves/metalearner_experiment0')\n",
    "\n"
   ]
  },
  {
   "cell_type": "code",
   "execution_count": 5,
   "metadata": {},
   "outputs": [
    {
     "ename": "RuntimeError",
     "evalue": "Expected object of type torch.FloatTensor but found type torch.LongTensor for argument #2 'other'",
     "output_type": "error",
     "traceback": [
      "\u001b[1;31m---------------------------------------------------------------------------\u001b[0m",
      "\u001b[1;31mRuntimeError\u001b[0m                              Traceback (most recent call last)",
      "\u001b[1;32m~\\AppData\\Local\\Temp/ipykernel_9844/1531486850.py\u001b[0m in \u001b[0;36m<module>\u001b[1;34m\u001b[0m\n\u001b[0;32m     19\u001b[0m \u001b[1;33m\u001b[0m\u001b[0m\n\u001b[0;32m     20\u001b[0m     \u001b[1;32mif\u001b[0m \u001b[0mn_epi\u001b[0m\u001b[1;33m%\u001b[0m\u001b[1;36m5\u001b[0m \u001b[1;33m==\u001b[0m \u001b[1;36m4\u001b[0m\u001b[1;33m:\u001b[0m\u001b[1;33m\u001b[0m\u001b[1;33m\u001b[0m\u001b[0m\n\u001b[1;32m---> 21\u001b[1;33m         \u001b[0mbatch\u001b[0m \u001b[1;33m=\u001b[0m \u001b[0mmodel\u001b[0m\u001b[1;33m.\u001b[0m\u001b[0mcalc_advantage\u001b[0m\u001b[1;33m(\u001b[0m\u001b[0mbatch\u001b[0m\u001b[1;33m)\u001b[0m\u001b[1;33m\u001b[0m\u001b[1;33m\u001b[0m\u001b[0m\n\u001b[0m\u001b[0;32m     22\u001b[0m         \u001b[0mmodel\u001b[0m\u001b[1;33m.\u001b[0m\u001b[0mtrain_net\u001b[0m\u001b[1;33m(\u001b[0m\u001b[0mbatch\u001b[0m\u001b[1;33m)\u001b[0m\u001b[1;33m\u001b[0m\u001b[1;33m\u001b[0m\u001b[0m\n\u001b[0;32m     23\u001b[0m         \u001b[0mbatch\u001b[0m \u001b[1;33m=\u001b[0m \u001b[1;33m[\u001b[0m\u001b[1;33m]\u001b[0m\u001b[1;33m\u001b[0m\u001b[1;33m\u001b[0m\u001b[0m\n",
      "\u001b[1;32m~\\AppData\\Local\\Temp/ipykernel_9844/3331504955.py\u001b[0m in \u001b[0;36mcalc_advantage\u001b[1;34m(self, data)\u001b[0m\n\u001b[0;32m    119\u001b[0m                 \u001b[0mv_prime\u001b[0m\u001b[1;33m,\u001b[0m \u001b[0m_\u001b[0m \u001b[1;33m=\u001b[0m \u001b[0mself\u001b[0m\u001b[1;33m.\u001b[0m\u001b[0mv\u001b[0m\u001b[1;33m(\u001b[0m\u001b[0ms_prime\u001b[0m\u001b[1;33m,\u001b[0m \u001b[0mhidden_prime\u001b[0m\u001b[1;33m)\u001b[0m\u001b[1;33m\u001b[0m\u001b[1;33m\u001b[0m\u001b[0m\n\u001b[0;32m    120\u001b[0m                 \u001b[0mv\u001b[0m\u001b[1;33m,\u001b[0m \u001b[0m_\u001b[0m \u001b[1;33m=\u001b[0m \u001b[0mself\u001b[0m\u001b[1;33m.\u001b[0m\u001b[0mv\u001b[0m\u001b[1;33m(\u001b[0m\u001b[0ms\u001b[0m\u001b[1;33m,\u001b[0m \u001b[0minit_hidden\u001b[0m\u001b[1;33m)\u001b[0m\u001b[1;33m\u001b[0m\u001b[1;33m\u001b[0m\u001b[0m\n\u001b[1;32m--> 121\u001b[1;33m                 \u001b[0mtd_target\u001b[0m \u001b[1;33m=\u001b[0m \u001b[0mr\u001b[0m \u001b[1;33m+\u001b[0m \u001b[0mgamma\u001b[0m \u001b[1;33m*\u001b[0m \u001b[0mv_prime\u001b[0m \u001b[1;33m*\u001b[0m \u001b[0mdone_mask\u001b[0m\u001b[1;33m\u001b[0m\u001b[1;33m\u001b[0m\u001b[0m\n\u001b[0m\u001b[0;32m    122\u001b[0m                 \u001b[0mdelta\u001b[0m \u001b[1;33m=\u001b[0m \u001b[0mtd_target\u001b[0m \u001b[1;33m-\u001b[0m \u001b[0mv\u001b[0m\u001b[1;33m\u001b[0m\u001b[1;33m\u001b[0m\u001b[0m\n\u001b[0;32m    123\u001b[0m             \u001b[0mdelta\u001b[0m \u001b[1;33m=\u001b[0m \u001b[0mdelta\u001b[0m\u001b[1;33m.\u001b[0m\u001b[0mnumpy\u001b[0m\u001b[1;33m(\u001b[0m\u001b[1;33m)\u001b[0m\u001b[1;33m\u001b[0m\u001b[1;33m\u001b[0m\u001b[0m\n",
      "\u001b[1;31mRuntimeError\u001b[0m: Expected object of type torch.FloatTensor but found type torch.LongTensor for argument #2 'other'"
     ]
    }
   ],
   "source": [
    "action_space_size = 3\n",
    "input_size = action_space_size + 3 #+3 is observation, previous reward, and timestep,\n",
    "require_saccade = True\n",
    "model = PPO()\n",
    "\n",
    "env = BanditsEnv(require_central_saccade=require_saccade)\n",
    "# data, score = run_episode(env)\n",
    "\n",
    "\n",
    "batch = []\n",
    "score = 0\n",
    "print_interval = 20\n",
    "\n",
    "for n_epi in range(2000):\n",
    "    env = generate_bandit_env(require_central_saccade=True)\n",
    "    data, ep_score = run_episode(env)\n",
    "    batch.append(data)\n",
    "    score += ep_score\n",
    "        \n",
    "    if n_epi%5 == 4:\n",
    "        batch = model.calc_advantage(batch)\n",
    "        model.train_net(batch)\n",
    "        batch = []\n",
    "    if n_epi%print_interval==0 and n_epi!=0:\n",
    "        print(\"# of episode :{}, avg score : {:.1f}, opt step: {}\".format(n_epi, score/print_interval, model.optimization_step))\n",
    "        score = 0.0\n",
    "\n",
    "env.close()"
   ]
  },
  {
   "cell_type": "code",
   "execution_count": 111,
   "metadata": {},
   "outputs": [],
   "source": [
    "torch.save({\n",
    "    'episode': 2000,\n",
    "    'optimization_steps': 20000,\n",
    "    'model_state_dict': model.state_dict(),\n",
    "    'optimizer_state_dict': model.optimizer.state_dict()\n",
    "}, 'saves/metalearner_experiment0b')"
   ]
  },
  {
   "cell_type": "code",
   "execution_count": 121,
   "metadata": {},
   "outputs": [
    {
     "name": "stdout",
     "output_type": "stream",
     "text": [
      "17\n",
      "34\n"
     ]
    },
    {
     "data": {
      "text/plain": [
       "<matplotlib.legend.Legend at 0x1b69006f248>"
      ]
     },
     "execution_count": 121,
     "metadata": {},
     "output_type": "execute_result"
    },
    {
     "data": {
      "image/png": "[encoded data removed]",
      "text/plain": [
       "<Figure size 432x288 with 1 Axes>"
      ]
     },
     "metadata": {
      "needs_background": "light"
     },
     "output_type": "display_data"
    }
   ],
   "source": [
    "test_setups = [np.array([0.25, 0.75]), np.array([0.75, 0.25])]\n",
    "test_results = []\n",
    "\n",
    "with torch.no_grad():\n",
    "    for rew_prob in test_setups:\n",
    "        env = BanditsEnv(reward_probabilities=rew_prob, require_central_saccade=True)\n",
    "        data, score = run_episode(env)\n",
    "        test_results.append(data[1])\n",
    "        print(score)               \n",
    "\n",
    "\n",
    "for i, res in enumerate(test_results):\n",
    "    plt.scatter(np.arange(0, len(res)), res, label=f'arm1={test_setups[i][0]}', alpha=0.7)\n",
    "    \n",
    "plt.legend()"
   ]
  },
  {
   "cell_type": "code",
   "execution_count": null,
   "metadata": {},
   "outputs": [],
   "source": []
  }
 ],
 "metadata": {
  "kernelspec": {
   "display_name": "Python 3 (ipykernel)",
   "language": "python",
   "name": "python3"
  },
  "language_info": {
   "codemirror_mode": {
    "name": "ipython",
    "version": 3
   },
   "file_extension": ".py",
   "mimetype": "text/x-python",
   "name": "python",
   "nbconvert_exporter": "python",
   "pygments_lexer": "ipython3",
   "version": "3.7.10"
  }
 },
 "nbformat": 4,
 "nbformat_minor": 4
}
