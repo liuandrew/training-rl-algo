{
 "cells": [
  {
   "cell_type": "code",
   "execution_count": 2,
   "id": "350d08c2-581d-4ed0-bbd4-bb5771d0f7b8",
   "metadata": {},
   "outputs": [],
   "source": [
    "import gym\n",
    "from gym import spaces\n",
    "import numpy as np\n",
    "import random\n",
    "\n",
    "class BalloonGame(gym.Env):\n",
    "    def __init__(self):\n",
    "        super(BalloonGame, self).__init__()\n",
    "\n",
    "        self.colors = {\n",
    "            \"red\": {\"mean\": 10},\n",
    "            \"yellow\": {\"mean\": 20},\n",
    "            \"orange\": {\"mean\": 30},\n",
    "            \"gray\": {\"fixed_reward\": 0},\n",
    "            \"purple\": {\"fixed_reward\": 1}\n",
    "        }\n",
    "\n",
    "        self.observation_space = spaces.Tuple((\n",
    "            spaces.Discrete(len(self.colors)),  # Color index\n",
    "            spaces.Box(low=0, high=100, shape=(1,), dtype=np.float32),  # Current size\n",
    "            spaces.Discrete(2)  # Previous action\n",
    "        ))\n",
    "\n",
    "        self.action_space = spaces.Discrete(2)  # 0: do nothing, 1: hold inflate button\n",
    "\n",
    "        self.prev_action = None\n",
    "\n",
    "    def reset(self):\n",
    "        self.current_color = random.choice(list(self.colors.keys()))\n",
    "        self.current_size = 0.0\n",
    "        self.prev_action = 0\n",
    "\n",
    "        return (list(self.colors.keys()).index(self.current_color), self.current_size, self.prev_action)\n",
    "\n",
    "    def step(self, action):\n",
    "        done = False\n",
    "        reward = 0\n",
    "\n",
    "        if action == 1:  # Hold inflate button\n",
    "            inflation_speed = 1 + random.gauss(0, 0.1)  # Add noise to the inflation speed\n",
    "            self.current_size += inflation_speed\n",
    "\n",
    "            if self.current_color in [\"red\", \"yellow\", \"orange\"]:\n",
    "                pop_probability = min(self.current_size / self.colors[self.current_color][\"mean\"], 1)\n",
    "                if random.random() < pop_probability:\n",
    "                    self.current_size = 0  # Balloon pops\n",
    "                    done = True\n",
    "            elif self.current_color in [\"gray\", \"purple\"]:\n",
    "                if self.current_size >= 20:  # Fixed size for passive trials\n",
    "                    self.current_size = 20\n",
    "\n",
    "        else:  # Action 0: stop inflating\n",
    "            if self.current_color in [\"red\", \"yellow\", \"orange\"]:\n",
    "                reward = self.current_size\n",
    "            elif self.current_color in [\"gray\", \"purple\"]:\n",
    "                reward = self.colors[self.current_color][\"fixed_reward\"]\n",
    "\n",
    "            done = True\n",
    "\n",
    "        self.prev_action = action\n",
    "        return (list(self.colors.keys()).index(self.current_color), self.current_size, self.prev_action), reward, done, {}\n"
   ]
  },
  {
   "cell_type": "code",
   "execution_count": 3,
   "id": "40ebf856-5179-4d80-b388-cfb31806ae34",
   "metadata": {},
   "outputs": [
    {
     "data": {
      "application/vnd.jupyter.widget-view+json": {
       "model_id": "41cdd2898f104fc28b63d4b8a1c42af8",
       "version_major": 2,
       "version_minor": 0
      },
      "text/plain": [
       "Button(description='Inflate (Action 1)', style=ButtonStyle())"
      ]
     },
     "metadata": {},
     "output_type": "display_data"
    },
    {
     "data": {
      "application/vnd.jupyter.widget-view+json": {
       "model_id": "6c904308f30b4827959bce2a8a472a3d",
       "version_major": 2,
       "version_minor": 0
      },
      "text/plain": [
       "Button(description='Stop (Action 0)', style=ButtonStyle())"
      ]
     },
     "metadata": {},
     "output_type": "display_data"
    },
    {
     "name": "stdout",
     "output_type": "stream",
     "text": [
      "Initial observation: (0, 0.0, 0)\n"
     ]
    }
   ],
   "source": [
    "import ipywidgets as widgets\n",
    "from IPython.display import display, clear_output\n",
    "\n",
    "env = BalloonGame()\n",
    "\n",
    "def reset_env():\n",
    "    global env\n",
    "    obs = env.reset()\n",
    "    print(f\"Initial observation: {obs}\")\n",
    "\n",
    "def step_env(action):\n",
    "    global env\n",
    "    obs, reward, done, info = env.step(action)\n",
    "    print(f\"Observation: {obs}, Reward: {reward}, Done: {done}, Info: {info}\")\n",
    "    \n",
    "    if done:\n",
    "        reset_env()\n",
    "\n",
    "def on_inflate_button_click(b):\n",
    "    step_env(1)\n",
    "\n",
    "def on_stop_button_click(b):\n",
    "    step_env(0)\n",
    "\n",
    "inflate_button = widgets.Button(description=\"Inflate (Action 1)\")\n",
    "inflate_button.on_click(on_inflate_button_click)\n",
    "\n",
    "stop_button = widgets.Button(description=\"Stop (Action 0)\")\n",
    "stop_button.on_click(on_stop_button_click)\n",
    "\n",
    "display(inflate_button, stop_button)\n",
    "\n",
    "reset_env()"
   ]
  },
  {
   "cell_type": "code",
   "execution_count": 6,
   "id": "87019f56-e2b4-4365-af9b-f28d7206ca68",
   "metadata": {},
   "outputs": [
    {
     "data": {
      "application/vnd.jupyter.widget-view+json": {
       "model_id": "e193d1c35fb3413ba76aae4ff3e87532",
       "version_major": 2,
       "version_minor": 0
      },
      "text/plain": [
       "Button(description='Inflate (Action 1)', style=ButtonStyle())"
      ]
     },
     "metadata": {},
     "output_type": "display_data"
    },
    {
     "data": {
      "application/vnd.jupyter.widget-view+json": {
       "model_id": "ce431c99f9084dacaf13e7ee5e24dfc7",
       "version_major": 2,
       "version_minor": 0
      },
      "text/plain": [
       "Button(description='Stop (Action 0)', style=ButtonStyle())"
      ]
     },
     "metadata": {},
     "output_type": "display_data"
    },
    {
     "data": {
      "application/vnd.jupyter.widget-view+json": {
       "model_id": "57f86d26fbcc41d99524df63a1f1ac76",
       "version_major": 2,
       "version_minor": 0
      },
      "text/plain": [
       "Output()"
      ]
     },
     "metadata": {},
     "output_type": "display_data"
    }
   ],
   "source": [
    "import ipywidgets as widgets\n",
    "from IPython.display import display\n",
    "\n",
    "env = BalloonGame()\n",
    "output = widgets.Output()\n",
    "\n",
    "def reset_env():\n",
    "    global env\n",
    "    obs = env.reset()\n",
    "    with output:\n",
    "        print(f\"Initial observation: {obs}\")\n",
    "\n",
    "def step_env(action):\n",
    "    global env\n",
    "    obs, reward, done, info = env.step(action)\n",
    "    \n",
    "    with output:\n",
    "        print(f\"Observation: {obs}, Reward: {reward}, Done: {done}, Info: {info}\")\n",
    "    \n",
    "    if done:\n",
    "        reset_env()\n",
    "\n",
    "def on_inflate_button_click(b):\n",
    "    step_env(1)\n",
    "\n",
    "def on_stop_button_click(b):\n",
    "    step_env(0)\n",
    "\n",
    "inflate_button = widgets.Button(description=\"Inflate (Action 1)\")\n",
    "inflate_button.on_click(on_inflate_button_click)\n",
    "\n",
    "stop_button = widgets.Button(description=\"Stop (Action 0)\")\n",
    "stop_button.on_click(on_stop_button_click)\n",
    "\n",
    "display(inflate_button, stop_button, output)\n",
    "\n",
    "reset_env()"
   ]
  }
 ],
 "metadata": {
  "kernelspec": {
   "display_name": "Python 3 (ipykernel)",
   "language": "python",
   "name": "python3"
  },
  "language_info": {
   "codemirror_mode": {
    "name": "ipython",
    "version": 3
   },
   "file_extension": ".py",
   "mimetype": "text/x-python",
   "name": "python",
   "nbconvert_exporter": "python",
   "pygments_lexer": "ipython3",
   "version": "3.9.12"
  }
 },
 "nbformat": 4,
 "nbformat_minor": 5
}
