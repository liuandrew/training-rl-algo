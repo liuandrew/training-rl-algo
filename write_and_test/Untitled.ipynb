{
 "cells": [
  {
   "cell_type": "code",
   "execution_count": 159,
   "id": "732054d1-2e64-4fd0-a354-adfd22c97a94",
   "metadata": {},
   "outputs": [],
   "source": [
    "import sys\n",
    "sys.path.append('..')\n",
    "from a2c_ppo_acktr import algo, utils\n",
    "import gym\n",
    "import numpy as np\n",
    "import torch\n",
    "import torch.nn as nn\n",
    "import torch.nn.functional as F\n",
    "import torch.optim as optim\n",
    "from torch.utils.tensorboard import SummaryWriter\n",
    "from evaluation import evaluate\n",
    "from tqdm import tqdm\n",
    "\n",
    "import matplotlib.pyplot as plt\n",
    "    \n",
    "%run model_evaluation\n",
    "\n",
    "from a2c_ppo_acktr.storage import RolloutStorage\n",
    "from a2c_ppo_acktr.envs import make_vec_envs\n",
    "from a2c_ppo_acktr import algo, utils\n",
    "from  a2c_ppo_acktr.model import Policy\n",
    "import torch\n",
    "\n",
    "import proplot as pplt\n",
    "from collections import defaultdict\n",
    "\n",
    "from sklearn.metrics.pairwise import cosine_similarity\n",
    "'''\n",
    "First 4 parameters are for shared recurrent layer. Can freeze these by setting\n",
    "requires_grad = False\n",
    "'''\n",
    "\n",
    "def populate_rollouts(model, envs, rollouts, num_steps, seed=None, deterministic=False):\n",
    "    if seed != None:\n",
    "        torch.manual_seed(seed)\n",
    "\n",
    "    for step in range(num_steps):\n",
    "        #Generate rollouts for num_steps batch\n",
    "        with torch.no_grad():\n",
    "            outputs = model.act(rollouts.obs[step], rollouts.recurrent_hidden_states[step],\n",
    "                                rollouts.masks[step])\n",
    "            action = outputs['action']\n",
    "            value = outputs['value']\n",
    "            action_log_prob = outputs['action_log_probs']\n",
    "            recurrent_hidden_states = outputs['rnn_hxs']\n",
    "            auxiliary_preds = outputs['auxiliary_preds']\n",
    "\n",
    "        obs, reward, done, infos = envs.step(action)\n",
    "        # if (reward != 0).any():\n",
    "        #     print(reward, done, infos)\n",
    "        masks = torch.FloatTensor([[0.0] if done_ else [1.0] for done_ in done])\n",
    "        bad_masks = torch.FloatTensor([[0.0] if 'bad_transition' in info.keys() else [1.0] for info in infos])\n",
    "        \n",
    "        auxiliary_truths = []\n",
    "        for info in infos:\n",
    "            if 'auxiliary' in info:\n",
    "                if len(info['auxiliary'] > 0):\n",
    "                    auxiliary_truths.append(info['auxiliary'])\n",
    "        if len(auxiliary_truths) > 0:\n",
    "            auxiliary_truths = torch.tensor(np.vstack(auxiliary_truths))\n",
    "        else:\n",
    "            auxiliary_truths = None\n",
    "\n",
    "        rollouts.insert(obs, recurrent_hidden_states, action, action_log_prob, value, reward, masks, bad_masks,\n",
    "                        auxiliary_preds, auxiliary_truths)\n",
    "        \n",
    "def clone_rollouts(copy, paste, num_steps, start=0, copy_first=True):\n",
    "    if copy_first:\n",
    "        #Copy the first steps of storage types that need it\n",
    "        paste.obs[0].copy_(copy.obs[start])\n",
    "        paste.recurrent_hidden_states[0].copy_(copy.recurrent_hidden_states[start])\n",
    "        paste.masks[0].copy_(copy.masks[start])\n",
    "        paste.bad_masks[0].copy_(copy.bad_masks[start])\n",
    "        \n",
    "    for step in range(num_steps):\n",
    "        obs = copy.obs[step+start+1]\n",
    "        recurrent_hidden_states = copy.recurrent_hidden_states[step+start+1]\n",
    "        action = copy.actions[step+start]\n",
    "        action_log_prob = copy.action_log_probs[step+start]\n",
    "        value = copy.value_preds[step+start]\n",
    "        reward = copy.rewards[step+start]\n",
    "        masks = copy.masks[step+start+1]\n",
    "        bad_masks = copy.bad_masks[step+start+1]\n",
    "        paste.insert(obs, recurrent_hidden_states, action, action_log_prob, value, reward, masks, bad_masks)\n",
    "\n",
    "        \n",
    "def update_model(agent, rollouts, use_gae=False, gamma=0.99, gae_lambda=0.95,\n",
    "                 after_update=True):\n",
    "    \n",
    "    #Compute last value to be used for the update\n",
    "    with torch.no_grad():\n",
    "        next_value = agent.actor_critic.get_value(rollouts.obs[-1], rollouts.recurrent_hidden_states[-1],\n",
    "                                            rollouts.masks[-1]).detach()\n",
    "    \n",
    "    rollouts.compute_returns(next_value, use_gae, gamma, gae_lambda)\n",
    "    value_loss, action_loss, dist_entropy, approx_kl, clipfracs, auxiliary_loss = agent.update(rollouts)\n",
    "    \n",
    "    if after_update:\n",
    "        rollouts.after_update()\n",
    "        \n",
    "    return value_loss, action_loss, dist_entropy, approx_kl, clipfracs, auxiliary_loss\n",
    "\n",
    "\n",
    "\n",
    "def initialize_ppo_training(model=None, obs_rms=None, env_name='NavEnv-v0', env_kwargs={},\n",
    "                            nn_base='FlexBase', nn_base_kwargs={}, recurrent=True,\n",
    "                            num_steps=10, num_processes=1, seed=0, ppo_epoch=4, clip_param=0.5,\n",
    "                            num_mini_batch=1, value_loss_coef=0.5, entropy_coef=0.01, \n",
    "                            auxiliary_loss_coef=0.3, gamma=0.99, lr=7e-4, eps=1e-5, max_grad_norm=0.5,\n",
    "                            log_dir='/tmp/gym/', device=torch.device('cpu'), \n",
    "                            capture_video=False, take_optimizer_step=True,\n",
    "                            normalize=True):\n",
    "    \n",
    "    #Initialize vectorized environments\n",
    "    # envs = make_vec_envs(env_name, seed, num_processes, gamma, log_dir, device, False,\n",
    "    #                      capture_video=capture_video, env_kwargs=env_kwargs)\n",
    "    \n",
    "    env = gym.make('NavEnv-v0', **env_kwargs)\n",
    "\n",
    "    if model is None:\n",
    "        model = Policy(env.observation_space.shape,\n",
    "                       env.action_space,\n",
    "                       base='FlexBase',\n",
    "                       base_kwargs={'recurrent': recurrent,\n",
    "                           **nn_base_kwargs})\n",
    "        model.to(device)\n",
    "    \n",
    "    #Wrap model with an agent algorithm object\n",
    "    # agent = algo.PPO(model, clip_param, ppo_epoch, num_mini_batch,\n",
    "    agent = LoudPPO(model, clip_param, ppo_epoch, num_mini_batch,\n",
    "                     value_loss_coef, entropy_coef, auxiliary_loss_coef, lr=lr,\n",
    "                     eps=eps, max_grad_norm=max_grad_norm,\n",
    "                     take_optimizer_step=take_optimizer_step)\n",
    "\n",
    "    #Initialize storage\n",
    "    rollouts = RolloutStorage(num_steps, num_processes, env.observation_space.shape, env.action_space,\n",
    "                              model.recurrent_hidden_state_size, model.auxiliary_output_size)\n",
    "    #Storage objects initializes a bunch of empty tensors to store information, e.g.\n",
    "    #obs has shape (num_steps+1, num_processes, obs_shape)\n",
    "    #rewards has shape (num_steps, num_processes, 1)\n",
    "    \n",
    "    envs = make_vec_envs(env_name, seed, num_processes, gamma, log_dir, device, False,\n",
    "                         capture_video=capture_video, env_kwargs=env_kwargs)\n",
    "    #If loading a previously trained model, pass an obs_rms object to set the vec envs to use\n",
    "    \n",
    "    if normalize:\n",
    "        vec_norm = utils.get_vec_normalize(envs)\n",
    "        if vec_norm is not None and obs_rms is not None:\n",
    "            vec_norm.obs_rms = obs_rms\n",
    "\n",
    "        \n",
    "    #obs, recurrent_hidden_states, value_preds, returns all have batch size num_steps+1\n",
    "    #rewards, action_log_probs, actions, masks, auxiliary_preds, auxiliary_truths all have batch size num_steps\n",
    "    obs = envs.reset()\n",
    "    rollouts.obs[0].copy_(obs)\n",
    "    rollouts.to(device)\n",
    "    \n",
    "    return agent, envs, rollouts\n",
    "\n",
    "\n",
    "\n",
    "def collect_batches_and_grads(agent, envs, rollouts, num_batches=1, seed=None, num_layers=None,\n",
    "                             decompose_grads=False):\n",
    "    rewarded = []\n",
    "    value_losses = []\n",
    "    action_losses = []\n",
    "    num_rewards = []\n",
    "    value_diffs = []\n",
    "\n",
    "    params = list(agent.actor_critic.base.parameters())\n",
    "    if num_layers == None:\n",
    "        num_layers = len(list(params))\n",
    "\n",
    "    if decompose_grads:\n",
    "        grad_types = ['value', 'action', 'auxiliary', 'entropy']\n",
    "        all_grads = {name: [] for name in grad_types}\n",
    "        for name in grad_types:\n",
    "            for i in range(num_layers):\n",
    "                all_grads[name].append([])\n",
    "    else:\n",
    "        all_grads = []\n",
    "        for i in range(num_layers):\n",
    "            all_grads.append([])\n",
    "        \n",
    "    \n",
    "    for n in range(num_batches):\n",
    "        populate_rollouts(agent.actor_critic, envs, rollouts, rollouts.num_steps, seed=seed)\n",
    "        \n",
    "        agent.optimizer.zero_grad()\n",
    "        next_value = agent.actor_critic.get_value(rollouts.obs[-1], rollouts.recurrent_hidden_states[-1],\n",
    "                                     rollouts.masks[-1]).detach()\n",
    "        rollouts.compute_returns(next_value, False, 0.99, 0.95)\n",
    "        \n",
    "        \n",
    "        if decompose_grads:\n",
    "            value_loss, action_loss, dist_entropy, approx_kl, clipfracs, auxiliary_loss, \\\n",
    "                grads = agent.update(rollouts)\n",
    "            \n",
    "            for name in grad_types:\n",
    "                for i in range(num_layers):\n",
    "                    all_grads[name][i].append(grads[name][i])\n",
    "        else:\n",
    "            value_loss, action_loss, dist_entropy, approx_kl, clipfracs, auxiliary_loss = agent.update(rollouts)\n",
    "\n",
    "            for i in range(num_layers):\n",
    "                all_grads[i].append(params[i].grad.clone())\n",
    "            \n",
    "        rew = rollouts.rewards\n",
    "        rewarded.append((rew != 0).any().item())\n",
    "        num_rewards.append(len(rew[rew != 0]))\n",
    "        value_losses.append(value_loss)\n",
    "        action_losses.append(action_loss)\n",
    "        \n",
    "        value_diff = torch.sum(rollouts.returns - rollouts.value_preds)\n",
    "        value_diffs.append(value_diff.item())\n",
    "        rollouts.after_update()\n",
    "    \n",
    "    return {\n",
    "        'all_grads': all_grads,\n",
    "        'rewarded': rewarded,\n",
    "        'value_losses': value_losses,\n",
    "        'action_losses': action_losses,\n",
    "        'rewards': num_rewards,\n",
    "        'value_diff': value_diffs\n",
    "    }"
   ]
  },
  {
   "cell_type": "code",
   "execution_count": 90,
   "id": "c41f8b16-ca46-404c-a8fb-05ec894c2def",
   "metadata": {},
   "outputs": [],
   "source": [
    "class LoudPPO():\n",
    "    '''\n",
    "    Variation on our trainer object that allows for printing of \n",
    "    some debugging information and more importantly allows us to compute\n",
    "    gradients without taking the actual update step to network weights\n",
    "    '''\n",
    "    def __init__(self,\n",
    "                 actor_critic,\n",
    "                 clip_param,\n",
    "                 ppo_epoch,\n",
    "                 num_mini_batch,\n",
    "                 value_loss_coef,\n",
    "                 entropy_coef,\n",
    "                 auxiliary_loss_coef=0,\n",
    "                 lr=None,\n",
    "                 eps=None,\n",
    "                 max_grad_norm=None,\n",
    "                 use_clipped_value_loss=True,\n",
    "                 verbose=False,\n",
    "                 take_optimizer_step=True):\n",
    "\n",
    "        self.actor_critic = actor_critic\n",
    "\n",
    "        self.clip_param = clip_param\n",
    "        self.ppo_epoch = ppo_epoch\n",
    "        self.num_mini_batch = num_mini_batch\n",
    "\n",
    "        self.value_loss_coef = value_loss_coef\n",
    "        self.entropy_coef = entropy_coef\n",
    "        self.auxiliary_loss_coef = auxiliary_loss_coef\n",
    "\n",
    "        self.max_grad_norm = max_grad_norm\n",
    "        self.use_clipped_value_loss = use_clipped_value_loss\n",
    "\n",
    "        self.optimizer = optim.Adam(actor_critic.parameters(), lr=lr, eps=eps)\n",
    "        \n",
    "        #Additional parameter that allows us to skip taking optimizer step so that\n",
    "        #we can keep trajectories same for different batch sizes\n",
    "        self.take_optimizer_step = take_optimizer_step\n",
    "        self.verbose = verbose\n",
    "\n",
    "    def update(self, rollouts):\n",
    "        advantages = rollouts.returns[:-1] - rollouts.value_preds[:-1]\n",
    "        advantages = (advantages - advantages.mean()) / (\n",
    "            advantages.std() + 1e-5)\n",
    "\n",
    "        value_loss_epoch = 0\n",
    "        action_loss_epoch = 0\n",
    "        dist_entropy_epoch = 0\n",
    "        auxiliary_loss_epoch = 0\n",
    "\n",
    "        clipfracs = []\n",
    "        explained_vars = []\n",
    "        \n",
    "        num_update_steps = 0\n",
    "        for e in range(self.ppo_epoch):\n",
    "            if self.actor_critic.is_recurrent:\n",
    "                data_generator = rollouts.recurrent_generator(\n",
    "                    advantages, self.num_mini_batch)\n",
    "            else:\n",
    "                data_generator = rollouts.feed_forward_generator(\n",
    "                    advantages, self.num_mini_batch)\n",
    "\n",
    "            for sample in data_generator:\n",
    "                num_update_steps += 1\n",
    "                if self.verbose:\n",
    "                    print(num_update_steps)\n",
    "                obs_batch, recurrent_hidden_states_batch, actions_batch, \\\n",
    "                   value_preds_batch, return_batch, masks_batch, old_action_log_probs_batch, \\\n",
    "                    adv_targ, auxiliary_pred_batch, auxiliary_truth_batch = sample\n",
    "\n",
    "                # Reshape to do in a single forward pass for all steps\n",
    "                values, action_log_probs, dist_entropy, _, auxiliary_preds = self.actor_critic.evaluate_actions(\n",
    "                    obs_batch, recurrent_hidden_states_batch, masks_batch,\n",
    "                    actions_batch)\n",
    "\n",
    "                logratio = action_log_probs - old_action_log_probs_batch \n",
    "                ratio = torch.exp(logratio)\n",
    "                surr1 = ratio * adv_targ\n",
    "                surr2 = torch.clamp(ratio, 1.0 - self.clip_param,\n",
    "                                    1.0 + self.clip_param) * adv_targ\n",
    "                action_loss = -torch.min(surr1, surr2).mean()\n",
    "\n",
    "                #Andy: compute approx kl\n",
    "                with torch.no_grad():\n",
    "                    # old_approx_kl = (-logratio).mean()\n",
    "                    approx_kl = ((ratio - 1) - logratio).mean()\n",
    "                    clipfracs += [\n",
    "                        ((ratio - 1.0).abs() > self.clip_param).float().mean().item()\n",
    "                    ]\n",
    "\n",
    "                if self.use_clipped_value_loss:\n",
    "                    value_pred_clipped = value_preds_batch + \\\n",
    "                        (values - value_preds_batch).clamp(-self.clip_param, self.clip_param)\n",
    "                    value_losses = (values - return_batch).pow(2)\n",
    "                    value_losses_clipped = (\n",
    "                        value_pred_clipped - return_batch).pow(2)\n",
    "                    value_loss = 0.5 * torch.max(value_losses,\n",
    "                                                 value_losses_clipped).mean()\n",
    "                else:\n",
    "                    value_loss = 0.5 * (return_batch - values).pow(2).mean()\n",
    "                \n",
    "                if self.actor_critic.has_auxiliary:\n",
    "                    auxiliary_loss = 0.5 * (auxiliary_truth_batch - auxiliary_preds).pow(2).mean()\n",
    "                else:\n",
    "                    auxiliary_loss = torch.zeros(1)\n",
    "                # print(auxiliary_truth_batch, auxiliary_preds, auxiliary_loss)\n",
    "\n",
    "\n",
    "                self.optimizer.zero_grad()\n",
    "                (value_loss * self.value_loss_coef + action_loss + \n",
    "                 auxiliary_loss * self.auxiliary_loss_coef -\n",
    "                 dist_entropy * self.entropy_coef).backward()\n",
    "                nn.utils.clip_grad_norm_(self.actor_critic.parameters(),\n",
    "                                         self.max_grad_norm)\n",
    "                if self.take_optimizer_step:\n",
    "                    self.optimizer.step()\n",
    "\n",
    "                value_loss_epoch += value_loss.item()\n",
    "                action_loss_epoch += action_loss.item()\n",
    "                dist_entropy_epoch += dist_entropy.item()\n",
    "                auxiliary_loss_epoch += auxiliary_loss.item()\n",
    "\n",
    "        num_updates = self.ppo_epoch * self.num_mini_batch\n",
    "\n",
    "        value_loss_epoch /= num_updates\n",
    "        action_loss_epoch /= num_updates\n",
    "        dist_entropy_epoch /= num_updates\n",
    "\n",
    "\n",
    "\n",
    "        return value_loss_epoch, action_loss_epoch, dist_entropy_epoch, \\\n",
    "            approx_kl, clipfracs, auxiliary_loss_epoch\n",
    "\n",
    "    \n",
    "    \n",
    "class DecomposeGradPPO():\n",
    "    '''\n",
    "    Variation on our trainer object that further keeps track of grads induced\n",
    "    by each individual loss and returns them on the update function\n",
    "    Note this is going to assume that we only have one single ppo_epoch and one\n",
    "    minibatch \n",
    "    '''\n",
    "    def __init__(self,\n",
    "                 actor_critic,\n",
    "                 clip_param,\n",
    "                 ppo_epoch,\n",
    "                 num_mini_batch,\n",
    "                 value_loss_coef,\n",
    "                 entropy_coef,\n",
    "                 auxiliary_loss_coef=0,\n",
    "                 lr=None,\n",
    "                 eps=None,\n",
    "                 max_grad_norm=None,\n",
    "                 use_clipped_value_loss=True,\n",
    "                 verbose=False,\n",
    "                 take_optimizer_step=True):\n",
    "\n",
    "        self.actor_critic = actor_critic\n",
    "\n",
    "        self.clip_param = clip_param\n",
    "        self.ppo_epoch = ppo_epoch\n",
    "        self.num_mini_batch = num_mini_batch\n",
    "\n",
    "        self.value_loss_coef = value_loss_coef\n",
    "        self.entropy_coef = entropy_coef\n",
    "        self.auxiliary_loss_coef = auxiliary_loss_coef\n",
    "\n",
    "        self.max_grad_norm = max_grad_norm\n",
    "        self.use_clipped_value_loss = use_clipped_value_loss\n",
    "\n",
    "        self.optimizer = optim.Adam(actor_critic.parameters(), lr=lr, eps=eps)\n",
    "        \n",
    "        #Additional parameter that allows us to skip taking optimizer step so that\n",
    "        #we can keep trajectories same for different batch sizes\n",
    "        self.take_optimizer_step = take_optimizer_step\n",
    "        self.verbose = verbose\n",
    "\n",
    "    def update(self, rollouts):\n",
    "        advantages = rollouts.returns[:-1] - rollouts.value_preds[:-1]\n",
    "        advantages = (advantages - advantages.mean()) / (\n",
    "            advantages.std() + 1e-5)\n",
    "\n",
    "        value_loss_epoch = 0\n",
    "        action_loss_epoch = 0\n",
    "        dist_entropy_epoch = 0\n",
    "        auxiliary_loss_epoch = 0\n",
    "\n",
    "        clipfracs = []\n",
    "        explained_vars = []\n",
    "        \n",
    "        num_update_steps = 0\n",
    "        for e in range(self.ppo_epoch):\n",
    "            if self.actor_critic.is_recurrent:\n",
    "                data_generator = rollouts.recurrent_generator(\n",
    "                    advantages, self.num_mini_batch)\n",
    "            else:\n",
    "                data_generator = rollouts.feed_forward_generator(\n",
    "                    advantages, self.num_mini_batch)\n",
    "\n",
    "            for sample in data_generator:\n",
    "                num_update_steps += 1\n",
    "                if self.verbose:\n",
    "                    print(num_update_steps)\n",
    "                obs_batch, recurrent_hidden_states_batch, actions_batch, \\\n",
    "                   value_preds_batch, return_batch, masks_batch, old_action_log_probs_batch, \\\n",
    "                    adv_targ, auxiliary_pred_batch, auxiliary_truth_batch = sample\n",
    "\n",
    "                # Reshape to do in a single forward pass for all steps\n",
    "                values, action_log_probs, dist_entropy, _, auxiliary_preds = self.actor_critic.evaluate_actions(\n",
    "                    obs_batch, recurrent_hidden_states_batch, masks_batch,\n",
    "                    actions_batch)\n",
    "\n",
    "                logratio = action_log_probs - old_action_log_probs_batch \n",
    "                ratio = torch.exp(logratio)\n",
    "                surr1 = ratio * adv_targ\n",
    "                surr2 = torch.clamp(ratio, 1.0 - self.clip_param,\n",
    "                                    1.0 + self.clip_param) * adv_targ\n",
    "                action_loss = -torch.min(surr1, surr2).mean()\n",
    "\n",
    "                #Andy: compute approx kl\n",
    "                with torch.no_grad():\n",
    "                    # old_approx_kl = (-logratio).mean()\n",
    "                    approx_kl = ((ratio - 1) - logratio).mean()\n",
    "                    clipfracs += [\n",
    "                        ((ratio - 1.0).abs() > self.clip_param).float().mean().item()\n",
    "                    ]\n",
    "\n",
    "                if self.use_clipped_value_loss:\n",
    "                    value_pred_clipped = value_preds_batch + \\\n",
    "                        (values - value_preds_batch).clamp(-self.clip_param, self.clip_param)\n",
    "                    value_losses = (values - return_batch).pow(2)\n",
    "                    value_losses_clipped = (\n",
    "                        value_pred_clipped - return_batch).pow(2)\n",
    "                    value_loss = 0.5 * torch.max(value_losses,\n",
    "                                                 value_losses_clipped).mean()\n",
    "                else:\n",
    "                    value_loss = 0.5 * (return_batch - values).pow(2).mean()\n",
    "                \n",
    "                if self.actor_critic.has_auxiliary:\n",
    "                    auxiliary_loss = 0.5 * (auxiliary_truth_batch - auxiliary_preds).pow(2).mean()\n",
    "                else:\n",
    "                    auxiliary_loss = torch.zeros(1)\n",
    "                # print(auxiliary_truth_batch, auxiliary_preds, auxiliary_loss)\n",
    "\n",
    "\n",
    "                # (value_loss * self.value_loss_coef + action_loss + \n",
    "                #  auxiliary_loss * self.auxiliary_loss_coef -\n",
    "                #  dist_entropy * self.entropy_coef).backward()             \n",
    "                params = list(self.actor_critic.parameters())\n",
    "                num_param_layers = len(params)\n",
    "\n",
    "                loss_names = ['value', 'action', 'auxiliary', 'entropy']\n",
    "                losses = [\n",
    "                    value_loss*self.value_loss_coef,\n",
    "                    action_loss,\n",
    "                    auxiliary_loss*self.auxiliary_loss_coef,\n",
    "                    -dist_entropy\n",
    "                ]\n",
    "                grads = defaultdict(list)\n",
    "                \n",
    "                for i, loss in enumerate(losses):\n",
    "                    name = loss_names[i]\n",
    "                    self.optimizer.zero_grad()\n",
    "                    if loss.grad_fn != None:\n",
    "                        loss.backward(retain_graph=True)\n",
    "                    for param in params:\n",
    "                        if param.grad == None:\n",
    "                            grad = torch.zeros(param.shape)\n",
    "                        else:\n",
    "                            grad = param.grad.clone()\n",
    "                        grads[name].append(grad)\n",
    "                                \n",
    "                nn.utils.clip_grad_norm_(self.actor_critic.parameters(),\n",
    "                                         self.max_grad_norm)\n",
    "                if self.take_optimizer_step:\n",
    "                    self.optimizer.step()\n",
    "\n",
    "                value_loss_epoch += value_loss.item()\n",
    "                action_loss_epoch += action_loss.item()\n",
    "                dist_entropy_epoch += dist_entropy.item()\n",
    "                auxiliary_loss_epoch += auxiliary_loss.item()\n",
    "\n",
    "        num_updates = self.ppo_epoch * self.num_mini_batch\n",
    "\n",
    "        value_loss_epoch /= num_updates\n",
    "        action_loss_epoch /= num_updates\n",
    "        dist_entropy_epoch /= num_updates\n",
    "\n",
    "\n",
    "\n",
    "        return value_loss_epoch, action_loss_epoch, dist_entropy_epoch, \\\n",
    "            approx_kl, clipfracs, auxiliary_loss_epoch, grads"
   ]
  },
  {
   "cell_type": "code",
   "execution_count": 23,
   "id": "895c3e42-c2e5-49c4-ba07-c75899eac5d9",
   "metadata": {},
   "outputs": [
    {
     "name": "stdout",
     "output_type": "stream",
     "text": [
      "nav_poster_netstructure/nav_pdistal_width16batch200\n"
     ]
    },
    {
     "name": "stderr",
     "output_type": "stream",
     "text": [
      "100%|███████████████████████████████████████████████████████████████████████████████████| 7/7 [15:32<00:00, 133.18s/it]\n"
     ]
    }
   ],
   "source": [
    "trial_name = 'nav_pdistal_width16batch200'\n",
    "trial = 0\n",
    "checkpoint_folder = '../trained_models/checkpoint/nav_poster_netstructure/'\n",
    "model_folder ='nav_poster_netstructure/'\n",
    "\n",
    "\n",
    "path = checkpoint_folder + f'{trial_name}_t{trial}'\n",
    "# Get env_kwargs\n",
    "model_name = f'{model_folder}{trial_name}'\n",
    "print(model_name)\n",
    "_, _, kwargs = load_model_and_env(model_name, trial)\n",
    "\n",
    "checkpoints = list(Path(path).iterdir())\n",
    "\n",
    "\n",
    "\n",
    "'''Collect batch gradients for different checkpoints and batch sizes\n",
    "    Fixed 50 batches regardless of batch size so we have potentially less noise\n",
    "    in larger batches\n",
    "'''\n",
    "\n",
    "#reorder by number\n",
    "chks = [int(checkpoint.name.split('.pt')[0]) for checkpoint in checkpoints]\n",
    "chks = np.sort(np.array(chks))\n",
    "parent = checkpoints[0].parent\n",
    "\n",
    "#Override with just a few checkpoints\n",
    "chks = [0, 20, 40, 60, 80, 100, 200]\n",
    "# chks = [100]\n",
    "ordered_checkpoints = [parent/f'{chk}.pt' for chk in chks]\n",
    "\n",
    "\n",
    "batch_sizes = [8, 32, 128, 512]\n",
    "num_processes = 16\n",
    "\n",
    "all_grads = {}\n",
    "all_rewarded = {}\n",
    "all_rewards = {}\n",
    "all_value_losses = {}\n",
    "all_action_losses = {}\n",
    "all_value_diffs = {}\n",
    "\n",
    "\n",
    "env_kwargs = pickle.load(open('../trained_models/ppo/nav_poster_netstructure/nav_pdistal_width16batch200_env', 'rb'))\n",
    "envs = make_vec_envs('NavEnv-v0', 0, num_processes, 0.99, '/tmp/gym/', torch.device('cpu'),\n",
    "                    False, env_kwargs=env_kwargs)\n",
    "obs = envs.reset()\n",
    "\n",
    "for chk in chks:\n",
    "    all_grads[chk] = {batch: [] for batch in batch_sizes}\n",
    "    all_rewarded[chk] = {batch: [] for batch in batch_sizes}\n",
    "    all_rewards[chk] = {batch: [] for batch in batch_sizes}\n",
    "    all_value_losses[chk] = {batch: [] for batch in batch_sizes}\n",
    "    all_action_losses[chk] = {batch: [] for batch in batch_sizes}\n",
    "    all_value_diffs[chk] = {batch: [] for batch in batch_sizes}\n",
    "for i, checkpoint in enumerate(tqdm(ordered_checkpoints)):\n",
    "    chk = chks[i]\n",
    "    model, obs_rms = torch.load(checkpoint)\n",
    "    agent = LoudPPO(model, 0.5, 4, 1, 0.5, 0.01, 0.3, lr=7e-4, eps=1e-5, max_grad_norm=0.5,\n",
    "                    take_optimizer_step=False)\n",
    "    params = list(agent.actor_critic.base.parameters())\n",
    "\n",
    "    for batch in batch_sizes:\n",
    "        rollouts = RolloutStorage(batch, num_processes, envs.observation_space.shape, envs.action_space,\n",
    "                                  model.recurrent_hidden_state_size, model.auxiliary_output_size)\n",
    "        rollouts.obs[0].copy_(obs)\n",
    "        \n",
    "        # num_batches = collect_steps // batch\n",
    "        num_batches = 50\n",
    "        res = collect_batches_and_grads(agent, envs, rollouts, num_batches=num_batches)\n",
    "        all_grads[chk][batch] = res['all_grads']\n",
    "        all_rewarded[chk][batch] = res['rewarded']\n",
    "        all_rewards[chk][batch] = res['rewards']\n",
    "        all_value_losses[chk][batch] = res['value_losses']\n",
    "        all_action_losses[chk][batch] = res['action_losses']\n",
    "        all_value_diffs[chk][batch] = res['value_diff']\n",
    "        \n",
    "        obs = rollouts.obs[-1]\n",
    "        \n",
    "        \n",
    "        \n",
    "all_results = {\n",
    "    'all_grads': all_grads,\n",
    "    'all_rewarded': all_rewarded,\n",
    "    'all_rewards': all_rewards,\n",
    "    'all_value_losses': all_value_losses,\n",
    "    'all_action_losses': all_action_losses,\n",
    "    'all_value_diffs': all_value_diffs\n",
    "}\n",
    "pickle.dump(all_results, open('data/grads/width16t0_checkpoint_grads', 'wb'))"
   ]
  },
  {
   "cell_type": "code",
   "execution_count": 16,
   "id": "427d15fc-af46-4a41-866e-e5be1141953a",
   "metadata": {},
   "outputs": [
    {
     "data": {
      "text/plain": [
       "[<matplotlib.lines.Line2D at 0x1a2ca1ad280>]"
      ]
     },
     "execution_count": 16,
     "metadata": {},
     "output_type": "execute_result"
    },
    {
     "data": {
      "image/png": "[encoded data removed]",
      "text/plain": [
       "<Figure size 400x400 with 1 Axes>"
      ]
     },
     "metadata": {
      "image/png": {
       "height": 400,
       "width": 400
      }
     },
     "output_type": "display_data"
    }
   ],
   "source": [
    "plt.plot(rollouts.recurrent_hidden_states[:, 0, 0])"
   ]
  },
  {
   "cell_type": "code",
   "execution_count": 169,
   "id": "8e4f6af9-e2d5-4699-a268-7eebfd1ff9b5",
   "metadata": {},
   "outputs": [],
   "source": [
    "# '''Code to test DecomposeGradPPO'''\n",
    "\n",
    "# trial_name = 'nav_pdistal_width16batch200'\n",
    "# trial = 0\n",
    "# checkpoint_folder = '../trained_models/checkpoint/nav_poster_netstructure/'\n",
    "# model_folder ='nav_poster_netstructure/'\n",
    "\n",
    "\n",
    "# path = checkpoint_folder + f'{trial_name}_t{trial}'\n",
    "# # Get env_kwargs\n",
    "# model_name = f'{model_folder}{trial_name}'\n",
    "# print(model_name)\n",
    "# _, _, kwargs = load_model_and_env(model_name, trial)\n",
    "\n",
    "# checkpoints = list(Path(path).iterdir())\n",
    "# parent = checkpoints[0].parent\n",
    "\n",
    "# #Override with just a few checkpoints\n",
    "# chks = [0, 20, 40, 60, 80, 100, 200]\n",
    "# ordered_checkpoints = [parent/f'{chk}.pt' for chk in chks]\n",
    "\n",
    "# env_kwargs = pickle.load(open('../trained_models/ppo/nav_poster_netstructure/nav_pdistal_width16batch200_env', 'rb'))\n",
    "\n",
    "\n",
    "\n",
    "\n",
    "\n",
    "\n",
    "# model_name = 'nav_pdistal_widthaux/nav_pdistal_width16auxgoaldist'\n",
    "# model_name = 'nav_pdistal_widthaux/nav_pdistal_width16auxwall0'\n",
    "model_name = 'nav_poster_netstructure/nav_pdistal_width16batch200'\n",
    "num_processes = 1\n",
    "model, obs_rms, env_kwargs = load_model_and_env(model_name, 0)\n",
    "envs = make_vec_envs('NavEnv-v0', 0, num_processes, 0.99, '/tmp/gym/', torch.device('cpu'),\n",
    "                    False, env_kwargs=env_kwargs)\n",
    "obs = envs.reset()\n",
    "\n",
    "chk = 60\n",
    "batch = 128\n",
    "agent = DecomposeGradPPO(model, 0.5, 4, 1, 0.5, 0.01, 0.3, lr=7e-4, eps=1e-5, max_grad_norm=0.5,\n",
    "                    take_optimizer_step=False)\n",
    "# agent = LoudPPO(model, 0.5, 4, 1, 0.5, 0.01, 0.3, lr=7e-4, eps=1e-5, max_grad_norm=0.5,\n",
    "#                     take_optimizer_step=False)\n",
    "params = list(agent.actor_critic.base.parameters())\n",
    "\n",
    "rollouts = RolloutStorage(batch, num_processes, envs.observation_space.shape, envs.action_space,\n",
    "                          model.recurrent_hidden_state_size, model.auxiliary_output_size)\n",
    "rollouts.obs[0].copy_(obs)\n",
    "\n",
    "\n",
    "populate_rollouts(agent.actor_critic, envs, rollouts, num_steps=batch)\n",
    "obs = rollouts.obs[-1]"
   ]
  },
  {
   "cell_type": "code",
   "execution_count": 171,
   "id": "b77229f4-622d-4d99-9d21-0b1cbca01627",
   "metadata": {},
   "outputs": [
    {
     "data": {
      "text/plain": [
       "14"
      ]
     },
     "execution_count": 171,
     "metadata": {},
     "output_type": "execute_result"
    }
   ],
   "source": [
    "len(list(model.base.parameters()))"
   ]
  },
  {
   "cell_type": "code",
   "execution_count": null,
   "id": "6b441584-02d2-4574-b4fb-ba4c38db9bac",
   "metadata": {},
   "outputs": [],
   "source": []
  },
  {
   "cell_type": "code",
   "execution_count": 161,
   "id": "9a228712-cc40-40c0-9717-6fb76da465c2",
   "metadata": {},
   "outputs": [],
   "source": [
    "res = collect_batches_and_grads(agent, envs, rollouts, num_batches=5, decompose_grads=True)"
   ]
  },
  {
   "cell_type": "code",
   "execution_count": 152,
   "id": "fc1f69f4-53ac-4007-90df-d02ddd20c393",
   "metadata": {},
   "outputs": [
    {
     "data": {
      "text/plain": [
       "16"
      ]
     },
     "execution_count": 152,
     "metadata": {},
     "output_type": "execute_result"
    }
   ],
   "source": [
    "len(list(agent.actor_critic.base.parameters()))"
   ]
  },
  {
   "cell_type": "code",
   "execution_count": 111,
   "id": "16b647d9-255c-445a-8038-713a02fd6804",
   "metadata": {},
   "outputs": [],
   "source": [
    "num_steps = 5\n",
    "for step in range(num_steps):\n",
    "    #Generate rollouts for num_steps batch\n",
    "    with torch.no_grad():\n",
    "        outputs = model.act(rollouts.obs[step], rollouts.recurrent_hidden_states[step],\n",
    "                            rollouts.masks[step])\n",
    "        action = outputs['action']\n",
    "        value = outputs['value']\n",
    "        action_log_prob = outputs['action_log_probs']\n",
    "        recurrent_hidden_states = outputs['rnn_hxs']\n",
    "        auxiliary_preds = outputs['auxiliary_preds']\n",
    "\n",
    "    obs, reward, done, infos = envs.step(action)\n",
    "    # if (reward != 0).any():\n",
    "    #     print(reward, done, infos)\n",
    "    masks = torch.FloatTensor([[0.0] if done_ else [1.0] for done_ in done])\n",
    "    bad_masks = torch.FloatTensor([[0.0] if 'bad_transition' in info.keys() else [1.0] for info in infos])\n",
    "\n",
    "    auxiliary_truths = []\n",
    "    for info in infos:\n",
    "        if 'auxiliary' in info:\n",
    "            if len(info['auxiliary'] > 0):\n",
    "                auxiliary_truths.append(info['auxiliary'])\n",
    "    if len(auxiliary_truths) > 0:\n",
    "        auxiliary_truths = torch.tensor(np.vstack(auxiliary_truths))\n",
    "    else:\n",
    "        auxiliary_truths = None"
   ]
  },
  {
   "cell_type": "code",
   "execution_count": 157,
   "id": "9c67fd5c-aa8e-4a36-9f6f-de9162def380",
   "metadata": {},
   "outputs": [],
   "source": [
    "agent.optimizer.zero_grad()\n",
    "next_value = agent.actor_critic.get_value(rollouts.obs[-1], rollouts.recurrent_hidden_states[-1],\n",
    "                             rollouts.masks[-1]).detach()\n",
    "rollouts.compute_returns(next_value, False, 0.99, 0.95)\n",
    "res = agent.update(rollouts)"
   ]
  },
  {
   "cell_type": "code",
   "execution_count": 158,
   "id": "570d412a-481a-4a1a-9e14-ddb941a5d166",
   "metadata": {},
   "outputs": [
    {
     "data": {
      "text/plain": [
       "18"
      ]
     },
     "execution_count": 158,
     "metadata": {},
     "output_type": "execute_result"
    }
   ],
   "source": [
    "len(res[-1]['auxiliary'])"
   ]
  },
  {
   "cell_type": "code",
   "execution_count": 77,
   "id": "16b659c4-583d-4687-823f-2bd2fdc298b4",
   "metadata": {},
   "outputs": [],
   "source": [
    "advantages = rollouts.returns[:-1] - rollouts.value_preds[:-1]\n",
    "advantages = (advantages - advantages.mean()) / (\n",
    "    advantages.std() + 1e-5)\n",
    "\n",
    "value_loss_epoch = 0\n",
    "action_loss_epoch = 0\n",
    "dist_entropy_epoch = 0\n",
    "auxiliary_loss_epoch = 0\n",
    "\n",
    "clipfracs = []\n",
    "explained_vars = []\n",
    "\n",
    "num_update_steps = 0\n",
    "\n",
    "data_generator = rollouts.recurrent_generator(advantages, 1)\n",
    "\n",
    "for sample in data_generator:\n",
    "    num_update_steps += 1\n",
    "    obs_batch, recurrent_hidden_states_batch, actions_batch, \\\n",
    "       value_preds_batch, return_batch, masks_batch, old_action_log_probs_batch, \\\n",
    "        adv_targ, auxiliary_pred_batch, auxiliary_truth_batch = sample\n",
    "\n",
    "    # Reshape to do in a single forward pass for all steps\n",
    "    values, action_log_probs, dist_entropy, _, auxiliary_preds = agent.actor_critic.evaluate_actions(\n",
    "        obs_batch, recurrent_hidden_states_batch, masks_batch,\n",
    "        actions_batch)\n",
    "\n",
    "    logratio = action_log_probs - old_action_log_probs_batch \n",
    "    ratio = torch.exp(logratio)\n",
    "    surr1 = ratio * adv_targ\n",
    "    surr2 = torch.clamp(ratio, 1.0 - agent.clip_param,\n",
    "                        1.0 + agent.clip_param) * adv_targ\n",
    "    action_loss = -torch.min(surr1, surr2).mean()\n",
    "\n",
    "    #Andy: compute approx kl\n",
    "    with torch.no_grad():\n",
    "        # old_approx_kl = (-logratio).mean()\n",
    "        approx_kl = ((ratio - 1) - logratio).mean()\n",
    "        clipfracs += [\n",
    "            ((ratio - 1.0).abs() > agent.clip_param).float().mean().item()\n",
    "        ]\n",
    "\n",
    "    if agent.use_clipped_value_loss:\n",
    "        value_pred_clipped = value_preds_batch + \\\n",
    "            (values - value_preds_batch).clamp(-agent.clip_param, agent.clip_param)\n",
    "        value_losses = (values - return_batch).pow(2)\n",
    "        value_losses_clipped = (\n",
    "            value_pred_clipped - return_batch).pow(2)\n",
    "        value_loss = 0.5 * torch.max(value_losses,\n",
    "                                     value_losses_clipped).mean()\n",
    "    else:\n",
    "        value_loss = 0.5 * (return_batch - values).pow(2).mean()\n",
    "\n",
    "    if agent.actor_critic.has_auxiliary:\n",
    "        auxiliary_loss = 0.5 * (auxiliary_truth_batch - auxiliary_preds).pow(2).mean()\n",
    "    else:\n",
    "        auxiliary_loss = torch.zeros(1)\n",
    "    # print(auxiliary_truth_batch, auxiliary_preds, auxiliary_loss)\n"
   ]
  },
  {
   "cell_type": "code",
   "execution_count": 78,
   "id": "daf2dbd7-ddad-469b-b89f-2fc2f4021d4c",
   "metadata": {},
   "outputs": [
    {
     "data": {
      "text/plain": [
       "tensor(6.1723, grad_fn=<MulBackward0>)"
      ]
     },
     "execution_count": 78,
     "metadata": {},
     "output_type": "execute_result"
    }
   ],
   "source": [
    "value_loss"
   ]
  },
  {
   "cell_type": "code",
   "execution_count": 79,
   "id": "f0bfae63-8000-4dce-9595-b4fe7d88a5e8",
   "metadata": {},
   "outputs": [
    {
     "data": {
      "text/plain": [
       "tensor(-7.4506e-09, grad_fn=<NegBackward0>)"
      ]
     },
     "execution_count": 79,
     "metadata": {},
     "output_type": "execute_result"
    }
   ],
   "source": [
    "action_loss"
   ]
  },
  {
   "cell_type": "code",
   "execution_count": 82,
   "id": "36afcb72-21f1-49e8-b3fa-486b2da13f6e",
   "metadata": {},
   "outputs": [
    {
     "ename": "RuntimeError",
     "evalue": "element 0 of tensors does not require grad and does not have a grad_fn",
     "output_type": "error",
     "traceback": [
      "\u001b[1;31m---------------------------------------------------------------------------\u001b[0m",
      "\u001b[1;31mRuntimeError\u001b[0m                              Traceback (most recent call last)",
      "Input \u001b[1;32mIn [82]\u001b[0m, in \u001b[0;36m<cell line: 1>\u001b[1;34m()\u001b[0m\n\u001b[1;32m----> 1\u001b[0m \u001b[43mauxiliary_loss\u001b[49m\u001b[38;5;241;43m.\u001b[39;49m\u001b[43mbackward\u001b[49m\u001b[43m(\u001b[49m\u001b[43mretain_graph\u001b[49m\u001b[38;5;241;43m=\u001b[39;49m\u001b[38;5;28;43;01mTrue\u001b[39;49;00m\u001b[43m)\u001b[49m\n",
      "File \u001b[1;32m~\\anaconda3\\lib\\site-packages\\torch\\_tensor.py:396\u001b[0m, in \u001b[0;36mTensor.backward\u001b[1;34m(self, gradient, retain_graph, create_graph, inputs)\u001b[0m\n\u001b[0;32m    387\u001b[0m \u001b[38;5;28;01mif\u001b[39;00m has_torch_function_unary(\u001b[38;5;28mself\u001b[39m):\n\u001b[0;32m    388\u001b[0m     \u001b[38;5;28;01mreturn\u001b[39;00m handle_torch_function(\n\u001b[0;32m    389\u001b[0m         Tensor\u001b[38;5;241m.\u001b[39mbackward,\n\u001b[0;32m    390\u001b[0m         (\u001b[38;5;28mself\u001b[39m,),\n\u001b[1;32m   (...)\u001b[0m\n\u001b[0;32m    394\u001b[0m         create_graph\u001b[38;5;241m=\u001b[39mcreate_graph,\n\u001b[0;32m    395\u001b[0m         inputs\u001b[38;5;241m=\u001b[39minputs)\n\u001b[1;32m--> 396\u001b[0m \u001b[43mtorch\u001b[49m\u001b[38;5;241;43m.\u001b[39;49m\u001b[43mautograd\u001b[49m\u001b[38;5;241;43m.\u001b[39;49m\u001b[43mbackward\u001b[49m\u001b[43m(\u001b[49m\u001b[38;5;28;43mself\u001b[39;49m\u001b[43m,\u001b[49m\u001b[43m \u001b[49m\u001b[43mgradient\u001b[49m\u001b[43m,\u001b[49m\u001b[43m \u001b[49m\u001b[43mretain_graph\u001b[49m\u001b[43m,\u001b[49m\u001b[43m \u001b[49m\u001b[43mcreate_graph\u001b[49m\u001b[43m,\u001b[49m\u001b[43m \u001b[49m\u001b[43minputs\u001b[49m\u001b[38;5;241;43m=\u001b[39;49m\u001b[43minputs\u001b[49m\u001b[43m)\u001b[49m\n",
      "File \u001b[1;32m~\\anaconda3\\lib\\site-packages\\torch\\autograd\\__init__.py:173\u001b[0m, in \u001b[0;36mbackward\u001b[1;34m(tensors, grad_tensors, retain_graph, create_graph, grad_variables, inputs)\u001b[0m\n\u001b[0;32m    168\u001b[0m     retain_graph \u001b[38;5;241m=\u001b[39m create_graph\n\u001b[0;32m    170\u001b[0m \u001b[38;5;66;03m# The reason we repeat same the comment below is that\u001b[39;00m\n\u001b[0;32m    171\u001b[0m \u001b[38;5;66;03m# some Python versions print out the first line of a multi-line function\u001b[39;00m\n\u001b[0;32m    172\u001b[0m \u001b[38;5;66;03m# calls in the traceback and some print out the last line\u001b[39;00m\n\u001b[1;32m--> 173\u001b[0m \u001b[43mVariable\u001b[49m\u001b[38;5;241;43m.\u001b[39;49m\u001b[43m_execution_engine\u001b[49m\u001b[38;5;241;43m.\u001b[39;49m\u001b[43mrun_backward\u001b[49m\u001b[43m(\u001b[49m\u001b[43m  \u001b[49m\u001b[38;5;66;43;03m# Calls into the C++ engine to run the backward pass\u001b[39;49;00m\n\u001b[0;32m    174\u001b[0m \u001b[43m    \u001b[49m\u001b[43mtensors\u001b[49m\u001b[43m,\u001b[49m\u001b[43m \u001b[49m\u001b[43mgrad_tensors_\u001b[49m\u001b[43m,\u001b[49m\u001b[43m \u001b[49m\u001b[43mretain_graph\u001b[49m\u001b[43m,\u001b[49m\u001b[43m \u001b[49m\u001b[43mcreate_graph\u001b[49m\u001b[43m,\u001b[49m\u001b[43m \u001b[49m\u001b[43minputs\u001b[49m\u001b[43m,\u001b[49m\n\u001b[0;32m    175\u001b[0m \u001b[43m    \u001b[49m\u001b[43mallow_unreachable\u001b[49m\u001b[38;5;241;43m=\u001b[39;49m\u001b[38;5;28;43;01mTrue\u001b[39;49;00m\u001b[43m,\u001b[49m\u001b[43m \u001b[49m\u001b[43maccumulate_grad\u001b[49m\u001b[38;5;241;43m=\u001b[39;49m\u001b[38;5;28;43;01mTrue\u001b[39;49;00m\u001b[43m)\u001b[49m\n",
      "\u001b[1;31mRuntimeError\u001b[0m: element 0 of tensors does not require grad and does not have a grad_fn"
     ]
    }
   ],
   "source": [
    "auxiliary_loss.backward(retain_graph=True)"
   ]
  },
  {
   "cell_type": "code",
   "execution_count": 85,
   "id": "0378d28f-1da5-47df-96e3-045e38964b9a",
   "metadata": {},
   "outputs": [
    {
     "data": {
      "text/plain": [
       "True"
      ]
     },
     "execution_count": 85,
     "metadata": {},
     "output_type": "execute_result"
    }
   ],
   "source": [
    "auxiliary_loss.grad_fn == None"
   ]
  },
  {
   "cell_type": "code",
   "execution_count": null,
   "id": "b2cf6384-7cd4-4ff7-9a70-0a0f53b17799",
   "metadata": {},
   "outputs": [],
   "source": []
  },
  {
   "cell_type": "code",
   "execution_count": 84,
   "id": "7b360117-a839-4959-81d4-3a122d78d312",
   "metadata": {},
   "outputs": [
    {
     "data": {
      "text/plain": [
       "<MeanBackward0 at 0x1a2cec59700>"
      ]
     },
     "execution_count": 84,
     "metadata": {},
     "output_type": "execute_result"
    }
   ],
   "source": [
    "dist_entropy.grad_fn"
   ]
  },
  {
   "cell_type": "code",
   "execution_count": 75,
   "id": "5d031a7a-0c18-4e00-a7dc-94bcb23c27d1",
   "metadata": {},
   "outputs": [],
   "source": [
    "agent.optimizer.zero_grad()"
   ]
  },
  {
   "cell_type": "code",
   "execution_count": 71,
   "id": "0b7afe6d-29d9-41df-9762-a3b5039cbbec",
   "metadata": {},
   "outputs": [],
   "source": [
    "value_loss.backward(retain_graph=True)"
   ]
  },
  {
   "cell_type": "code",
   "execution_count": 72,
   "id": "9bee981b-c590-4810-b51d-8eae2a33f5d1",
   "metadata": {},
   "outputs": [
    {
     "data": {
      "text/plain": [
       "tensor([[-2.2816e-02, -2.5831e-02, -3.2841e-02,  ...,  2.9908e-02,\n",
       "          9.4009e-03, -9.5914e-03],\n",
       "        [-4.6790e-03, -5.1474e-03, -9.9367e-03,  ..., -2.2770e-02,\n",
       "         -2.1531e-02, -2.0370e-02],\n",
       "        [ 7.6236e-04,  5.5773e-04,  6.1747e-04,  ..., -7.5614e-03,\n",
       "         -6.7090e-03, -6.1472e-03],\n",
       "        ...,\n",
       "        [-9.3868e-02, -7.9452e-02, -1.0297e-01,  ...,  3.3399e-01,\n",
       "          3.6262e-01,  3.9712e-01],\n",
       "        [-1.1651e-02, -1.8015e-02, -2.5842e-02,  ..., -2.2392e-01,\n",
       "         -1.9609e-01, -1.7189e-01],\n",
       "        [ 1.8872e-01,  1.5661e-01,  2.0184e-01,  ..., -6.8310e-01,\n",
       "         -7.4808e-01, -7.9729e-01]])"
      ]
     },
     "execution_count": 72,
     "metadata": {},
     "output_type": "execute_result"
    }
   ],
   "source": [
    "params[0].grad"
   ]
  },
  {
   "cell_type": "code",
   "execution_count": 76,
   "id": "a835e913-2528-4f5e-9d25-70ceadd0bace",
   "metadata": {},
   "outputs": [
    {
     "ename": "RuntimeError",
     "evalue": "Trying to backward through the graph a second time (or directly access saved tensors after they have already been freed). Saved intermediate values of the graph are freed when you call .backward() or autograd.grad(). Specify retain_graph=True if you need to backward through the graph a second time or if you need to access saved tensors after calling backward.",
     "output_type": "error",
     "traceback": [
      "\u001b[1;31m---------------------------------------------------------------------------\u001b[0m",
      "\u001b[1;31mRuntimeError\u001b[0m                              Traceback (most recent call last)",
      "Input \u001b[1;32mIn [76]\u001b[0m, in \u001b[0;36m<cell line: 1>\u001b[1;34m()\u001b[0m\n\u001b[1;32m----> 1\u001b[0m \u001b[43maction_loss\u001b[49m\u001b[38;5;241;43m.\u001b[39;49m\u001b[43mbackward\u001b[49m\u001b[43m(\u001b[49m\u001b[43m)\u001b[49m\n",
      "File \u001b[1;32m~\\anaconda3\\lib\\site-packages\\torch\\_tensor.py:396\u001b[0m, in \u001b[0;36mTensor.backward\u001b[1;34m(self, gradient, retain_graph, create_graph, inputs)\u001b[0m\n\u001b[0;32m    387\u001b[0m \u001b[38;5;28;01mif\u001b[39;00m has_torch_function_unary(\u001b[38;5;28mself\u001b[39m):\n\u001b[0;32m    388\u001b[0m     \u001b[38;5;28;01mreturn\u001b[39;00m handle_torch_function(\n\u001b[0;32m    389\u001b[0m         Tensor\u001b[38;5;241m.\u001b[39mbackward,\n\u001b[0;32m    390\u001b[0m         (\u001b[38;5;28mself\u001b[39m,),\n\u001b[1;32m   (...)\u001b[0m\n\u001b[0;32m    394\u001b[0m         create_graph\u001b[38;5;241m=\u001b[39mcreate_graph,\n\u001b[0;32m    395\u001b[0m         inputs\u001b[38;5;241m=\u001b[39minputs)\n\u001b[1;32m--> 396\u001b[0m \u001b[43mtorch\u001b[49m\u001b[38;5;241;43m.\u001b[39;49m\u001b[43mautograd\u001b[49m\u001b[38;5;241;43m.\u001b[39;49m\u001b[43mbackward\u001b[49m\u001b[43m(\u001b[49m\u001b[38;5;28;43mself\u001b[39;49m\u001b[43m,\u001b[49m\u001b[43m \u001b[49m\u001b[43mgradient\u001b[49m\u001b[43m,\u001b[49m\u001b[43m \u001b[49m\u001b[43mretain_graph\u001b[49m\u001b[43m,\u001b[49m\u001b[43m \u001b[49m\u001b[43mcreate_graph\u001b[49m\u001b[43m,\u001b[49m\u001b[43m \u001b[49m\u001b[43minputs\u001b[49m\u001b[38;5;241;43m=\u001b[39;49m\u001b[43minputs\u001b[49m\u001b[43m)\u001b[49m\n",
      "File \u001b[1;32m~\\anaconda3\\lib\\site-packages\\torch\\autograd\\__init__.py:173\u001b[0m, in \u001b[0;36mbackward\u001b[1;34m(tensors, grad_tensors, retain_graph, create_graph, grad_variables, inputs)\u001b[0m\n\u001b[0;32m    168\u001b[0m     retain_graph \u001b[38;5;241m=\u001b[39m create_graph\n\u001b[0;32m    170\u001b[0m \u001b[38;5;66;03m# The reason we repeat same the comment below is that\u001b[39;00m\n\u001b[0;32m    171\u001b[0m \u001b[38;5;66;03m# some Python versions print out the first line of a multi-line function\u001b[39;00m\n\u001b[0;32m    172\u001b[0m \u001b[38;5;66;03m# calls in the traceback and some print out the last line\u001b[39;00m\n\u001b[1;32m--> 173\u001b[0m \u001b[43mVariable\u001b[49m\u001b[38;5;241;43m.\u001b[39;49m\u001b[43m_execution_engine\u001b[49m\u001b[38;5;241;43m.\u001b[39;49m\u001b[43mrun_backward\u001b[49m\u001b[43m(\u001b[49m\u001b[43m  \u001b[49m\u001b[38;5;66;43;03m# Calls into the C++ engine to run the backward pass\u001b[39;49;00m\n\u001b[0;32m    174\u001b[0m \u001b[43m    \u001b[49m\u001b[43mtensors\u001b[49m\u001b[43m,\u001b[49m\u001b[43m \u001b[49m\u001b[43mgrad_tensors_\u001b[49m\u001b[43m,\u001b[49m\u001b[43m \u001b[49m\u001b[43mretain_graph\u001b[49m\u001b[43m,\u001b[49m\u001b[43m \u001b[49m\u001b[43mcreate_graph\u001b[49m\u001b[43m,\u001b[49m\u001b[43m \u001b[49m\u001b[43minputs\u001b[49m\u001b[43m,\u001b[49m\n\u001b[0;32m    175\u001b[0m \u001b[43m    \u001b[49m\u001b[43mallow_unreachable\u001b[49m\u001b[38;5;241;43m=\u001b[39;49m\u001b[38;5;28;43;01mTrue\u001b[39;49;00m\u001b[43m,\u001b[49m\u001b[43m \u001b[49m\u001b[43maccumulate_grad\u001b[49m\u001b[38;5;241;43m=\u001b[39;49m\u001b[38;5;28;43;01mTrue\u001b[39;49;00m\u001b[43m)\u001b[49m\n",
      "\u001b[1;31mRuntimeError\u001b[0m: Trying to backward through the graph a second time (or directly access saved tensors after they have already been freed). Saved intermediate values of the graph are freed when you call .backward() or autograd.grad(). Specify retain_graph=True if you need to backward through the graph a second time or if you need to access saved tensors after calling backward."
     ]
    }
   ],
   "source": [
    "action_loss.backward(retain_graph=True)"
   ]
  },
  {
   "cell_type": "code",
   "execution_count": 74,
   "id": "966c891a-0493-414b-a1ae-9334d961aeb6",
   "metadata": {},
   "outputs": [
    {
     "data": {
      "text/plain": [
       "tensor([[-2.2863e-02, -2.5857e-02, -3.2872e-02,  ...,  3.0017e-02,\n",
       "          9.4238e-03, -9.5273e-03],\n",
       "        [-4.6822e-03, -5.1408e-03, -9.9219e-03,  ..., -2.2759e-02,\n",
       "         -2.1544e-02, -2.0404e-02],\n",
       "        [ 4.8525e-04,  3.3310e-04,  3.2592e-04,  ..., -8.4595e-03,\n",
       "         -7.6069e-03, -6.9281e-03],\n",
       "        ...,\n",
       "        [-9.3259e-02, -7.8974e-02, -1.0218e-01,  ...,  3.4074e-01,\n",
       "          3.6838e-01,  4.0246e-01],\n",
       "        [-9.7065e-03, -1.6263e-02, -2.3524e-02,  ..., -2.2007e-01,\n",
       "         -1.8936e-01, -1.6456e-01],\n",
       "        [ 1.8770e-01,  1.5581e-01,  2.0074e-01,  ..., -6.8556e-01,\n",
       "         -7.5018e-01, -7.9875e-01]])"
      ]
     },
     "execution_count": 74,
     "metadata": {},
     "output_type": "execute_result"
    }
   ],
   "source": [
    "params[0].grad"
   ]
  },
  {
   "cell_type": "code",
   "execution_count": 34,
   "id": "52f46934-15d1-4ae1-8838-120f49f07476",
   "metadata": {},
   "outputs": [
    {
     "name": "stdout",
     "output_type": "stream",
     "text": [
      "0\n",
      "1\n",
      "2\n",
      "3\n",
      "4\n",
      "5\n",
      "6\n"
     ]
    },
    {
     "ename": "AttributeError",
     "evalue": "'NoneType' object has no attribute 'clone'",
     "output_type": "error",
     "traceback": [
      "\u001b[1;31m---------------------------------------------------------------------------\u001b[0m",
      "\u001b[1;31mAttributeError\u001b[0m                            Traceback (most recent call last)",
      "Input \u001b[1;32mIn [34]\u001b[0m, in \u001b[0;36m<cell line: 1>\u001b[1;34m()\u001b[0m\n\u001b[0;32m      1\u001b[0m \u001b[38;5;28;01mfor\u001b[39;00m i, param \u001b[38;5;129;01min\u001b[39;00m \u001b[38;5;28menumerate\u001b[39m(params):\n\u001b[0;32m      2\u001b[0m     \u001b[38;5;28mprint\u001b[39m(i)\n\u001b[1;32m----> 3\u001b[0m     \u001b[43mparam\u001b[49m\u001b[38;5;241;43m.\u001b[39;49m\u001b[43mgrad\u001b[49m\u001b[38;5;241;43m.\u001b[39;49m\u001b[43mclone\u001b[49m()\n",
      "\u001b[1;31mAttributeError\u001b[0m: 'NoneType' object has no attribute 'clone'"
     ]
    }
   ],
   "source": [
    "for i, param in enumerate(params):\n",
    "    print(i)\n",
    "    param.grad.clone()"
   ]
  },
  {
   "cell_type": "code",
   "execution_count": 37,
   "id": "fed40f17-a0e7-4138-803b-a3b29fcf5a1b",
   "metadata": {},
   "outputs": [
    {
     "data": {
      "text/plain": [
       "torch.Size([48, 24])"
      ]
     },
     "execution_count": 37,
     "metadata": {},
     "output_type": "execute_result"
    }
   ],
   "source": [
    "params[0].grad.shape"
   ]
  },
  {
   "cell_type": "code",
   "execution_count": 38,
   "id": "f8711adf-2bc5-4191-87c3-65c6e1d51755",
   "metadata": {},
   "outputs": [
    {
     "data": {
      "text/plain": [
       "torch.Size([48, 24])"
      ]
     },
     "execution_count": 38,
     "metadata": {},
     "output_type": "execute_result"
    }
   ],
   "source": [
    "params[0].shape"
   ]
  },
  {
   "cell_type": "code",
   "execution_count": 40,
   "id": "36a1ddbd-0003-49d5-8992-bc29efeeafbd",
   "metadata": {},
   "outputs": [
    {
     "data": {
      "text/plain": [
       "tensor([[0., 0., 0.,  ..., 0., 0., 0.],\n",
       "        [0., 0., 0.,  ..., 0., 0., 0.],\n",
       "        [0., 0., 0.,  ..., 0., 0., 0.],\n",
       "        ...,\n",
       "        [0., 0., 0.,  ..., 0., 0., 0.],\n",
       "        [0., 0., 0.,  ..., 0., 0., 0.],\n",
       "        [0., 0., 0.,  ..., 0., 0., 0.]])"
      ]
     },
     "execution_count": 40,
     "metadata": {},
     "output_type": "execute_result"
    }
   ],
   "source": [
    "torch.zeros(params[0].shape)"
   ]
  },
  {
   "cell_type": "code",
   "execution_count": 42,
   "id": "2543e7dc-d190-4634-a48e-1cbed520367c",
   "metadata": {},
   "outputs": [
    {
     "data": {
      "text/plain": [
       "tensor([[-1.0577e-02, -1.1705e-02, -1.6375e-02,  ...,  1.3445e-02,\n",
       "         -8.5705e-04, -1.1964e-02],\n",
       "        [-2.1936e-03, -2.1443e-03, -5.0916e-03,  ..., -1.1117e-02,\n",
       "         -1.0213e-02, -9.2405e-03],\n",
       "        [ 1.5853e-04,  3.2106e-04,  3.7400e-04,  ..., -5.1833e-03,\n",
       "         -3.9617e-03, -2.9430e-03],\n",
       "        ...,\n",
       "        [-5.1467e-02, -4.0960e-02, -5.8323e-02,  ...,  2.0874e-01,\n",
       "          2.0680e-01,  2.1537e-01],\n",
       "        [-1.6537e-02, -1.8630e-02, -2.6251e-02,  ..., -9.4264e-02,\n",
       "         -8.1778e-02, -7.3334e-02],\n",
       "        [ 9.4570e-02,  7.5426e-02,  1.0628e-01,  ..., -3.5127e-01,\n",
       "         -4.0363e-01, -4.5377e-01]])"
      ]
     },
     "execution_count": 42,
     "metadata": {},
     "output_type": "execute_result"
    }
   ],
   "source": [
    "params[0].grad.clone()"
   ]
  },
  {
   "cell_type": "code",
   "execution_count": 39,
   "id": "36ea39dc-2f08-4f47-9d24-e8a7fd1fd9ef",
   "metadata": {},
   "outputs": [
    {
     "data": {
      "text/plain": [
       "True"
      ]
     },
     "execution_count": 39,
     "metadata": {},
     "output_type": "execute_result"
    }
   ],
   "source": [
    "params[6].grad == None"
   ]
  },
  {
   "cell_type": "code",
   "execution_count": 33,
   "id": "06c736da-797e-45d2-b492-c2c2abc5221b",
   "metadata": {},
   "outputs": [
    {
     "data": {
      "text/plain": [
       "Parameter containing:\n",
       "tensor([[ 0.2650, -0.2887, -0.0323, -0.0139, -0.4340,  0.2175,  0.1034, -0.5971,\n",
       "          0.4163, -0.3875,  0.4444,  0.3800, -0.0152,  0.0666,  0.0670, -0.7296],\n",
       "        [-0.3624,  0.2930,  0.7528,  0.2005, -0.1305,  0.3574,  0.4514,  0.1144,\n",
       "          0.0577, -0.3460, -0.5272,  0.4880,  0.0734, -0.3184, -0.7039,  0.0203],\n",
       "        [-0.1418,  0.2815,  0.8855, -0.2624, -0.1304, -0.6288,  0.0846, -0.8276,\n",
       "         -0.2448,  0.1493, -0.4847,  0.2531, -0.2307,  0.4756,  0.1314, -0.0034],\n",
       "        [ 0.0135, -0.5762, -0.1502, -0.5846,  0.3173, -0.3075,  0.0498, -0.2627,\n",
       "          0.2343, -0.1240, -1.0310,  0.4906, -0.1034, -0.1321, -0.4696, -0.0745],\n",
       "        [ 0.9805,  0.0953,  0.5195, -0.2256,  0.6118, -0.0283,  0.5335, -0.0814,\n",
       "         -0.1870, -0.2117, -0.0432,  0.5639,  0.3232, -0.0416,  0.1928,  0.4208],\n",
       "        [-0.4288,  0.1912, -0.0440, -0.0407,  0.1640,  0.4900, -0.1749, -0.1757,\n",
       "          0.4153, -0.5367, -0.3752, -0.2423,  0.8495,  0.5222,  0.5443,  0.2808],\n",
       "        [ 0.3216,  0.0540, -0.5718,  1.1948,  0.3301, -0.0726,  0.2630,  0.1664,\n",
       "         -0.1318, -0.0408, -0.1321, -0.4437,  0.1892,  0.3791, -0.0927, -0.3528],\n",
       "        [-0.2926,  0.1016, -0.8694,  0.7984, -0.2886, -0.2577,  0.1792,  0.1643,\n",
       "          0.0512, -0.1109, -0.0251,  0.2375,  0.0691, -0.3115,  0.8669,  0.4342],\n",
       "        [ 0.1425,  0.0057, -0.2984, -0.1217, -0.0152,  0.2533,  0.6076, -0.3821,\n",
       "         -0.1250,  0.0397, -0.1672, -1.0058, -0.3056, -0.5657,  0.4061, -0.1307],\n",
       "        [-0.4664,  0.0502,  0.2335,  0.2481,  0.5820, -0.1613,  0.1806,  0.0209,\n",
       "          0.5618,  0.5579,  0.1248,  0.1122,  0.3112, -0.3153,  0.4658, -0.4720],\n",
       "        [ 0.2132,  0.0833, -0.1309,  0.2764, -0.4041, -0.1479,  0.3947,  0.7953,\n",
       "          0.8894, -0.0195, -0.0364, -0.4986, -0.3978,  0.2477,  0.3759,  0.1310],\n",
       "        [-0.0507, -0.0286, -0.0969, -0.1906, -0.0472, -0.1521, -0.0676,  0.5990,\n",
       "         -0.5351, -0.7141,  0.1097, -0.1745, -0.5262, -0.2754,  0.4552, -0.7833],\n",
       "        [-0.4421, -0.1451, -0.8171, -0.0326, -0.0799,  0.3441,  0.7749,  0.4998,\n",
       "         -0.1935,  0.5289,  0.2991, -0.2071,  0.0631,  0.6925,  0.4401, -0.1538],\n",
       "        [-0.5309,  0.5741, -0.4180, -0.1376,  0.3113, -0.5559,  0.3817, -0.2567,\n",
       "          0.4525, -0.4605,  0.4054, -0.1546,  0.2371,  0.0767, -0.2432,  0.3284],\n",
       "        [-0.2998, -0.3465, -0.2339,  0.4952,  0.5691,  0.4425,  0.0541,  0.0785,\n",
       "          0.0615, -0.2297,  0.2981,  0.0393, -0.8859,  0.4872,  0.2229,  0.3127],\n",
       "        [ 0.1579,  0.9192, -0.8088, -0.0558, -0.1509,  0.6752, -0.0771,  0.1379,\n",
       "         -0.0172,  0.3337, -0.0519,  0.2903, -0.5522,  0.2048,  0.0505, -0.2372]],\n",
       "       requires_grad=True)"
      ]
     },
     "execution_count": 33,
     "metadata": {},
     "output_type": "execute_result"
    }
   ],
   "source": [
    "param"
   ]
  },
  {
   "cell_type": "markdown",
   "id": "c895d284-85b8-465f-870f-69e8063efe8c",
   "metadata": {},
   "source": [
    "# Gaussian heatmap functions"
   ]
  },
  {
   "cell_type": "code",
   "execution_count": 1,
   "id": "7be15549-2db0-4750-b318-b17348506cdc",
   "metadata": {},
   "outputs": [],
   "source": [
    "import pickle"
   ]
  },
  {
   "cell_type": "code",
   "execution_count": 2,
   "id": "e6c313c8-b8dd-4e54-83af-58b9fee9db77",
   "metadata": {},
   "outputs": [
    {
     "ename": "FileNotFoundError",
     "evalue": "[Errno 2] No such file or directory: 'data/pdistal_widthaux_heatmap/nav_pdistal_width16auxwall0'",
     "output_type": "error",
     "traceback": [
      "\u001b[1;31m---------------------------------------------------------------------------\u001b[0m",
      "\u001b[1;31mFileNotFoundError\u001b[0m                         Traceback (most recent call last)",
      "Input \u001b[1;32mIn [2]\u001b[0m, in \u001b[0;36m<cell line: 1>\u001b[1;34m()\u001b[0m\n\u001b[1;32m----> 1\u001b[0m checkpoint_data \u001b[38;5;241m=\u001b[39m pickle\u001b[38;5;241m.\u001b[39mload(\u001b[38;5;28;43mopen\u001b[39;49m\u001b[43m(\u001b[49m\u001b[38;5;124;43m'\u001b[39;49m\u001b[38;5;124;43mdata/pdistal_widthaux_heatmap/nav_pdistal_width16auxwall0\u001b[39;49m\u001b[38;5;124;43m'\u001b[39;49m\u001b[43m,\u001b[49m\u001b[43m \u001b[49m\u001b[38;5;124;43m'\u001b[39;49m\u001b[38;5;124;43mrb\u001b[39;49m\u001b[38;5;124;43m'\u001b[39;49m\u001b[43m)\u001b[49m)\n",
      "\u001b[1;31mFileNotFoundError\u001b[0m: [Errno 2] No such file or directory: 'data/pdistal_widthaux_heatmap/nav_pdistal_width16auxwall0'"
     ]
    }
   ],
   "source": [
    "checkpoint_data = pickle.load(open('data/pdistal_widthaux_heatmap/nav_pdistal_width16auxwall0', 'rb'))"
   ]
  },
  {
   "cell_type": "code",
   "execution_count": 4,
   "id": "c6a956cb-393d-49c1-88fd-6d3bb15f69aa",
   "metadata": {},
   "outputs": [],
   "source": [
    "from pathlib import Path"
   ]
  },
  {
   "cell_type": "code",
   "execution_count": 13,
   "id": "bcbe08c6-1b6e-4361-ac89-6c9b4c2a9e13",
   "metadata": {},
   "outputs": [
    {
     "ename": "ModuleNotFoundError",
     "evalue": "No module named 'a2c_ppo_acktr'",
     "output_type": "error",
     "traceback": [
      "\u001b[1;31m---------------------------------------------------------------------------\u001b[0m",
      "\u001b[1;31mModuleNotFoundError\u001b[0m                       Traceback (most recent call last)",
      "Input \u001b[1;32mIn [13]\u001b[0m, in \u001b[0;36m<cell line: 2>\u001b[1;34m()\u001b[0m\n\u001b[0;32m      1\u001b[0m \u001b[38;5;28;01mimport\u001b[39;00m \u001b[38;5;21;01mtorch\u001b[39;00m\n\u001b[1;32m----> 2\u001b[0m \u001b[43mtorch\u001b[49m\u001b[38;5;241;43m.\u001b[39;49m\u001b[43mload\u001b[49m\u001b[43m(\u001b[49m\u001b[43mPath\u001b[49m\u001b[43m(\u001b[49m\u001b[43mcheckpoint_folder\u001b[49m\u001b[43m)\u001b[49m\u001b[38;5;241;43m/\u001b[39;49m\u001b[38;5;124;43m'\u001b[39;49m\u001b[38;5;124;43m0.pt\u001b[39;49m\u001b[38;5;124;43m'\u001b[39;49m\u001b[43m)\u001b[49m\n",
      "File \u001b[1;32m~\\anaconda3\\lib\\site-packages\\torch\\serialization.py:712\u001b[0m, in \u001b[0;36mload\u001b[1;34m(f, map_location, pickle_module, **pickle_load_args)\u001b[0m\n\u001b[0;32m    710\u001b[0m             opened_file\u001b[38;5;241m.\u001b[39mseek(orig_position)\n\u001b[0;32m    711\u001b[0m             \u001b[38;5;28;01mreturn\u001b[39;00m torch\u001b[38;5;241m.\u001b[39mjit\u001b[38;5;241m.\u001b[39mload(opened_file)\n\u001b[1;32m--> 712\u001b[0m         \u001b[38;5;28;01mreturn\u001b[39;00m _load(opened_zipfile, map_location, pickle_module, \u001b[38;5;241m*\u001b[39m\u001b[38;5;241m*\u001b[39mpickle_load_args)\n\u001b[0;32m    713\u001b[0m \u001b[38;5;28;01mreturn\u001b[39;00m _legacy_load(opened_file, map_location, pickle_module, \u001b[38;5;241m*\u001b[39m\u001b[38;5;241m*\u001b[39mpickle_load_args)\n",
      "File \u001b[1;32m~\\anaconda3\\lib\\site-packages\\torch\\serialization.py:1049\u001b[0m, in \u001b[0;36m_load\u001b[1;34m(zip_file, map_location, pickle_module, pickle_file, **pickle_load_args)\u001b[0m\n\u001b[0;32m   1047\u001b[0m unpickler \u001b[38;5;241m=\u001b[39m UnpicklerWrapper(data_file, \u001b[38;5;241m*\u001b[39m\u001b[38;5;241m*\u001b[39mpickle_load_args)\n\u001b[0;32m   1048\u001b[0m unpickler\u001b[38;5;241m.\u001b[39mpersistent_load \u001b[38;5;241m=\u001b[39m persistent_load\n\u001b[1;32m-> 1049\u001b[0m result \u001b[38;5;241m=\u001b[39m \u001b[43munpickler\u001b[49m\u001b[38;5;241;43m.\u001b[39;49m\u001b[43mload\u001b[49m\u001b[43m(\u001b[49m\u001b[43m)\u001b[49m\n\u001b[0;32m   1051\u001b[0m torch\u001b[38;5;241m.\u001b[39m_utils\u001b[38;5;241m.\u001b[39m_validate_loaded_sparse_tensors()\n\u001b[0;32m   1053\u001b[0m \u001b[38;5;28;01mreturn\u001b[39;00m result\n",
      "File \u001b[1;32m~\\anaconda3\\lib\\site-packages\\torch\\serialization.py:1042\u001b[0m, in \u001b[0;36m_load.<locals>.UnpicklerWrapper.find_class\u001b[1;34m(self, mod_name, name)\u001b[0m\n\u001b[0;32m   1040\u001b[0m         \u001b[38;5;28;01mpass\u001b[39;00m\n\u001b[0;32m   1041\u001b[0m mod_name \u001b[38;5;241m=\u001b[39m load_module_mapping\u001b[38;5;241m.\u001b[39mget(mod_name, mod_name)\n\u001b[1;32m-> 1042\u001b[0m \u001b[38;5;28;01mreturn\u001b[39;00m \u001b[38;5;28;43msuper\u001b[39;49m\u001b[43m(\u001b[49m\u001b[43m)\u001b[49m\u001b[38;5;241;43m.\u001b[39;49m\u001b[43mfind_class\u001b[49m\u001b[43m(\u001b[49m\u001b[43mmod_name\u001b[49m\u001b[43m,\u001b[49m\u001b[43m \u001b[49m\u001b[43mname\u001b[49m\u001b[43m)\u001b[49m\n",
      "\u001b[1;31mModuleNotFoundError\u001b[0m: No module named 'a2c_ppo_acktr'"
     ]
    }
   ],
   "source": [
    "import torch\n",
    "torch.load(Path(checkpoint_folder)/'0.pt')"
   ]
  },
  {
   "cell_type": "code",
   "execution_count": 8,
   "id": "c6ea1fb3-c4aa-4fe6-a13f-018be8c623b7",
   "metadata": {},
   "outputs": [
    {
     "data": {
      "text/plain": [
       "[0,\n",
       " 10,\n",
       " 100,\n",
       " 110,\n",
       " 120,\n",
       " 130,\n",
       " 140,\n",
       " 150,\n",
       " 160,\n",
       " 170,\n",
       " 180,\n",
       " 190,\n",
       " 20,\n",
       " 200,\n",
       " 210,\n",
       " 220,\n",
       " 230,\n",
       " 240,\n",
       " 250,\n",
       " 260,\n",
       " 270,\n",
       " 280,\n",
       " 290,\n",
       " 30,\n",
       " 300,\n",
       " 310,\n",
       " 320,\n",
       " 330,\n",
       " 340,\n",
       " 350,\n",
       " 360,\n",
       " 370,\n",
       " 380,\n",
       " 390,\n",
       " 399,\n",
       " 40,\n",
       " 50,\n",
       " 60,\n",
       " 70,\n",
       " 80,\n",
       " 90]"
      ]
     },
     "execution_count": 8,
     "metadata": {},
     "output_type": "execute_result"
    }
   ],
   "source": [
    "checkpoint_folder = '../trained_models/checkpoint/nav_pdistal_width16auxwall01_t0'\n",
    "[int(chk.name.split('.pt')[0]) for chk in list(Path(checkpoint_folder).iterdir())]"
   ]
  },
  {
   "cell_type": "code",
   "execution_count": 103,
   "id": "33d7db5e-4d8d-4c63-8196-1579c34e12aa",
   "metadata": {},
   "outputs": [],
   "source": [
    "a = [[] for i in range(10)]"
   ]
  },
  {
   "cell_type": "code",
   "execution_count": 167,
   "id": "b178ea30-30da-4722-b2ba-a018792455a6",
   "metadata": {},
   "outputs": [
    {
     "data": {
      "text/plain": [
       "FlexBaseAux(\n",
       "  (gru): GRU(24, 16)\n",
       "  (critic0): Sequential(\n",
       "    (0): Linear(in_features=16, out_features=16, bias=True)\n",
       "    (1): Tanh()\n",
       "  )\n",
       "  (actor0): Sequential(\n",
       "    (0): Linear(in_features=16, out_features=16, bias=True)\n",
       "    (1): Tanh()\n",
       "  )\n",
       "  (critic1): Sequential(\n",
       "    (0): Linear(in_features=16, out_features=16, bias=True)\n",
       "    (1): Tanh()\n",
       "  )\n",
       "  (actor1): Sequential(\n",
       "    (0): Linear(in_features=16, out_features=16, bias=True)\n",
       "    (1): Tanh()\n",
       "  )\n",
       "  (critic_head): Linear(in_features=16, out_features=1, bias=True)\n",
       "  (auxiliary0): Categorical(\n",
       "    (linear): Linear(in_features=16, out_features=4, bias=True)\n",
       "  )\n",
       ")"
      ]
     },
     "execution_count": 167,
     "metadata": {},
     "output_type": "execute_result"
    }
   ],
   "source": [
    "base"
   ]
  },
  {
   "cell_type": "code",
   "execution_count": null,
   "id": "f71f348d-e172-4750-b7c2-346d87ef88a5",
   "metadata": {},
   "outputs": [],
   "source": []
  },
  {
   "cell_type": "markdown",
   "id": "86d3ec6f-bb6f-49b8-82b4-bee3672d34de",
   "metadata": {},
   "source": [
    "# Multiclass Test"
   ]
  },
  {
   "cell_type": "code",
   "execution_count": 98,
   "id": "c77d6bab-4792-46f9-a186-aad26b9cbf9f",
   "metadata": {},
   "outputs": [],
   "source": [
    "from sklearn.datasets import load_digits\n",
    "from sklearn.model_selection import train_test_split\n",
    "import torch\n",
    "import numpy as np\n",
    "import matplotlib.pyplot as plt\n",
    "import proplot as pplt\n",
    "from sklearn.metrics import accuracy_score, confusion_matrix"
   ]
  },
  {
   "cell_type": "code",
   "execution_count": 11,
   "id": "4291f5fe-8dee-4e61-8f72-97002f17be65",
   "metadata": {},
   "outputs": [],
   "source": [
    "X, y = load_digits(return_X_y=True)\n",
    "\n",
    "train_X, test_X, train_y, test_y = train_test_split(X, y, test_size=0.2)"
   ]
  },
  {
   "cell_type": "code",
   "execution_count": 80,
   "id": "80066556-5c74-42f4-ba28-4f8a562259ed",
   "metadata": {},
   "outputs": [],
   "source": [
    "model = torch.nn.Sequential(*[\n",
    "    torch.nn.Linear(64, 16),\n",
    "    torch.nn.ReLU(),\n",
    "    torch.nn.Linear(16, 16),\n",
    "    torch.nn.ReLU(),\n",
    "    torch.nn.Linear(16, 10),\n",
    "    torch.nn.Softmax(dim=1)\n",
    "])\n",
    "optim = torch.optim.Adam(model.parameters(), lr=0.01)\n"
   ]
  },
  {
   "cell_type": "code",
   "execution_count": 89,
   "id": "817572b0-b8df-49d3-ad2f-755170cb1887",
   "metadata": {},
   "outputs": [],
   "source": [
    "hidden_size = 32\n",
    "model = torch.nn.Sequential(*[\n",
    "    torch.nn.Linear(64, hidden_size),\n",
    "    torch.nn.ReLU(),\n",
    "    torch.nn.Linear(hidden_size, hidden_size),\n",
    "    torch.nn.ReLU(),\n",
    "    torch.nn.Linear(hidden_size, 10),\n",
    "    torch.nn.Softmax(dim=1)\n",
    "])\n",
    "optim = torch.optim.Adam(model.parameters(), lr=0.01)\n"
   ]
  },
  {
   "cell_type": "code",
   "execution_count": 95,
   "id": "936b7e7e-3a38-46bd-90e4-1edc70b2e3fe",
   "metadata": {},
   "outputs": [],
   "source": [
    "hidden_size = 16\n",
    "model = torch.nn.Sequential(*[\n",
    "    torch.nn.Linear(64, hidden_size),\n",
    "    torch.nn.ReLU(),\n",
    "    torch.nn.Linear(hidden_size, hidden_size),\n",
    "    torch.nn.ReLU(),\n",
    "    torch.nn.Linear(hidden_size, hidden_size),\n",
    "    torch.nn.ReLU(),\n",
    "    torch.nn.Linear(hidden_size, 10),\n",
    "    torch.nn.Softmax(dim=1)\n",
    "])\n",
    "optim = torch.optim.Adam(model.parameters(), lr=0.01)\n"
   ]
  },
  {
   "cell_type": "code",
   "execution_count": 96,
   "id": "6cde0ba3-a1a5-46fb-90b7-d139e55b2084",
   "metadata": {},
   "outputs": [],
   "source": [
    "losses = []\n",
    "train_accuracies = []\n",
    "test_accuracies = []\n",
    "loss_fn = torch.nn.CrossEntropyLoss()\n",
    "train_x_tensor = torch.tensor(train_X, dtype=torch.float32)\n",
    "train_y_tensor = torch.tensor(train_y, dtype=torch.long)\n",
    "test_x_tensor = torch.tensor(test_X, dtype=torch.float32)\n",
    "\n",
    "for i in range(100):\n",
    "    pred_y = model(train_x_tensor)\n",
    "    loss = loss_fn(pred_y, train_y_tensor)\n",
    "\n",
    "    optim.zero_grad()\n",
    "    loss.backward()\n",
    "    optim.step()\n",
    "    losses.append(loss.item())\n",
    "    \n",
    "    pred_y_labels = pred_y.detach().numpy().argmax(axis=1)\n",
    "    acc = accuracy_score(pred_y_labels, train_y)\n",
    "    train_accuracies.append(acc)\n",
    "    \n",
    "    with torch.no_grad():\n",
    "        pred_y = model(test_x_tensor)\n",
    "        pred_y_labels = pred_y.detach().numpy().argmax(axis=1)\n",
    "        acc = accuracy_score(pred_y_labels, test_y)\n",
    "        test_accuracies.append(acc)\n"
   ]
  },
  {
   "cell_type": "code",
   "execution_count": 82,
   "id": "c3bc3a58-98df-4014-ad5b-f35e86913fff",
   "metadata": {},
   "outputs": [
    {
     "data": {
      "text/plain": [
       "<a list of 1 Line2D objects>"
      ]
     },
     "execution_count": 82,
     "metadata": {},
     "output_type": "execute_result"
    },
    {
     "data": {
      "image/png": "[encoded data removed]",
      "text/plain": [
       "Figure(nrows=1, ncols=2, refwidth=2.5)"
      ]
     },
     "metadata": {
      "image/png": {
       "height": 282,
       "width": 576
      }
     },
     "output_type": "display_data"
    }
   ],
   "source": [
    "fig, ax = pplt.subplots(ncols=2, sharey=False)\n",
    "ax[0].plot(losses)\n",
    "ax[1].plot(train_accuracies)\n",
    "ax[1].plot(test_accuracies)"
   ]
  },
  {
   "cell_type": "code",
   "execution_count": 97,
   "id": "4d07880b-7a7a-4f2f-84a6-876afe236d4b",
   "metadata": {},
   "outputs": [
    {
     "data": {
      "text/plain": [
       "<a list of 1 Line2D objects>"
      ]
     },
     "execution_count": 97,
     "metadata": {},
     "output_type": "execute_result"
    },
    {
     "data": {
      "image/png": "[encoded data removed]",
      "text/plain": [
       "Figure(nrows=1, ncols=2, refwidth=2.5)"
      ]
     },
     "metadata": {
      "image/png": {
       "height": 283,
       "width": 576
      }
     },
     "output_type": "display_data"
    }
   ],
   "source": [
    "fig, ax = pplt.subplots(ncols=2, sharey=False)\n",
    "ax[0].plot(losses)\n",
    "ax[1].plot(train_accuracies)\n",
    "ax[1].plot(test_accuracies)"
   ]
  },
  {
   "cell_type": "code",
   "execution_count": 101,
   "id": "8487693f-516b-4c2c-b150-38a88def844c",
   "metadata": {},
   "outputs": [
    {
     "data": {
      "text/plain": [
       "<matplotlib.image.AxesImage at 0x18b34a3c340>"
      ]
     },
     "execution_count": 101,
     "metadata": {},
     "output_type": "execute_result"
    },
    {
     "data": {
      "image/png": "[encoded data removed]",
      "text/plain": [
       "<Figure size 400x400 with 1 Axes>"
      ]
     },
     "metadata": {
      "image/png": {
       "height": 400,
       "width": 400
      }
     },
     "output_type": "display_data"
    }
   ],
   "source": [
    "cm = confusion_matrix(pred_y_labels, test_y)\n",
    "\n",
    "plt.imshow(cm)"
   ]
  }
 ],
 "metadata": {
  "kernelspec": {
   "display_name": "Python 3 (ipykernel)",
   "language": "python",
   "name": "python3"
  },
  "language_info": {
   "codemirror_mode": {
    "name": "ipython",
    "version": 3
   },
   "file_extension": ".py",
   "mimetype": "text/x-python",
   "name": "python",
   "nbconvert_exporter": "python",
   "pygments_lexer": "ipython3",
   "version": "3.9.12"
  }
 },
 "nbformat": 4,
 "nbformat_minor": 5
}
