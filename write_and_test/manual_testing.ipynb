{
 "cells": [
  {
   "cell_type": "markdown",
   "metadata": {},
   "source": [
    "# Manual Testing\n",
    "\n",
    "This file is designed to load in the saved models trained by main.py and evaluate them"
   ]
  },
  {
   "cell_type": "code",
   "execution_count": 1,
   "metadata": {},
   "outputs": [],
   "source": [
    "import sys\n",
    "sys.path.append('..')\n",
    "from a2c_ppo_acktr import algo, utils\n",
    "import gym\n",
    "import numpy as np\n",
    "import torch\n",
    "import torch.nn as nn\n",
    "import torch.nn.functional as F\n",
    "import torch.optim as optim\n",
    "from torch.utils.tensorboard import SummaryWriter\n",
    "from evaluation import evaluate\n",
    "from tqdm import tqdm\n",
    "\n",
    "import matplotlib.pyplot as plt\n",
    "\n",
    "def load_model(algo='ppo', env=None, filename=None):\n",
    "    '''\n",
    "    Load a trained model from the algorithm\n",
    "    '''\n",
    "    if env is None and filename is None:\n",
    "        raise\n",
    "    file = 'trained_models/' + algo + '/'\n",
    "    if env is not None:\n",
    "        file = file + env + '.pt'\n",
    "    elif filename is not None:\n",
    "        file = file + filename\n",
    "        \n",
    "    model, rms = torch.load(file)\n",
    "\n",
    "    return model, rms\n",
    "    \n",
    "%run model_evaluation"
   ]
  },
  {
   "cell_type": "markdown",
   "metadata": {},
   "source": [
    "# Test running a single model and running Policy, FlexBase"
   ]
  },
  {
   "cell_type": "code",
   "execution_count": null,
   "metadata": {},
   "outputs": [],
   "source": [
    "%run model_evaluation\n",
    "\n",
    "model, obs_rms, kwargs = load_model_and_env('nav_auxiliary_tasks/nav_c4_auxwall1', 0)\n",
    "\n",
    "action_randomizer = lambda step: np.random.choice([0, 1, 2])\n",
    "results = forced_action_evaluate(model, obs_rms, forced_actions=action_randomizer, env_kwargs=kwargs, \n",
    "                                data_callback=nav_data_callback, num_episodes=1, with_activations=True)\n",
    "\n",
    "\n",
    "obs, rnn_hxs, masks = results['obs'][0], results['hidden_states'][0], results['masks'][0]\n",
    "\n",
    "import sys\n",
    "sys.path.append('../')\n",
    "from a2c_ppo_acktr.model import Policy\n",
    "\n",
    "env = gym.make('NavEnv-v0', **kwargs)\n",
    "\n",
    "model = Policy(obs.squeeze().shape, env.action_space, base='FlexBase', base_kwargs={'num_shared_layers': 0, 'auxiliary_heads': [[-1, 0, 1]]})\n",
    "# model = Policy(obs.squeeze().shape, env.action_space, base='FlexBase', base_kwargs={'num_shared_layers': 0})\n",
    "\n",
    "# model, obs_rms, kwargs = load_model_and_env('nav_invisible_shared/nav_c4_shared0.dist', 0)\n",
    "action_randomizer = lambda step: np.random.choice([0, 1, 2])\n",
    "results = forced_action_evaluate(model, obs_rms, forced_actions=action_randomizer, env_kwargs=kwargs, \n",
    "                                data_callback=nav_data_callback, num_episodes=1, with_activations=True)\n"
   ]
  },
  {
   "cell_type": "code",
   "execution_count": 6,
   "metadata": {},
   "outputs": [],
   "source": [
    "model, obs_rms, kwargs = load_model_and_env('nav_auxiliary_tasks2/nav_c4_auxeuclid0', 0)\n",
    "env = gym.make('NavEnv-v0', **kwargs)"
   ]
  },
  {
   "cell_type": "code",
   "execution_count": 18,
   "metadata": {},
   "outputs": [],
   "source": [
    "def quick_vec_env(obs_rms, env_kwargs={}, env_name='NavEnv-v0', seed=0,\n",
    "                 num_processes=1, eval_log_dir='/tmp/gym/_eval',\n",
    "                 device=torch.device('cpu'), capture_video=False):\n",
    "    eval_envs = make_vec_envs(env_name, seed + num_processes, num_processes,\n",
    "                          None, eval_log_dir, device, True, \n",
    "                          capture_video=capture_video, \n",
    "                          env_kwargs=env_kwargs)\n",
    "\n",
    "    vec_norm = utils.get_vec_normalize(eval_envs)\n",
    "    if vec_norm is not None:\n",
    "        vec_norm.eval()\n",
    "        vec_norm.obs_rms = obs_rms\n",
    "        \n",
    "    return eval_envs\n"
   ]
  },
  {
   "cell_type": "markdown",
   "metadata": {},
   "source": [
    "**Test making vec_envs and policy**"
   ]
  },
  {
   "cell_type": "code",
   "execution_count": 71,
   "metadata": {},
   "outputs": [
    {
     "data": {
      "text/plain": [
       "{'value': tensor([[-0.0015]], grad_fn=<AddmmBackward0>),\n",
       " 'actor_features': tensor([[ 0.0005,  0.0024,  0.0019, -0.0011]], grad_fn=<TanhBackward0>),\n",
       " 'rnn_hxs': tensor([[ 0.0007, -0.0013,  0.0007,  0.0003]], grad_fn=<SqueezeBackward1>),\n",
       " 'auxiliary_preds': tensor([[0.]]),\n",
       " 'action': tensor([[1]]),\n",
       " 'action_log_probs': tensor([[-1.3863]], grad_fn=<UnsqueezeBackward0>)}"
      ]
     },
     "execution_count": 71,
     "metadata": {},
     "output_type": "execute_result"
    }
   ],
   "source": [
    "kwargs = {\n",
    "    'task_structure': 4,\n",
    "    'rew_structure': 'goal',\n",
    "    'num_objects': 0,\n",
    "    'wall_colors': 1,\n",
    "    'poster': 1,\n",
    "    'num_rays': 12,\n",
    "    'fov': 1\n",
    "}\n",
    "\n",
    "env_kwargs = {'num_objects': 0, 'rew_structure': 'goal',\n",
    "              'task_structure': 4, 'wall_colors': 1, 'num_rays': 12, 'fov': 1,\n",
    "              'poster': 1, #distal\n",
    "              'character_reset_pos': 1}\n",
    "# env = gym.make('NavEnv-v0', **kwargs)\n",
    "envs = make_vec_envs('NavEnv-v0', 0, 1, 0.99, '/tmp/gym/', torch.device('cpu'),\n",
    "                     False, capture_video=False, env_kwargs=env_kwargs)\n",
    "model = Policy(envs.observation_space.shape, envs.action_space, \n",
    "               base='FlexBase', base_kwargs={'hidden_size': 4})\n",
    "\n",
    "obs = envs.reset()\n",
    "rnn_hxs = torch.zeros(model.recurrent_hidden_state_size).view(1, -1)\n",
    "masks = torch.ones([1, 1])\n",
    "\n",
    "# model.base(obs, rnn_hxs, masks)\n",
    "model.act(obs, rnn_hxs, masks)"
   ]
  },
  {
   "cell_type": "code",
   "execution_count": 72,
   "metadata": {},
   "outputs": [
    {
     "data": {
      "text/plain": [
       "(tensor([[-0.0015]], grad_fn=<AddmmBackward0>),\n",
       " tensor([[-1.3863]], grad_fn=<UnsqueezeBackward0>),\n",
       " tensor(1.3863, grad_fn=<MeanBackward0>),\n",
       " tensor([[ 0.0007, -0.0013,  0.0007,  0.0003]], grad_fn=<SqueezeBackward1>),\n",
       " tensor([[0.]]))"
      ]
     },
     "execution_count": 72,
     "metadata": {},
     "output_type": "execute_result"
    }
   ],
   "source": [
    "model.evaluate_actions(obs, rnn_hxs, masks, torch.tensor([[1]]))"
   ]
  },
  {
   "cell_type": "markdown",
   "metadata": {},
   "source": [
    "## Example: Test Correlated 2-arm Bandits"
   ]
  },
  {
   "cell_type": "code",
   "execution_count": 2,
   "metadata": {},
   "outputs": [],
   "source": [
    "# env_name = 'CartPole-v1'\n",
    "env_name = 'Bandits-v0'\n",
    "model, rms = load_model(env=env_name, algo='a2c')\n",
    "log_dir = '/tmp/gym/_eval'\n",
    "device = torch.device(\"cpu\")\n"
   ]
  },
  {
   "cell_type": "code",
   "execution_count": 3,
   "metadata": {},
   "outputs": [
    {
     "name": "stdout",
     "output_type": "stream",
     "text": [
      " Evaluation using 10 episodes: mean reward 77.30000\n",
      "\n"
     ]
    }
   ],
   "source": [
    "all_obs, all_actions, all_rewards, all_hidden_states, eval_envs = evaluate(model, rms, env_name, 1, 10, log_dir, device)"
   ]
  },
  {
   "cell_type": "code",
   "execution_count": 4,
   "metadata": {},
   "outputs": [],
   "source": [
    "all_obs2 = torch.zeros(size=[len(all_obs)] + list(all_obs[0].shape))\n",
    "all_actions2 = torch.zeros(size=[len(all_actions)] + list(all_actions[0].shape))\n",
    "all_rewards2 = torch.zeros(size=[len(all_rewards)] + list(all_rewards[0].shape))\n",
    "all_hidden_states2 = torch.zeros(size=[len(all_hidden_states)] + list(all_hidden_states[0].shape))\n",
    "\n",
    "for i in range(len(all_obs)):\n",
    "    all_obs2[i] = all_obs[i]\n",
    "    all_actions2[i] = all_actions[i]\n",
    "    all_rewards2[i] = all_rewards[i]\n",
    "    all_hidden_states2[i] = all_hidden_states[i]"
   ]
  },
  {
   "cell_type": "code",
   "execution_count": 7,
   "metadata": {},
   "outputs": [],
   "source": [
    "reward_probabilities = eval_envs.get_attr('reward_probabilities')"
   ]
  },
  {
   "cell_type": "code",
   "execution_count": 19,
   "metadata": {},
   "outputs": [],
   "source": [
    "second_arm_probs = []\n",
    "second_arm_choices = []\n",
    "for i in range(all_actions2.shape[1]):\n",
    "    second_arm_choices.append(torch.mean(all_actions2.T[0][i]))\n",
    "    second_arm_probs.append(reward_probabilities[i][1])"
   ]
  },
  {
   "cell_type": "code",
   "execution_count": 21,
   "metadata": {},
   "outputs": [
    {
     "data": {
      "text/plain": [
       "<matplotlib.collections.PathCollection at 0x1268d44f408>"
      ]
     },
     "execution_count": 21,
     "metadata": {},
     "output_type": "execute_result"
    },
    {
     "data": {
      "image/png": "[encoded data removed]",
      "text/plain": [
       "<Figure size 432x288 with 1 Axes>"
      ]
     },
     "metadata": {
      "needs_background": "light"
     },
     "output_type": "display_data"
    }
   ],
   "source": [
    "plt.scatter(second_arm_probs, second_arm_choices)"
   ]
  },
  {
   "cell_type": "code",
   "execution_count": 24,
   "metadata": {},
   "outputs": [],
   "source": [
    "env = gym.make('Bandits-v0', num_arms=3)"
   ]
  },
  {
   "cell_type": "code",
   "execution_count": 29,
   "metadata": {},
   "outputs": [
    {
     "data": {
      "text/plain": [
       "(array([0., 0., 1., 1., 5.]), 1, False, {})"
      ]
     },
     "execution_count": 29,
     "metadata": {},
     "output_type": "execute_result"
    }
   ],
   "source": [
    "env.step(2)"
   ]
  },
  {
   "cell_type": "code",
   "execution_count": 30,
   "metadata": {},
   "outputs": [
    {
     "data": {
      "text/plain": [
       "array([0.32455324, 0.33017026, 0.3452765 ])"
      ]
     },
     "execution_count": 30,
     "metadata": {},
     "output_type": "execute_result"
    }
   ],
   "source": [
    "env.reward_probabilities"
   ]
  },
  {
   "cell_type": "markdown",
   "metadata": {},
   "source": [
    "## Test Goal Dist Auxiliary Task"
   ]
  },
  {
   "cell_type": "code",
   "execution_count": 2,
   "metadata": {},
   "outputs": [],
   "source": [
    "%run representation_analysis\n",
    "%run model_evaluation"
   ]
  },
  {
   "cell_type": "code",
   "execution_count": 51,
   "metadata": {},
   "outputs": [
    {
     "data": {
      "text/plain": [
       "(tensor([[ 0.0012,  0.0012,  0.0012,  0.0012,  0.0012,  0.0012,  0.0012,  0.0012,\n",
       "           0.0012,  0.0012,  0.0012,  0.0012, -0.7812, -0.7854, -0.7913, -0.7990,\n",
       "          -0.8084, -0.8194, -0.8318, -0.8455, -0.8601, -0.8753, -0.7181, -0.7047]]),\n",
       " tensor([[0.]]),\n",
       " array([False]),\n",
       " [{'auxiliary': array([0.39090402, 0.29447325])}])"
      ]
     },
     "execution_count": 51,
     "metadata": {},
     "output_type": "execute_result"
    }
   ],
   "source": [
    "\n",
    "env_kwargs = {'num_objects': 0, 'rew_structure': 'goal',\n",
    "              'task_structure': 2, 'wall_colors': 1, 'num_rays': 12, 'fov': 1,\n",
    "              'poster': 1, 'auxiliary_tasks': [3, 2], 'auxiliary_task_args': [None, 4],\n",
    "              'character_reset_pos': 1}\n",
    "# env = gym.make('NavEnv-v0', **kwargs)\n",
    "envs = make_vec_envs('NavEnv-v0', 0, 1, 0.99, '/tmp/gym/', torch.device('cpu'),\n",
    "                     False, capture_video=False, env_kwargs=env_kwargs)\n",
    "model = Policy(envs.observation_space.shape, envs.action_space, \n",
    "               base='FlexBase', base_kwargs={'hidden_size': 4, 'auxiliary_heads': [[-1, 0, 1]]})\n",
    "\n",
    "obs = envs.reset()\n",
    "rnn_hxs = torch.zeros(model.recurrent_hidden_state_size).view(1, -1)\n",
    "masks = torch.ones([1, 1])\n",
    "\n",
    "# model.base(obs, rnn_hxs, masks)\n",
    "model.act(obs, rnn_hxs, masks)\n",
    "envs.step(torch.tensor([[1]]))"
   ]
  },
  {
   "cell_type": "code",
   "execution_count": null,
   "metadata": {},
   "outputs": [],
   "source": []
  },
  {
   "cell_type": "code",
   "execution_count": 35,
   "metadata": {},
   "outputs": [
    {
     "data": {
      "text/plain": [
       "(tensor([[ 4.9541e-04,  4.9541e-04,  4.9541e-04,  4.9541e-04,  4.9541e-04,\n",
       "           4.9541e-04,  4.9541e-04,  4.9541e-04,  4.9541e-04,  4.9541e-04,\n",
       "           4.9541e-04,  4.9541e-04, -1.5789e+00, -1.5790e+00, -1.5791e+00,\n",
       "          -1.5792e+00, -1.5793e+00, -1.5795e+00, -1.5796e+00, -1.5798e+00,\n",
       "          -1.5800e+00, -1.5801e+00, -1.8051e+00, -1.6492e+00]]),\n",
       " tensor([[0.]]),\n",
       " array([False]),\n",
       " [{'auxiliary': array([0.43628051])}])"
      ]
     },
     "execution_count": 35,
     "metadata": {},
     "output_type": "execute_result"
    }
   ],
   "source": [
    "envs.step(torch.tensor([[1]]))"
   ]
  },
  {
   "cell_type": "code",
   "execution_count": 49,
   "metadata": {},
   "outputs": [
    {
     "data": {
      "image/png": "[encoded data removed]",
      "text/plain": [
       "<Figure size 600x600 with 1 Axes>"
      ]
     },
     "metadata": {
      "image/png": {
       "height": 600,
       "width": 600
      }
     },
     "output_type": "display_data"
    }
   ],
   "source": [
    "envs.get_attr('render')[0]()"
   ]
  },
  {
   "cell_type": "code",
   "execution_count": 36,
   "metadata": {},
   "outputs": [
    {
     "data": {
      "text/plain": [
       "185.09814297225236"
      ]
     },
     "execution_count": 36,
     "metadata": {},
     "output_type": "execute_result"
    }
   ],
   "source": [
    "np.linalg.norm(envs.get_attr('character')[0].pos - envs.get_attr('boxes')[0][-1].center)"
   ]
  },
  {
   "cell_type": "code",
   "execution_count": null,
   "metadata": {},
   "outputs": [],
   "source": []
  },
  {
   "cell_type": "code",
   "execution_count": 22,
   "metadata": {},
   "outputs": [
    {
     "data": {
      "text/plain": [
       "[250.0, 70.0]"
      ]
     },
     "execution_count": 22,
     "metadata": {},
     "output_type": "execute_result"
    }
   ],
   "source": []
  },
  {
   "cell_type": "code",
   "execution_count": null,
   "metadata": {},
   "outputs": [],
   "source": []
  },
  {
   "cell_type": "markdown",
   "metadata": {},
   "source": [
    "# Manual Testing of Training Code"
   ]
  },
  {
   "cell_type": "code",
   "execution_count": 74,
   "metadata": {},
   "outputs": [],
   "source": [
    "from model_evaluation import load_model_and_env\n",
    "\n",
    "model_name = 'nav_poster_netstructure/nav_pdistal_width64batch200'\n",
    "model, obs_rms, env_kwargs = load_model_and_env(model_name, 0)"
   ]
  },
  {
   "cell_type": "code",
   "execution_count": 36,
   "metadata": {},
   "outputs": [],
   "source": [
    "\n",
    "vec_norm = utils.get_vec_normalize(envs)"
   ]
  },
  {
   "cell_type": "code",
   "execution_count": 95,
   "metadata": {},
   "outputs": [],
   "source": [
    "\n",
    "from a2c_ppo_acktr.storage import RolloutStorage\n",
    "from a2c_ppo_acktr.envs import make_vec_envs\n",
    "from a2c_ppo_acktr import algo, utils\n",
    "import torch\n",
    "from collections import deque\n",
    "\n",
    "#Overall training params\n",
    "num_steps = 10 #batch steps\n",
    "num_processes = 1\n",
    "env_name = 'NavEnv-v0'\n",
    "seed = 0\n",
    "gamma = 0.99\n",
    "log_dir = '/tmp/gym/'\n",
    "device = torch.device('cpu')\n",
    "capture_video = False\n",
    "\n",
    "#Training update step params\n",
    "use_gae = False\n",
    "gae_lambda = 0.95\n",
    "\n",
    "#Agent update params\n",
    "clip_param = 0.2\n",
    "ppo_epoch = 4\n",
    "num_mini_batch = 1 #how many minibatches to divide our num_steps*num_processes batch of rollouts into\n",
    "value_loss_coef = 0.5\n",
    "entropy_coef = 0.01\n",
    "auxiliary_loss_coef = 0.3\n",
    "lr = 7e-4\n",
    "eps = 1e-5\n",
    "max_grad_norm = 0.5\n",
    "\n",
    "\n",
    "num_updates = 1 #total batch_size updates to do\n",
    "\n",
    "# episode_rewards = deque(maxlen=10)\n",
    "agent, envs, rollouts = initialize_ppo_training(model, obs_rms, env_kwargs=env_kwargs)\n",
    "for j in range(num_updates):\n",
    "    populate_rollouts(model, envs, rollouts, num_steps)\n",
    "    update_model(agent, rollouts, use_gae=use_gae, gamma=gamma, gae_lambda=gae_lambda)\n"
   ]
  },
  {
   "cell_type": "code",
   "execution_count": 28,
   "metadata": {},
   "outputs": [],
   "source": [
    "import sys\n",
    "sys.path.append('..')\n",
    "from a2c_ppo_acktr.storage import RolloutStorage\n",
    "from a2c_ppo_acktr.envs import make_vec_envs\n",
    "from a2c_ppo_acktr import algo, utils\n",
    "from  a2c_ppo_acktr.model import Policy\n",
    "import torch\n",
    "from collections import deque\n",
    "\n",
    "'''\n",
    "First 4 parameters are for shared recurrent layer. Can freeze these by setting\n",
    "requires_grad = False\n",
    "'''\n",
    "\n",
    "def populate_rollouts(model, envs, rollouts, num_steps):\n",
    "    for step in range(num_steps):\n",
    "        #Generate rollouts for num_steps batch\n",
    "        with torch.no_grad():\n",
    "            outputs = model.act(rollouts.obs[step], rollouts.recurrent_hidden_states[step],\n",
    "                                rollouts.masks[step])\n",
    "            action = outputs['action']\n",
    "            value = outputs['value']\n",
    "            action_log_prob = outputs['action_log_probs']\n",
    "            recurrent_hidden_states = outputs['rnn_hxs']\n",
    "            # auxiliary_preds = outputs['auxiliary_preds']\n",
    "\n",
    "        obs, reward, done, infos = envs.step(action)\n",
    "\n",
    "        masks = torch.FloatTensor([[0.0] if done_ else [1.0] for done_ in done])\n",
    "        bad_masks = torch.FloatTensor([[0.0] if 'bad_transition' in info.keys() else [1.0] for info in infos])\n",
    "        rollouts.insert(obs, recurrent_hidden_states, action, action_log_prob, value, reward, masks, bad_masks)\n",
    "\n",
    "        \n",
    "def update_model(agent, rollouts, use_gae=False, gamma=0.99, gae_lambda=0.95,\n",
    "                 after_update=True):\n",
    "    \n",
    "    #Compute last value to be used for the update\n",
    "    with torch.no_grad():\n",
    "        next_value = agent.actor_critic.get_value(rollouts.obs[-1], rollouts.recurrent_hidden_states[-1],\n",
    "                                            rollouts.masks[-1]).detach()\n",
    "    \n",
    "    rollouts.compute_returns(next_value, use_gae, gamma, gae_lambda)\n",
    "    value_loss, action_loss, dist_entropy, approx_kl, clipfracs, auxiliary_loss = agent.update(rollouts)\n",
    "    \n",
    "    if after_update:\n",
    "        rollouts.after_update()\n",
    "        \n",
    "    return value_loss, action_loss, dist_entropy, approx_kl, clipfracs, auxiliary_loss\n",
    "\n",
    "\n",
    "def initialize_ppo_training(model=None, obs_rms=None, env_name='NavEnv-v0', env_kwargs={},\n",
    "                            nn_base='FlexBase', nn_base_kwargs={}, recurrent=True,\n",
    "                            num_steps=10, num_processes=1, seed=0, ppo_epoch=4, clip_param=0.5,\n",
    "                            num_mini_batch=1, value_loss_coef=0.5, entropy_coef=0.01, \n",
    "                            auxiliary_loss_coef=0.3, gamma=0.99, lr=7e-4, eps=1e-5, max_grad_norm=0.5,\n",
    "                            log_dir='/tmp/gym/', device=torch.device('cpu'), \n",
    "                            capture_video=False):\n",
    "    \n",
    "    #Initialize vectorized environments\n",
    "    envs = make_vec_envs(env_name, seed, num_processes, gamma, log_dir, device, False,\n",
    "                         capture_video=capture_video, env_kwargs=env_kwargs)\n",
    "\n",
    "    if model is None:\n",
    "        model = Policy(envs.observation_space.shape,\n",
    "                       envs.action_space,\n",
    "                       base='FlexBase',\n",
    "                       base_kwargs={'recurrent': recurrent,\n",
    "                           **nn_base_kwargs})\n",
    "        model.to(device)\n",
    "    \n",
    "    #Wrap model with an agent algorithm object\n",
    "    agent = algo.PPO(model, clip_param, ppo_epoch, num_mini_batch,\n",
    "                     value_loss_coef, entropy_coef, auxiliary_loss_coef, lr=lr,\n",
    "                     eps=eps, max_grad_norm=max_grad_norm)\n",
    "\n",
    "\n",
    "    #If loading a previously trained model, pass an obs_rms object to set the vec envs to use\n",
    "    vec_norm = utils.get_vec_normalize(envs)\n",
    "    if vec_norm is not None and obs_rms is not None:\n",
    "        vec_norm.obs_rms = obs_rms\n",
    "\n",
    "\n",
    "    #Initialize storage\n",
    "    rollouts = RolloutStorage(num_steps, num_processes, envs.observation_space.shape, envs.action_space,\n",
    "                              model.recurrent_hidden_state_size, model.auxiliary_output_size)\n",
    "    #Storage objects initializes a bunch of empty tensors to store information, e.g.\n",
    "    #obs has shape (num_steps+1, num_processes, obs_shape)\n",
    "    #rewards has shape (num_steps, num_processes, 1)\n",
    "\n",
    "    #obs, recurrent_hidden_states, value_preds, returns all have batch size num_steps+1\n",
    "    #rewards, action_log_probs, actions, masks, auxiliary_preds, auxiliary_truths all have batch size num_steps\n",
    "    obs = envs.reset()\n",
    "    rollouts.obs[0].copy_(obs)\n",
    "    rollouts.to(device)\n",
    "    \n",
    "    return agent, envs, rollouts"
   ]
  },
  {
   "cell_type": "code",
   "execution_count": 27,
   "metadata": {
    "collapsed": true,
    "jupyter": {
     "outputs_hidden": true
    },
    "tags": []
   },
   "outputs": [
    {
     "name": "stdout",
     "output_type": "stream",
     "text": [
      "tensor([0., 0., 0., 0., 0., 0., 0., 0., 0., 0., 0., 0., 0., 0., 0., 0., 0., 0., 0., 0., 0., 0., 0., 0.])\n",
      "tensor([0., 0., 0., 0., 0., 0., 0., 0., 0., 0., 0., 0., 0., 0., 0., 0., 0., 0., 0., 0., 0., 0., 0., 0.,\n",
      "        0., 0., 0., 0., 0., 0., 0., 0., 0., 0., 0., 0., 0., 0., 0., 0., 0., 0., 0., 0., 0., 0., 0., 0.,\n",
      "        0., 0., 0., 0., 0., 0., 0., 0., 0., 0., 0., 0., 0., 0., 0., 0.])\n",
      "tensor(0.)\n",
      "tensor(0.)\n",
      "tensor([ 0.0020, -0.0001,  0.0021, -0.0019, -0.0016, -0.0021, -0.0022,  0.0019,\n",
      "         0.0021,  0.0023, -0.0017, -0.0019,  0.0021, -0.0025, -0.0020, -0.0021,\n",
      "        -0.0022,  0.0023,  0.0022, -0.0021, -0.0022,  0.0022, -0.0020,  0.0019,\n",
      "        -0.0021, -0.0021, -0.0019, -0.0023,  0.0024, -0.0020, -0.0025,  0.0023,\n",
      "        -0.0021,  0.0019,  0.0023,  0.0023,  0.0022,  0.0025, -0.0024,  0.0020,\n",
      "         0.0022, -0.0021,  0.0018,  0.0020,  0.0022, -0.0021,  0.0020, -0.0020,\n",
      "         0.0018,  0.0023,  0.0021, -0.0019,  0.0016,  0.0023, -0.0018,  0.0020,\n",
      "        -0.0017, -0.0018, -0.0021, -0.0020,  0.0020,  0.0016,  0.0021,  0.0019])\n",
      "tensor(-0.0020)\n",
      "tensor([ 0.0027, -0.0025, -0.0026,  0.0025, -0.0010,  0.0026,  0.0018, -0.0026,\n",
      "        -0.0026, -0.0025,  0.0022,  0.0026, -0.0026, -0.0026,  0.0027,  0.0026,\n",
      "         0.0026, -0.0026, -0.0025,  0.0026,  0.0026,  0.0027, -0.0014, -0.0022,\n",
      "         0.0026,  0.0027,  0.0025,  0.0027, -0.0025,  0.0026,  0.0027, -0.0027,\n",
      "         0.0025, -0.0023, -0.0026, -0.0018, -0.0027, -0.0019,  0.0006, -0.0026,\n",
      "        -0.0017,  0.0026, -0.0025, -0.0027, -0.0026,  0.0026, -0.0026,  0.0026,\n",
      "        -0.0025,  0.0023,  0.0018,  0.0025, -0.0026, -0.0027,  0.0025, -0.0026,\n",
      "         0.0021,  0.0025,  0.0027,  0.0027, -0.0027, -0.0017, -0.0027, -0.0026])\n",
      "tensor(0.0027)\n",
      "tensor([ 2.0551e-03, -7.0995e-04, -8.8781e-04,  1.2339e-03, -4.8439e-04,\n",
      "        -2.0082e-03, -9.8714e-04,  1.4511e-03, -1.8351e-03,  2.2894e-03,\n",
      "         4.9080e-04,  1.0442e-03, -1.3048e-03, -2.2973e-03,  5.6988e-04,\n",
      "         6.2481e-04,  6.6774e-04, -2.1784e-03,  2.1733e-03,  2.0048e-03,\n",
      "        -1.6067e-03,  2.1166e-03,  4.0483e-04, -3.0788e-04,  4.1120e-04,\n",
      "         8.4461e-04,  5.7729e-04, -4.2860e-04, -1.4746e-03, -1.0273e-03,\n",
      "         3.6113e-04, -2.2374e-03,  7.7692e-04,  5.9095e-04,  4.7216e-04,\n",
      "         2.0977e-03, -3.3587e-05,  2.3570e-03,  1.4068e-03,  2.1199e-03,\n",
      "        -6.9349e-04,  6.0844e-04,  5.6770e-04,  1.7067e-03,  5.8380e-04,\n",
      "         2.7127e-04,  5.3680e-04, -1.9461e-03, -1.3646e-03, -7.5281e-05,\n",
      "        -8.5135e-04,  2.1948e-03, -5.5367e-04, -6.3119e-04,  5.2686e-04,\n",
      "         8.5945e-04, -2.3621e-03, -1.0499e-03, -2.9232e-04,  4.9047e-04,\n",
      "        -2.3274e-03, -1.5054e-03,  4.0106e-04,  1.9310e-04])\n",
      "tensor(0.0006)\n",
      "tensor([-0.0023,  0.0021,  0.0019,  0.0011, -0.0010,  0.0023, -0.0006,  0.0009,\n",
      "         0.0023,  0.0023,  0.0023, -0.0022,  0.0003, -0.0022, -0.0022, -0.0016,\n",
      "         0.0019, -0.0023, -0.0022,  0.0023,  0.0023, -0.0008,  0.0023,  0.0010,\n",
      "         0.0015,  0.0018, -0.0023,  0.0023, -0.0019,  0.0022,  0.0014, -0.0023,\n",
      "        -0.0023, -0.0016,  0.0022, -0.0023, -0.0021,  0.0017, -0.0023, -0.0021,\n",
      "        -0.0015, -0.0012,  0.0021, -0.0023, -0.0015, -0.0020,  0.0023,  0.0021,\n",
      "        -0.0023,  0.0020, -0.0022, -0.0021, -0.0022, -0.0022, -0.0012, -0.0023,\n",
      "        -0.0020,  0.0021,  0.0020,  0.0007,  0.0020, -0.0019,  0.0023,  0.0019])\n",
      "tensor(-0.0023)\n",
      "tensor(0.0021)\n"
     ]
    },
    {
     "ename": "IndexError",
     "evalue": "invalid index of a 0-dim tensor. Use `tensor.item()` in Python or `tensor.item<T>()` in C++ to convert a 0-dim tensor to a number",
     "output_type": "error",
     "traceback": [
      "\u001b[1;31m---------------------------------------------------------------------------\u001b[0m",
      "\u001b[1;31mIndexError\u001b[0m                                Traceback (most recent call last)",
      "Input \u001b[1;32mIn [27]\u001b[0m, in \u001b[0;36m<cell line: 24>\u001b[1;34m()\u001b[0m\n\u001b[0;32m     22\u001b[0m     update_model(agent, rollouts)\n\u001b[0;32m     24\u001b[0m \u001b[38;5;28;01mfor\u001b[39;00m i \u001b[38;5;129;01min\u001b[39;00m \u001b[38;5;28mrange\u001b[39m(\u001b[38;5;28mlen\u001b[39m(params)):\n\u001b[1;32m---> 25\u001b[0m     \u001b[38;5;28mprint\u001b[39m(\u001b[43mtemp_param_vals\u001b[49m\u001b[43m[\u001b[49m\u001b[43mi\u001b[49m\u001b[43m]\u001b[49m\u001b[38;5;241;43m.\u001b[39;49m\u001b[43msqueeze\u001b[49m\u001b[43m(\u001b[49m\u001b[43m)\u001b[49m\u001b[43m[\u001b[49m\u001b[38;5;241;43m0\u001b[39;49m\u001b[43m]\u001b[49m \u001b[38;5;241m-\u001b[39m params[i]\u001b[38;5;241m.\u001b[39mdata\u001b[38;5;241m.\u001b[39msqueeze()[\u001b[38;5;241m0\u001b[39m])\n",
      "\u001b[1;31mIndexError\u001b[0m: invalid index of a 0-dim tensor. Use `tensor.item()` in Python or `tensor.item<T>()` in C++ to convert a 0-dim tensor to a number"
     ]
    }
   ],
   "source": [
    "'''\n",
    "Testing freezing params\n",
    "\n",
    "We load a trained model, freeze the recurrent layer and train, showing that indeed parameters\n",
    "besides the recurrent layer have updated\n",
    "'''\n",
    "\n",
    "from model_evaluation import load_model_and_env\n",
    "\n",
    "model_name = 'nav_poster_netstructure/nav_pdistal_width64batch200'\n",
    "model, obs_rms, env_kwargs = load_model_and_env(model_name, 0)\n",
    "\n",
    "params = list(model.parameters())\n",
    "temp_param_vals = []\n",
    "for i in range(4):\n",
    "    params[i].requires_grad=False\n",
    "for i in range(len(params)):\n",
    "    temp_param_vals.append(params[i].data.clone())\n",
    "# list(model.parameters())[0].requires_grad=False\n",
    "\n",
    "\n",
    "\n",
    "num_updates = 1 #total batch_size updates to do\n",
    "num_steps = 10\n",
    "\n",
    "agent, envs, rollouts = initialize_ppo_training(model, obs_rms, env_kwargs=env_kwargs)\n",
    "for j in range(num_updates):\n",
    "    populate_rollouts(model, envs, rollouts, num_steps)\n",
    "    update_model(agent, rollouts)\n",
    "    \n",
    "for i in range(len(params)):\n",
    "    print(temp_param_vals[i].squeeze()[0] - params[i].data.squeeze()[0]) "
   ]
  },
  {
   "cell_type": "code",
   "execution_count": 81,
   "metadata": {},
   "outputs": [
    {
     "data": {
      "image/png": "[encoded data removed]",
      "text/plain": [
       "Figure(nrows=2, ncols=2, refwidth=2.5)"
      ]
     },
     "metadata": {
      "image/png": {
       "height": 565,
       "width": 587
      }
     },
     "output_type": "display_data"
    }
   ],
   "source": [
    "'''\n",
    "Testing cloning params\n",
    "\n",
    "We initiate a new model and then clone the first set of parameters from a trained model onto it\n",
    "'''\n",
    "\n",
    "from model_evaluation import load_model_and_env\n",
    "\n",
    "model_name = 'nav_poster_netstructure/nav_pdistal_width64batch200'\n",
    "model, obs_rms, env_kwargs = load_model_and_env(model_name, 0)\n",
    "\n",
    "agent, envs, rollouts = initialize_ppo_training(env_kwargs=env_kwargs)\n",
    "\n",
    "\n",
    "\n",
    "import matplotlib.pyplot as plt\n",
    "import proplot as pplt\n",
    "\n",
    "fig, ax = pplt.subplots(nrows=2, ncols=2, sharex=False)\n",
    "ax.format(leftlabels=['Cloned', 'Not Cloned'])\n",
    "params1 = list(agent.actor_critic.parameters())\n",
    "params2 = list(model.parameters())\n",
    "\n",
    "params1[0].data.copy_(params2[0].data)\n",
    "\n",
    "for i in range(2):\n",
    "    ax[i, 0].hist(params1[i].reshape(-1).detach().numpy(), bins=30)\n",
    "    ax[i, 1].hist(params2[i].reshape(-1).detach().numpy(), bins=30)"
   ]
  },
  {
   "cell_type": "code",
   "execution_count": 75,
   "metadata": {},
   "outputs": [],
   "source": [
    "list(model.parameters())[0].requires_grad=False"
   ]
  },
  {
   "cell_type": "code",
   "execution_count": 11,
   "metadata": {},
   "outputs": [
    {
     "data": {
      "text/plain": [
       "Parameter containing:\n",
       "tensor([[-0.2363, -0.1641, -0.2136,  ..., -0.0875, -0.0453,  0.0504],\n",
       "        [ 0.0946,  0.1231,  0.0256,  ...,  0.1203,  0.4508,  0.4429],\n",
       "        [ 0.0444,  0.1615,  0.0574,  ..., -0.0182, -0.1240, -0.2136],\n",
       "        ...,\n",
       "        [ 0.0231,  0.0861, -0.0638,  ...,  0.0427, -0.0582, -0.4408],\n",
       "        [-0.0795, -0.0732, -0.0005,  ...,  0.0230, -0.0275,  0.0313],\n",
       "        [ 0.3718,  0.0880,  0.1137,  ..., -0.0081, -0.0256,  0.0841]],\n",
       "       requires_grad=True)"
      ]
     },
     "execution_count": 11,
     "metadata": {},
     "output_type": "execute_result"
    }
   ],
   "source": [
    "model_name = 'nav_poster_netstructure/nav_pdistal_width64batch200'\n",
    "model, obs_rms, env_kwargs = load_model_and_env(model_name, 0)\n",
    "\n",
    "list(model.parameters())[0]"
   ]
  },
  {
   "cell_type": "code",
   "execution_count": 47,
   "metadata": {},
   "outputs": [
    {
     "name": "stdout",
     "output_type": "stream",
     "text": [
      "torch.Size([192, 24])\n",
      "torch.Size([192, 64])\n",
      "torch.Size([192])\n",
      "torch.Size([192])\n",
      "torch.Size([64, 64])\n",
      "torch.Size([64])\n",
      "torch.Size([64, 64])\n",
      "torch.Size([64])\n",
      "torch.Size([64, 64])\n",
      "torch.Size([64])\n",
      "torch.Size([64, 64])\n",
      "torch.Size([64])\n",
      "torch.Size([1, 64])\n",
      "torch.Size([1])\n",
      "torch.Size([4, 64])\n",
      "torch.Size([4])\n"
     ]
    }
   ],
   "source": [
    "for param in model.parameters():\n",
    "    print(param.shape)"
   ]
  },
  {
   "cell_type": "code",
   "execution_count": 50,
   "metadata": {},
   "outputs": [],
   "source": [
    "list(model.parameters())[0].requires_grad = False"
   ]
  },
  {
   "cell_type": "code",
   "execution_count": 52,
   "metadata": {},
   "outputs": [
    {
     "data": {
      "text/plain": [
       "False"
      ]
     },
     "execution_count": 52,
     "metadata": {},
     "output_type": "execute_result"
    }
   ],
   "source": [
    "list(model.parameters())[0].requires_grad"
   ]
  },
  {
   "cell_type": "code",
   "execution_count": 25,
   "metadata": {},
   "outputs": [],
   "source": [
    "test.append(6)"
   ]
  },
  {
   "cell_type": "code",
   "execution_count": 26,
   "metadata": {},
   "outputs": [
    {
     "data": {
      "text/plain": [
       "deque([4, 4, 5, 5, 6])"
      ]
     },
     "execution_count": 26,
     "metadata": {},
     "output_type": "execute_result"
    }
   ],
   "source": [
    "test"
   ]
  },
  {
   "cell_type": "markdown",
   "metadata": {},
   "source": [
    "# Manual Testing of scheduler reader and main"
   ]
  },
  {
   "cell_type": "code",
   "execution_count": 5,
   "metadata": {},
   "outputs": [
    {
     "data": {
      "text/plain": [
       "'python main.py --wandb-project-name Nav_Shared_Layers --exp-name nav_pdistal_width16clone1_t0 --save-name nav_pdistal_width16clone1_t0 --num-env-steps 5000000 --env-name NavEnv-v0 --algo ppo --num-mini-batch 1 --num-processes 1 --num-steps 200 --checkpoint-interval 10 --recurrent --seed 0 --no-cuda --env-kwargs num_objects=0 rew_structure=goal task_structure=2 wall_colors=1 num_rays=12 fov=1 poster=1 character_reset_pos=1 --nn-base FlexBase --nn-base-kwargs hidden_size=16 --clone-parameter-experiment --clone-args clone_path=../trained_models/ppo/nav_poster_netstructure/nav_pdistal_width16batch200_t1.pt clone_layers=4 freeze=True --config-file-name nav_pdistal_width16clone1_t0 '"
      ]
     },
     "execution_count": 5,
     "metadata": {},
     "output_type": "execute_result"
    }
   ],
   "source": [
    "%run ../testargs\n",
    "\n",
    "convert_config_to_command('nav_pdistal_width16clone1_t0', config_folder='../experiment_configs/')"
   ]
  },
  {
   "cell_type": "code",
   "execution_count": 6,
   "metadata": {},
   "outputs": [
    {
     "name": "stdout",
     "output_type": "stream",
     "text": [
      "['num_objects=0', 'rew_structure=goal', 'task_structure=2', 'wall_colors=1', 'num_rays=12', 'fov=1', 'poster=1', 'character_reset_pos=1']\n",
      "['hidden_size=16']\n",
      "['clone_path=../trained_models/ppo/nav_poster_netstructure/nav_pdistal_width16batch200_t1.pt', 'clone_layers=4', 'freeze=True']\n"
     ]
    }
   ],
   "source": [
    "%run ../testargs --wandb-project-name Nav_Shared_Layers --exp-name nav_pdistal_width16clone1_t0 --save-name nav_pdistal_width16clone1_t0 --num-env-steps 5000000 --env-name NavEnv-v0 --algo ppo --num-mini-batch 1 --num-processes 1 --num-steps 200 --checkpoint-interval 10 --recurrent --seed 0 --no-cuda --env-kwargs num_objects=0 rew_structure=goal task_structure=2 wall_colors=1 num_rays=12 fov=1 poster=1 character_reset_pos=1 --nn-base FlexBase --nn-base-kwargs hidden_size=16 --clone-parameter-experiment --clone-args clone_path=../trained_models/ppo/nav_poster_netstructure/nav_pdistal_width16batch200_t1.pt clone_layers=4 freeze=True --config-file-name nav_pdistal_width16clone1_t0"
   ]
  },
  {
   "cell_type": "code",
   "execution_count": 3,
   "metadata": {},
   "outputs": [
    {
     "ename": "ModuleNotFoundError",
     "evalue": "No module named 'evaluation'",
     "output_type": "error",
     "traceback": [
      "\u001b[1;31m---------------------------------------------------------------------------\u001b[0m",
      "\u001b[1;31mModuleNotFoundError\u001b[0m                       Traceback (most recent call last)",
      "Input \u001b[1;32mIn [3]\u001b[0m, in \u001b[0;36m<cell line: 23>\u001b[1;34m()\u001b[0m\n\u001b[0;32m     21\u001b[0m \u001b[38;5;28;01mfrom\u001b[39;00m \u001b[38;5;21;01ma2c_ppo_acktr\u001b[39;00m\u001b[38;5;21;01m.\u001b[39;00m\u001b[38;5;21;01mmodel\u001b[39;00m \u001b[38;5;28;01mimport\u001b[39;00m Policy\n\u001b[0;32m     22\u001b[0m \u001b[38;5;28;01mfrom\u001b[39;00m \u001b[38;5;21;01ma2c_ppo_acktr\u001b[39;00m\u001b[38;5;21;01m.\u001b[39;00m\u001b[38;5;21;01mstorage\u001b[39;00m \u001b[38;5;28;01mimport\u001b[39;00m RolloutStorage\n\u001b[1;32m---> 23\u001b[0m \u001b[38;5;28;01mfrom\u001b[39;00m \u001b[38;5;21;01mevaluation\u001b[39;00m \u001b[38;5;28;01mimport\u001b[39;00m evaluate\n\u001b[0;32m     25\u001b[0m \u001b[38;5;28;01mfrom\u001b[39;00m \u001b[38;5;21;01mscheduler\u001b[39;00m \u001b[38;5;28;01mimport\u001b[39;00m write_latest_exp_complete\n",
      "\u001b[1;31mModuleNotFoundError\u001b[0m: No module named 'evaluation'"
     ]
    }
   ],
   "source": [
    "import copy\n",
    "import glob\n",
    "import os\n",
    "import time\n",
    "from collections import deque\n",
    "from shutil import copyfile\n",
    "\n",
    "import gym\n",
    "import gym_nav\n",
    "import numpy as np\n",
    "import torch\n",
    "import torch.nn as nn\n",
    "import torch.nn.functional as F\n",
    "import torch.optim as optim\n",
    "from torch.utils.tensorboard import SummaryWriter\n",
    "\n",
    "from a2c_ppo_acktr import algo, utils\n",
    "from a2c_ppo_acktr.algo import gail\n",
    "from a2c_ppo_acktr.arguments import get_args\n",
    "from a2c_ppo_acktr.envs import make_vec_envs\n",
    "from a2c_ppo_acktr.model import Policy\n",
    "from a2c_ppo_acktr.storage import RolloutStorage\n",
    "from evaluation import evaluate\n",
    "\n",
    "from scheduler import write_latest_exp_complete"
   ]
  },
  {
   "cell_type": "code",
   "execution_count": 27,
   "metadata": {},
   "outputs": [
    {
     "name": "stdout",
     "output_type": "stream",
     "text": [
      "initializing environments\n",
      "initializing model\n",
      "100\n"
     ]
    }
   ],
   "source": [
    "device = torch.device(\"cuda:0\" if args.cuda else \"cpu\")\n",
    "print('initializing environments')\n",
    "envs = make_vec_envs(args.env_name, args.seed, args.num_processes,\n",
    "                     args.gamma, args.log_dir, device, False, capture_video=args.capture_video,\n",
    "                     env_kwargs=args.env_kwargs)\n",
    "\n",
    "loaded_model = False\n",
    "# print(args.cont)\n",
    "print('initializing model')\n",
    "print(args.save_interval)\n",
    "\n",
    "#Andy: for continuing an experiment, args.cont is True\n",
    "if args.cont:\n",
    "    loaded_model = True\n",
    "    actor_critic, obs_rms = torch.load(save_path)\n",
    "\n",
    "if not loaded_model:\n",
    "    actor_critic = Policy(\n",
    "        envs.observation_space.shape,\n",
    "        envs.action_space,\n",
    "        base=args.nn_base,\n",
    "        base_kwargs={'recurrent': args.recurrent_policy, \n",
    "                     **args.nn_base_kwargs})\n",
    "\n",
    "    #Andy: if cloning parameters, do it here. We are assuming\n",
    "    #that the target cloning network has the appropriate parameter\n",
    "    #sizes\n",
    "    if args.clone_parameter_experiment:\n",
    "        clone_args = args.clone_args\n",
    "        clone_actor_critic, obs_rms = torch.load(clone_args['clone_path'])\n",
    "        clone_layers = clone_args['clone_layers']\n",
    "        freeze_layers = clone_args['freeze']\n",
    "\n",
    "        clone_params = list(clone_actor_critic.parameters())\n",
    "        actor_critic_params = list(actor_critic.parameters())\n",
    "\n",
    "        if type(clone_layers) == int:\n",
    "            clone_layers = range(clone_layers)\n",
    "        if type(freeze_layers) == bool:\n",
    "            freeze_layers = [freeze_layers]*len(clone_layers)\n",
    "        for i, layer in enumerate(clone_layers):\n",
    "            freeze = freeze_layers[i]\n",
    "\n",
    "            actor_critic_params[layer].data.copy_(clone_params[layer].data)\n",
    "            if freeze:\n",
    "                actor_critic_params[layer].requires_grad = False\n",
    "\n",
    "    actor_critic.to(device)"
   ]
  },
  {
   "cell_type": "code",
   "execution_count": 29,
   "metadata": {},
   "outputs": [
    {
     "data": {
      "text/plain": [
       "[tensor(-0.1996),\n",
       " tensor(0.0540),\n",
       " tensor(0.1136),\n",
       " tensor(0.1136),\n",
       " tensor(-0.4285, grad_fn=<SelectBackward0>),\n",
       " tensor(0., grad_fn=<SelectBackward0>),\n",
       " tensor(0.1263, grad_fn=<SelectBackward0>),\n",
       " tensor(0., grad_fn=<SelectBackward0>),\n",
       " tensor(-0.5297, grad_fn=<SelectBackward0>),\n",
       " tensor(0., grad_fn=<SelectBackward0>),\n",
       " tensor(0.0190, grad_fn=<SelectBackward0>),\n",
       " tensor(0., grad_fn=<SelectBackward0>),\n",
       " tensor(0.3803, grad_fn=<SelectBackward0>),\n",
       " tensor(0., grad_fn=<SelectBackward0>),\n",
       " tensor(0.0024, grad_fn=<SelectBackward0>),\n",
       " tensor(0., grad_fn=<SelectBackward0>)]"
      ]
     },
     "execution_count": 29,
     "metadata": {},
     "output_type": "execute_result"
    }
   ],
   "source": [
    "[params.reshape(-1)[0] for params in actor_critic_params]"
   ]
  },
  {
   "cell_type": "code",
   "execution_count": 30,
   "metadata": {},
   "outputs": [
    {
     "data": {
      "text/plain": [
       "[tensor(-0.1996, grad_fn=<SelectBackward0>),\n",
       " tensor(0.0540, grad_fn=<SelectBackward0>),\n",
       " tensor(0.1136, grad_fn=<SelectBackward0>),\n",
       " tensor(0.1136, grad_fn=<SelectBackward0>),\n",
       " tensor(-0.2849, grad_fn=<SelectBackward0>),\n",
       " tensor(0.0846, grad_fn=<SelectBackward0>),\n",
       " tensor(-0.2403, grad_fn=<SelectBackward0>),\n",
       " tensor(0.0673, grad_fn=<SelectBackward0>),\n",
       " tensor(0.4290, grad_fn=<SelectBackward0>),\n",
       " tensor(-0.1930, grad_fn=<SelectBackward0>),\n",
       " tensor(0.6229, grad_fn=<SelectBackward0>),\n",
       " tensor(0.0408, grad_fn=<SelectBackward0>),\n",
       " tensor(-0.0314, grad_fn=<SelectBackward0>),\n",
       " tensor(0.3039, grad_fn=<SelectBackward0>),\n",
       " tensor(0.0918, grad_fn=<SelectBackward0>),\n",
       " tensor(0.0998, grad_fn=<SelectBackward0>)]"
      ]
     },
     "execution_count": 30,
     "metadata": {},
     "output_type": "execute_result"
    }
   ],
   "source": [
    "[params.reshape(-1)[0] for params in clone_params]"
   ]
  },
  {
   "cell_type": "code",
   "execution_count": 16,
   "metadata": {},
   "outputs": [
    {
     "data": {
      "text/plain": [
       "[torch.Size([48, 24]),\n",
       " torch.Size([48, 16]),\n",
       " torch.Size([48]),\n",
       " torch.Size([48]),\n",
       " torch.Size([16, 16]),\n",
       " torch.Size([16]),\n",
       " torch.Size([16, 16]),\n",
       " torch.Size([16]),\n",
       " torch.Size([16, 16]),\n",
       " torch.Size([16]),\n",
       " torch.Size([16, 16]),\n",
       " torch.Size([16]),\n",
       " torch.Size([1, 16]),\n",
       " torch.Size([1]),\n",
       " torch.Size([4, 16]),\n",
       " torch.Size([4])]"
      ]
     },
     "execution_count": 16,
     "metadata": {},
     "output_type": "execute_result"
    }
   ],
   "source": [
    "[params.shape for params in actor_critic_params]"
   ]
  },
  {
   "cell_type": "code",
   "execution_count": 17,
   "metadata": {},
   "outputs": [
    {
     "data": {
      "text/plain": [
       "[torch.Size([48, 24]),\n",
       " torch.Size([48, 16]),\n",
       " torch.Size([48]),\n",
       " torch.Size([48]),\n",
       " torch.Size([16, 16]),\n",
       " torch.Size([16]),\n",
       " torch.Size([16, 16]),\n",
       " torch.Size([16]),\n",
       " torch.Size([16, 16]),\n",
       " torch.Size([16]),\n",
       " torch.Size([16, 16]),\n",
       " torch.Size([16]),\n",
       " torch.Size([1, 16]),\n",
       " torch.Size([1]),\n",
       " torch.Size([4, 16]),\n",
       " torch.Size([4])]"
      ]
     },
     "execution_count": 17,
     "metadata": {},
     "output_type": "execute_result"
    }
   ],
   "source": [
    "[params.shape for params in clone_params]"
   ]
  },
  {
   "cell_type": "code",
   "execution_count": 24,
   "metadata": {},
   "outputs": [
    {
     "data": {
      "text/plain": [
       "tensor([[-0.1996, -0.0616,  0.0755,  ...,  0.3947,  0.2309, -0.5053],\n",
       "        [ 0.3225,  0.3477,  0.2927,  ...,  0.1383,  0.0856, -0.2380],\n",
       "        [-0.3253, -0.3571, -0.1839,  ...,  0.0409,  0.0971, -0.0380],\n",
       "        ...,\n",
       "        [-0.1191, -0.0896, -0.0520,  ...,  0.1945, -0.0092,  0.5069],\n",
       "        [ 0.2235,  0.3383,  0.0207,  ..., -0.0743,  0.1591,  0.1812],\n",
       "        [ 0.2866,  0.0089,  0.0020,  ...,  0.3050,  0.1600,  0.2031]])"
      ]
     },
     "execution_count": 24,
     "metadata": {},
     "output_type": "execute_result"
    }
   ],
   "source": [
    "actor_critic_params[0].data.copy_(clone_params[0].data)"
   ]
  },
  {
   "cell_type": "code",
   "execution_count": 26,
   "metadata": {},
   "outputs": [],
   "source": [
    "actor_critic_params[0].requires_grad = False"
   ]
  },
  {
   "cell_type": "code",
   "execution_count": 23,
   "metadata": {},
   "outputs": [
    {
     "data": {
      "text/plain": [
       "tensor([[ 0.0814,  0.2402,  0.1176,  ...,  0.0748, -0.0588, -0.2830],\n",
       "        [ 0.0721, -0.0275, -0.0505,  ..., -0.0927, -0.0470,  0.1332],\n",
       "        [-0.0504, -0.1441,  0.1046,  ...,  0.2720,  0.1938,  0.0620],\n",
       "        ...,\n",
       "        [-0.1662, -0.2452, -0.0177,  ...,  0.0896, -0.3231, -0.0479],\n",
       "        [ 0.0427, -0.1586,  0.2644,  ...,  0.1270, -0.0768,  0.1847],\n",
       "        [ 0.0902, -0.3336, -0.1938,  ...,  0.0267,  0.0887,  0.1183]])"
      ]
     },
     "execution_count": 23,
     "metadata": {},
     "output_type": "execute_result"
    }
   ],
   "source": [
    "actor_critic_params[0].data"
   ]
  },
  {
   "cell_type": "code",
   "execution_count": 22,
   "metadata": {},
   "outputs": [
    {
     "data": {
      "text/plain": [
       "Parameter containing:\n",
       "tensor([[ 0.0814,  0.2402,  0.1176,  ...,  0.0748, -0.0588, -0.2830],\n",
       "        [ 0.0721, -0.0275, -0.0505,  ..., -0.0927, -0.0470,  0.1332],\n",
       "        [-0.0504, -0.1441,  0.1046,  ...,  0.2720,  0.1938,  0.0620],\n",
       "        ...,\n",
       "        [-0.1662, -0.2452, -0.0177,  ...,  0.0896, -0.3231, -0.0479],\n",
       "        [ 0.0427, -0.1586,  0.2644,  ...,  0.1270, -0.0768,  0.1847],\n",
       "        [ 0.0902, -0.3336, -0.1938,  ...,  0.0267,  0.0887,  0.1183]],\n",
       "       requires_grad=True)"
      ]
     },
     "execution_count": 22,
     "metadata": {},
     "output_type": "execute_result"
    }
   ],
   "source": [
    "actor_critic_params[0]"
   ]
  },
  {
   "cell_type": "code",
   "execution_count": 12,
   "metadata": {},
   "outputs": [
    {
     "data": {
      "text/plain": [
       "torch.Size([48, 16])"
      ]
     },
     "execution_count": 12,
     "metadata": {},
     "output_type": "execute_result"
    }
   ],
   "source": [
    "actor_critic_params[layer].shape"
   ]
  }
 ],
 "metadata": {
  "kernelspec": {
   "display_name": "Python 3 (ipykernel)",
   "language": "python",
   "name": "python3"
  },
  "language_info": {
   "codemirror_mode": {
    "name": "ipython",
    "version": 3
   },
   "file_extension": ".py",
   "mimetype": "text/x-python",
   "name": "python",
   "nbconvert_exporter": "python",
   "pygments_lexer": "ipython3",
   "version": "3.9.12"
  }
 },
 "nbformat": 4,
 "nbformat_minor": 4
}
