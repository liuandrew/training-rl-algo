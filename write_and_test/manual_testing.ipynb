{
 "cells": [
  {
   "cell_type": "markdown",
   "metadata": {},
   "source": [
    "# Manual Testing\n",
    "\n",
    "This file is designed to load in the saved models trained by main.py and evaluate them"
   ]
  },
  {
   "cell_type": "code",
   "execution_count": 1,
   "metadata": {},
   "outputs": [],
   "source": [
    "from a2c_ppo_acktr import algo, utils\n",
    "import gym\n",
    "import numpy as np\n",
    "import torch\n",
    "import torch.nn as nn\n",
    "import torch.nn.functional as F\n",
    "import torch.optim as optim\n",
    "from torch.utils.tensorboard import SummaryWriter\n",
    "from evaluation import evaluate\n",
    "\n",
    "import matplotlib.pyplot as plt\n",
    "\n",
    "def load_model(algo='ppo', env=None, filename=None):\n",
    "    '''\n",
    "    Load a trained model from the algorithm\n",
    "    '''\n",
    "    if env is None and filename is None:\n",
    "        raise\n",
    "    file = 'trained_models/' + algo + '/'\n",
    "    if env is not None:\n",
    "        file = file + env + '.pt'\n",
    "    elif filename is not None:\n",
    "        file = file + filename\n",
    "        \n",
    "    model, rms = torch.load(file)\n",
    "\n",
    "    return model, rms\n",
    "    \n",
    "    "
   ]
  },
  {
   "cell_type": "markdown",
   "metadata": {},
   "source": [
    "## Example: Test Correlated 2-arm Bandits"
   ]
  },
  {
   "cell_type": "code",
   "execution_count": 2,
   "metadata": {},
   "outputs": [],
   "source": [
    "# env_name = 'CartPole-v1'\n",
    "env_name = 'Bandits-v0'\n",
    "model, rms = load_model(env=env_name, algo='a2c')\n",
    "log_dir = '/tmp/gym/_eval'\n",
    "device = torch.device(\"cpu\")\n"
   ]
  },
  {
   "cell_type": "code",
   "execution_count": 3,
   "metadata": {},
   "outputs": [
    {
     "name": "stdout",
     "output_type": "stream",
     "text": [
      " Evaluation using 10 episodes: mean reward 77.30000\n",
      "\n"
     ]
    }
   ],
   "source": [
    "all_obs, all_actions, all_rewards, all_hidden_states, eval_envs = evaluate(model, rms, env_name, 1, 10, log_dir, device)"
   ]
  },
  {
   "cell_type": "code",
   "execution_count": 4,
   "metadata": {},
   "outputs": [],
   "source": [
    "all_obs2 = torch.zeros(size=[len(all_obs)] + list(all_obs[0].shape))\n",
    "all_actions2 = torch.zeros(size=[len(all_actions)] + list(all_actions[0].shape))\n",
    "all_rewards2 = torch.zeros(size=[len(all_rewards)] + list(all_rewards[0].shape))\n",
    "all_hidden_states2 = torch.zeros(size=[len(all_hidden_states)] + list(all_hidden_states[0].shape))\n",
    "\n",
    "for i in range(len(all_obs)):\n",
    "    all_obs2[i] = all_obs[i]\n",
    "    all_actions2[i] = all_actions[i]\n",
    "    all_rewards2[i] = all_rewards[i]\n",
    "    all_hidden_states2[i] = all_hidden_states[i]"
   ]
  },
  {
   "cell_type": "code",
   "execution_count": 7,
   "metadata": {},
   "outputs": [],
   "source": [
    "reward_probabilities = eval_envs.get_attr('reward_probabilities')"
   ]
  },
  {
   "cell_type": "code",
   "execution_count": 19,
   "metadata": {},
   "outputs": [],
   "source": [
    "second_arm_probs = []\n",
    "second_arm_choices = []\n",
    "for i in range(all_actions2.shape[1]):\n",
    "    second_arm_choices.append(torch.mean(all_actions2.T[0][i]))\n",
    "    second_arm_probs.append(reward_probabilities[i][1])"
   ]
  },
  {
   "cell_type": "code",
   "execution_count": 21,
   "metadata": {},
   "outputs": [
    {
     "data": {
      "text/plain": [
       "<matplotlib.collections.PathCollection at 0x1268d44f408>"
      ]
     },
     "execution_count": 21,
     "metadata": {},
     "output_type": "execute_result"
    },
    {
     "data": {
      "image/png": "[encoded data removed]",
      "text/plain": [
       "<Figure size 432x288 with 1 Axes>"
      ]
     },
     "metadata": {
      "needs_background": "light"
     },
     "output_type": "display_data"
    }
   ],
   "source": [
    "plt.scatter(second_arm_probs, second_arm_choices)"
   ]
  },
  {
   "cell_type": "code",
   "execution_count": 24,
   "metadata": {},
   "outputs": [],
   "source": [
    "env = gym.make('Bandits-v0', num_arms=3)"
   ]
  },
  {
   "cell_type": "code",
   "execution_count": 29,
   "metadata": {},
   "outputs": [
    {
     "data": {
      "text/plain": [
       "(array([0., 0., 1., 1., 5.]), 1, False, {})"
      ]
     },
     "execution_count": 29,
     "metadata": {},
     "output_type": "execute_result"
    }
   ],
   "source": [
    "env.step(2)"
   ]
  },
  {
   "cell_type": "code",
   "execution_count": 30,
   "metadata": {},
   "outputs": [
    {
     "data": {
      "text/plain": [
       "array([0.32455324, 0.33017026, 0.3452765 ])"
      ]
     },
     "execution_count": 30,
     "metadata": {},
     "output_type": "execute_result"
    }
   ],
   "source": [
    "env.reward_probabilities"
   ]
  }
 ],
 "metadata": {
  "kernelspec": {
   "display_name": "Python 3",
   "language": "python",
   "name": "python3"
  },
  "language_info": {
   "codemirror_mode": {
    "name": "ipython",
    "version": 3
   },
   "file_extension": ".py",
   "mimetype": "text/x-python",
   "name": "python",
   "nbconvert_exporter": "python",
   "pygments_lexer": "ipython3",
   "version": "3.7.6"
  }
 },
 "nbformat": 4,
 "nbformat_minor": 4
}
