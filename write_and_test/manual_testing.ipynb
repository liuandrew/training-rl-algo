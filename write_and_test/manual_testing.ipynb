{
 "cells": [
  {
   "cell_type": "markdown",
   "metadata": {},
   "source": [
    "# Manual Testing\n",
    "\n",
    "This file is designed to load in the saved models trained by main.py and evaluate them"
   ]
  },
  {
   "cell_type": "code",
   "execution_count": 1,
   "metadata": {},
   "outputs": [],
   "source": [
    "import sys\n",
    "sys.path.append('..')\n",
    "from a2c_ppo_acktr import algo, utils\n",
    "import gym\n",
    "import numpy as np\n",
    "import torch\n",
    "import torch.nn as nn\n",
    "import torch.nn.functional as F\n",
    "import torch.optim as optim\n",
    "from torch.utils.tensorboard import SummaryWriter\n",
    "from evaluation import evaluate\n",
    "from tqdm import tqdm\n",
    "\n",
    "import matplotlib.pyplot as plt\n",
    "\n",
    "def load_model(algo='ppo', env=None, filename=None):\n",
    "    '''\n",
    "    Load a trained model from the algorithm\n",
    "    '''\n",
    "    if env is None and filename is None:\n",
    "        raise\n",
    "    file = 'trained_models/' + algo + '/'\n",
    "    if env is not None:\n",
    "        file = file + env + '.pt'\n",
    "    elif filename is not None:\n",
    "        file = file + filename\n",
    "        \n",
    "    model, rms = torch.load(file)\n",
    "\n",
    "    return model, rms\n",
    "    \n",
    "%run model_evaluation"
   ]
  },
  {
   "cell_type": "markdown",
   "metadata": {},
   "source": [
    "# Test running a single model and running Policy, FlexBase"
   ]
  },
  {
   "cell_type": "code",
   "execution_count": null,
   "metadata": {},
   "outputs": [],
   "source": [
    "%run model_evaluation\n",
    "\n",
    "model, obs_rms, kwargs = load_model_and_env('nav_auxiliary_tasks/nav_c4_auxwall1', 0)\n",
    "\n",
    "action_randomizer = lambda step: np.random.choice([0, 1, 2])\n",
    "results = forced_action_evaluate(model, obs_rms, forced_actions=action_randomizer, env_kwargs=kwargs, \n",
    "                                data_callback=nav_data_callback, num_episodes=1, with_activations=True)\n",
    "\n",
    "\n",
    "obs, rnn_hxs, masks = results['obs'][0], results['hidden_states'][0], results['masks'][0]\n",
    "\n",
    "import sys\n",
    "sys.path.append('../')\n",
    "from a2c_ppo_acktr.model import Policy\n",
    "\n",
    "env = gym.make('NavEnv-v0', **kwargs)\n",
    "\n",
    "model = Policy(obs.squeeze().shape, env.action_space, base='FlexBase', base_kwargs={'num_shared_layers': 0, 'auxiliary_heads': [[-1, 0, 1]]})\n",
    "# model = Policy(obs.squeeze().shape, env.action_space, base='FlexBase', base_kwargs={'num_shared_layers': 0})\n",
    "\n",
    "# model, obs_rms, kwargs = load_model_and_env('nav_invisible_shared/nav_c4_shared0.dist', 0)\n",
    "action_randomizer = lambda step: np.random.choice([0, 1, 2])\n",
    "results = forced_action_evaluate(model, obs_rms, forced_actions=action_randomizer, env_kwargs=kwargs, \n",
    "                                data_callback=nav_data_callback, num_episodes=1, with_activations=True)\n"
   ]
  },
  {
   "cell_type": "code",
   "execution_count": 6,
   "metadata": {},
   "outputs": [],
   "source": [
    "model, obs_rms, kwargs = load_model_and_env('nav_auxiliary_tasks2/nav_c4_auxeuclid0', 0)\n",
    "env = gym.make('NavEnv-v0', **kwargs)"
   ]
  },
  {
   "cell_type": "code",
   "execution_count": 18,
   "metadata": {},
   "outputs": [],
   "source": [
    "def quick_vec_env(obs_rms, env_kwargs={}, env_name='NavEnv-v0', seed=0,\n",
    "                 num_processes=1, eval_log_dir='/tmp/gym/_eval',\n",
    "                 device=torch.device('cpu'), capture_video=False):\n",
    "    eval_envs = make_vec_envs(env_name, seed + num_processes, num_processes,\n",
    "                          None, eval_log_dir, device, True, \n",
    "                          capture_video=capture_video, \n",
    "                          env_kwargs=env_kwargs)\n",
    "\n",
    "    vec_norm = utils.get_vec_normalize(eval_envs)\n",
    "    if vec_norm is not None:\n",
    "        vec_norm.eval()\n",
    "        vec_norm.obs_rms = obs_rms\n",
    "        \n",
    "    return eval_envs\n"
   ]
  },
  {
   "cell_type": "code",
   "execution_count": 10,
   "metadata": {},
   "outputs": [
    {
     "name": "stderr",
     "output_type": "stream",
     "text": [
      "100%|██████████████████████████████████████████████████████████████████████████| 50000/50000 [00:37<00:00, 1341.25it/s]\n"
     ]
    }
   ],
   "source": [
    "obs = []\n",
    "for i in tqdm(range(50000)):\n",
    "    obs.append(env.reset())"
   ]
  },
  {
   "cell_type": "code",
   "execution_count": 19,
   "metadata": {},
   "outputs": [],
   "source": [
    "envs = quick_vec_env(obs_rms, kwargs, num_processes=16)"
   ]
  },
  {
   "cell_type": "code",
   "execution_count": 20,
   "metadata": {},
   "outputs": [],
   "source": [
    "envs.reset()\n",
    "\n"
   ]
  },
  {
   "cell_type": "code",
   "execution_count": 27,
   "metadata": {},
   "outputs": [],
   "source": [
    "output = envs.step(act)"
   ]
  },
  {
   "cell_type": "code",
   "execution_count": 25,
   "metadata": {},
   "outputs": [],
   "source": [
    "act = torch.tensor(np.full(16, 1).reshape(-1, 1))"
   ]
  },
  {
   "cell_type": "code",
   "execution_count": 29,
   "metadata": {},
   "outputs": [
    {
     "data": {
      "text/plain": [
       "torch.Size([16, 60])"
      ]
     },
     "execution_count": 29,
     "metadata": {},
     "output_type": "execute_result"
    }
   ],
   "source": [
    "output[0].shape"
   ]
  },
  {
   "cell_type": "code",
   "execution_count": 128,
   "metadata": {},
   "outputs": [
    {
     "name": "stderr",
     "output_type": "stream",
     "text": [
      "100%|███████████████████████████████████████████████████████████████████████████| 10000/10000 [00:36<00:00, 275.37it/s]\n"
     ]
    }
   ],
   "source": [
    "all_obs = []\n",
    "for i in tqdm(range(10000)):\n",
    "    if i % 3 == 0:\n",
    "        envs.reset()\n",
    "    \n",
    "    output = envs.step(act)\n",
    "    all_obs.append(output[0])\n",
    "    \n"
   ]
  },
  {
   "cell_type": "code",
   "execution_count": 129,
   "metadata": {},
   "outputs": [
    {
     "name": "stdout",
     "output_type": "stream",
     "text": [
      "False\n",
      "False\n",
      "False\n"
     ]
    }
   ],
   "source": [
    "all_obs2 = np.vstack(all_obs)\n",
    "print(np.isnan(all_obs2).any())\n",
    "print(np.isinf(all_obs2).any())\n",
    "print(np.isnan(all_obs2 - obs_rms.mean).any())"
   ]
  },
  {
   "cell_type": "code",
   "execution_count": 140,
   "metadata": {},
   "outputs": [
    {
     "data": {
      "text/plain": [
       "tensor([[0.]])"
      ]
     },
     "execution_count": 140,
     "metadata": {},
     "output_type": "execute_result"
    }
   ],
   "source": [
    "masks"
   ]
  },
  {
   "cell_type": "code",
   "execution_count": 142,
   "metadata": {},
   "outputs": [
    {
     "data": {
      "text/plain": [
       "tensor([0.5000, 0.5000, 0.5000, 0.5000, 0.5000, 0.5000, 0.5000, 0.5000, 0.5000,\n",
       "        0.5000, 0.5000, 0.5000, 0.5000, 0.5000, 0.5000, 0.5000, 0.5000, 0.5000,\n",
       "        0.5000, 0.5000, 0.5000, 0.5000, 0.5000, 0.5000, 0.5000, 0.5000, 0.5000,\n",
       "        0.8333, 0.8333, 0.8333,    inf,    inf,    inf,    inf,    inf,    inf,\n",
       "           inf,    inf,    inf,    inf,    inf,    inf,    inf,    inf,    inf,\n",
       "        0.0024, 0.0024, 0.0024, 0.0024, 0.0024, 0.0025, 0.0026, 0.0026, 0.0027,\n",
       "        0.0029, 0.0030, 0.0032, 0.0033, 0.0031, 0.0029], dtype=torch.float64)"
      ]
     },
     "execution_count": 142,
     "metadata": {},
     "output_type": "execute_result"
    }
   ],
   "source": []
  },
  {
   "cell_type": "code",
   "execution_count": 152,
   "metadata": {},
   "outputs": [
    {
     "data": {
      "text/plain": [
       "{'value': tensor([[nan]], grad_fn=<AddmmBackward0>),\n",
       " 'actor_features': tensor([[nan, nan, nan, nan, nan, nan, nan, nan, nan, nan, nan, nan, nan, nan, nan, nan, nan, nan, nan, nan, nan, nan, nan, nan,\n",
       "          nan, nan, nan, nan, nan, nan, nan, nan, nan, nan, nan, nan, nan, nan, nan, nan, nan, nan, nan, nan, nan, nan, nan, nan,\n",
       "          nan, nan, nan, nan, nan, nan, nan, nan, nan, nan, nan, nan, nan, nan, nan, nan]],\n",
       "        grad_fn=<TanhBackward0>),\n",
       " 'rnn_hxs': tensor([[nan, nan, nan, nan, nan, nan, nan, nan, nan, nan, nan, nan, nan, nan, nan, nan, nan, nan, nan, nan, nan, nan, nan, nan,\n",
       "          nan, nan, nan, nan, nan, nan, nan, nan, nan, nan, nan, nan, nan, nan, 0., nan, nan, nan, nan, nan, nan, nan, nan, nan,\n",
       "          nan, nan, nan, nan, nan, nan, nan, nan, nan, nan, nan, nan, nan, nan, nan, nan]],\n",
       "        grad_fn=<SqueezeBackward1>)}"
      ]
     },
     "execution_count": 152,
     "metadata": {},
     "output_type": "execute_result"
    }
   ],
   "source": [
    "kwargs2 = kwargs.copy()\n",
    "kwargs2['fixed_reset'] = (np.array([0, 0]), 0)\n",
    "env = gym.make('NavEnv-v0', **kwargs2)\n",
    "\n",
    "env.reset()\n",
    "outputs = env.step(torch.tensor(1))\n",
    "obs = outputs[0]\n",
    "obs = torch.tensor(obs, dtype=torch.float).reshape(1, -1)\n",
    "\n",
    "rnn_hxs = torch.zeros(model.recurrent_hidden_state_size).view(1, -1)\n",
    "masks = torch.zeros(1).view(1,1)\n",
    "\n",
    "model.base(obs, rnn_hxs, masks)"
   ]
  },
  {
   "cell_type": "code",
   "execution_count": 154,
   "metadata": {},
   "outputs": [],
   "source": [
    "obs2 = obs"
   ]
  },
  {
   "cell_type": "code",
   "execution_count": 162,
   "metadata": {},
   "outputs": [],
   "source": [
    "comb = torch.vstack([torch.tensor(obs, dtype=torch.float), obs2])\n",
    "rnn_hxs = torch.zeros((2, model.recurrent_hidden_state_size))\n",
    "masks = torch.zeros((2, 1))"
   ]
  },
  {
   "cell_type": "code",
   "execution_count": 166,
   "metadata": {},
   "outputs": [
    {
     "ename": "ValueError",
     "evalue": "Expected parameter logits (Tensor of shape (2, 4)) of distribution FixedCategorical(logits: torch.Size([2, 4])) to satisfy the constraint IndependentConstraint(Real(), 1), but found invalid values:\ntensor([[-6.6504, -3.9422, -0.1262, -2.3244],\n        [    nan,     nan,     nan,     nan]], grad_fn=<SubBackward0>)",
     "output_type": "error",
     "traceback": [
      "\u001b[1;31m---------------------------------------------------------------------------\u001b[0m",
      "\u001b[1;31mValueError\u001b[0m                                Traceback (most recent call last)",
      "Input \u001b[1;32mIn [166]\u001b[0m, in \u001b[0;36m<cell line: 1>\u001b[1;34m()\u001b[0m\n\u001b[1;32m----> 1\u001b[0m \u001b[43mmodel\u001b[49m\u001b[38;5;241;43m.\u001b[39;49m\u001b[43mdist\u001b[49m\u001b[43m(\u001b[49m\u001b[43mfeat\u001b[49m\u001b[43m)\u001b[49m\n",
      "File \u001b[1;32m~\\anaconda3\\lib\\site-packages\\torch\\nn\\modules\\module.py:1130\u001b[0m, in \u001b[0;36mModule._call_impl\u001b[1;34m(self, *input, **kwargs)\u001b[0m\n\u001b[0;32m   1126\u001b[0m \u001b[38;5;66;03m# If we don't have any hooks, we want to skip the rest of the logic in\u001b[39;00m\n\u001b[0;32m   1127\u001b[0m \u001b[38;5;66;03m# this function, and just call forward.\u001b[39;00m\n\u001b[0;32m   1128\u001b[0m \u001b[38;5;28;01mif\u001b[39;00m \u001b[38;5;129;01mnot\u001b[39;00m (\u001b[38;5;28mself\u001b[39m\u001b[38;5;241m.\u001b[39m_backward_hooks \u001b[38;5;129;01mor\u001b[39;00m \u001b[38;5;28mself\u001b[39m\u001b[38;5;241m.\u001b[39m_forward_hooks \u001b[38;5;129;01mor\u001b[39;00m \u001b[38;5;28mself\u001b[39m\u001b[38;5;241m.\u001b[39m_forward_pre_hooks \u001b[38;5;129;01mor\u001b[39;00m _global_backward_hooks\n\u001b[0;32m   1129\u001b[0m         \u001b[38;5;129;01mor\u001b[39;00m _global_forward_hooks \u001b[38;5;129;01mor\u001b[39;00m _global_forward_pre_hooks):\n\u001b[1;32m-> 1130\u001b[0m     \u001b[38;5;28;01mreturn\u001b[39;00m forward_call(\u001b[38;5;241m*\u001b[39m\u001b[38;5;28minput\u001b[39m, \u001b[38;5;241m*\u001b[39m\u001b[38;5;241m*\u001b[39mkwargs)\n\u001b[0;32m   1131\u001b[0m \u001b[38;5;66;03m# Do not call functions when jit is used\u001b[39;00m\n\u001b[0;32m   1132\u001b[0m full_backward_hooks, non_full_backward_hooks \u001b[38;5;241m=\u001b[39m [], []\n",
      "File \u001b[1;32m~\\Desktop\\Work\\github\\training-rl-algo\\write_and_test\\..\\a2c_ppo_acktr\\distributions.py:73\u001b[0m, in \u001b[0;36mCategorical.forward\u001b[1;34m(self, x)\u001b[0m\n\u001b[0;32m     71\u001b[0m \u001b[38;5;28;01mdef\u001b[39;00m \u001b[38;5;21mforward\u001b[39m(\u001b[38;5;28mself\u001b[39m, x):\n\u001b[0;32m     72\u001b[0m     x \u001b[38;5;241m=\u001b[39m \u001b[38;5;28mself\u001b[39m\u001b[38;5;241m.\u001b[39mlinear(x)\n\u001b[1;32m---> 73\u001b[0m     \u001b[38;5;28;01mreturn\u001b[39;00m \u001b[43mFixedCategorical\u001b[49m\u001b[43m(\u001b[49m\u001b[43mlogits\u001b[49m\u001b[38;5;241;43m=\u001b[39;49m\u001b[43mx\u001b[49m\u001b[43m)\u001b[49m\n",
      "File \u001b[1;32m~\\anaconda3\\lib\\site-packages\\torch\\distributions\\categorical.py:64\u001b[0m, in \u001b[0;36mCategorical.__init__\u001b[1;34m(self, probs, logits, validate_args)\u001b[0m\n\u001b[0;32m     62\u001b[0m \u001b[38;5;28mself\u001b[39m\u001b[38;5;241m.\u001b[39m_num_events \u001b[38;5;241m=\u001b[39m \u001b[38;5;28mself\u001b[39m\u001b[38;5;241m.\u001b[39m_param\u001b[38;5;241m.\u001b[39msize()[\u001b[38;5;241m-\u001b[39m\u001b[38;5;241m1\u001b[39m]\n\u001b[0;32m     63\u001b[0m batch_shape \u001b[38;5;241m=\u001b[39m \u001b[38;5;28mself\u001b[39m\u001b[38;5;241m.\u001b[39m_param\u001b[38;5;241m.\u001b[39msize()[:\u001b[38;5;241m-\u001b[39m\u001b[38;5;241m1\u001b[39m] \u001b[38;5;28;01mif\u001b[39;00m \u001b[38;5;28mself\u001b[39m\u001b[38;5;241m.\u001b[39m_param\u001b[38;5;241m.\u001b[39mndimension() \u001b[38;5;241m>\u001b[39m \u001b[38;5;241m1\u001b[39m \u001b[38;5;28;01melse\u001b[39;00m torch\u001b[38;5;241m.\u001b[39mSize()\n\u001b[1;32m---> 64\u001b[0m \u001b[38;5;28;43msuper\u001b[39;49m\u001b[43m(\u001b[49m\u001b[43mCategorical\u001b[49m\u001b[43m,\u001b[49m\u001b[43m \u001b[49m\u001b[38;5;28;43mself\u001b[39;49m\u001b[43m)\u001b[49m\u001b[38;5;241;43m.\u001b[39;49m\u001b[38;5;21;43m__init__\u001b[39;49m\u001b[43m(\u001b[49m\u001b[43mbatch_shape\u001b[49m\u001b[43m,\u001b[49m\u001b[43m \u001b[49m\u001b[43mvalidate_args\u001b[49m\u001b[38;5;241;43m=\u001b[39;49m\u001b[43mvalidate_args\u001b[49m\u001b[43m)\u001b[49m\n",
      "File \u001b[1;32m~\\anaconda3\\lib\\site-packages\\torch\\distributions\\distribution.py:55\u001b[0m, in \u001b[0;36mDistribution.__init__\u001b[1;34m(self, batch_shape, event_shape, validate_args)\u001b[0m\n\u001b[0;32m     53\u001b[0m         valid \u001b[38;5;241m=\u001b[39m constraint\u001b[38;5;241m.\u001b[39mcheck(value)\n\u001b[0;32m     54\u001b[0m         \u001b[38;5;28;01mif\u001b[39;00m \u001b[38;5;129;01mnot\u001b[39;00m valid\u001b[38;5;241m.\u001b[39mall():\n\u001b[1;32m---> 55\u001b[0m             \u001b[38;5;28;01mraise\u001b[39;00m \u001b[38;5;167;01mValueError\u001b[39;00m(\n\u001b[0;32m     56\u001b[0m                 \u001b[38;5;124mf\u001b[39m\u001b[38;5;124m\"\u001b[39m\u001b[38;5;124mExpected parameter \u001b[39m\u001b[38;5;132;01m{\u001b[39;00mparam\u001b[38;5;132;01m}\u001b[39;00m\u001b[38;5;124m \u001b[39m\u001b[38;5;124m\"\u001b[39m\n\u001b[0;32m     57\u001b[0m                 \u001b[38;5;124mf\u001b[39m\u001b[38;5;124m\"\u001b[39m\u001b[38;5;124m(\u001b[39m\u001b[38;5;132;01m{\u001b[39;00m\u001b[38;5;28mtype\u001b[39m(value)\u001b[38;5;241m.\u001b[39m\u001b[38;5;18m__name__\u001b[39m\u001b[38;5;132;01m}\u001b[39;00m\u001b[38;5;124m of shape \u001b[39m\u001b[38;5;132;01m{\u001b[39;00m\u001b[38;5;28mtuple\u001b[39m(value\u001b[38;5;241m.\u001b[39mshape)\u001b[38;5;132;01m}\u001b[39;00m\u001b[38;5;124m) \u001b[39m\u001b[38;5;124m\"\u001b[39m\n\u001b[0;32m     58\u001b[0m                 \u001b[38;5;124mf\u001b[39m\u001b[38;5;124m\"\u001b[39m\u001b[38;5;124mof distribution \u001b[39m\u001b[38;5;132;01m{\u001b[39;00m\u001b[38;5;28mrepr\u001b[39m(\u001b[38;5;28mself\u001b[39m)\u001b[38;5;132;01m}\u001b[39;00m\u001b[38;5;124m \u001b[39m\u001b[38;5;124m\"\u001b[39m\n\u001b[0;32m     59\u001b[0m                 \u001b[38;5;124mf\u001b[39m\u001b[38;5;124m\"\u001b[39m\u001b[38;5;124mto satisfy the constraint \u001b[39m\u001b[38;5;132;01m{\u001b[39;00m\u001b[38;5;28mrepr\u001b[39m(constraint)\u001b[38;5;132;01m}\u001b[39;00m\u001b[38;5;124m, \u001b[39m\u001b[38;5;124m\"\u001b[39m\n\u001b[0;32m     60\u001b[0m                 \u001b[38;5;124mf\u001b[39m\u001b[38;5;124m\"\u001b[39m\u001b[38;5;124mbut found invalid values:\u001b[39m\u001b[38;5;130;01m\\n\u001b[39;00m\u001b[38;5;132;01m{\u001b[39;00mvalue\u001b[38;5;132;01m}\u001b[39;00m\u001b[38;5;124m\"\u001b[39m\n\u001b[0;32m     61\u001b[0m             )\n\u001b[0;32m     62\u001b[0m \u001b[38;5;28msuper\u001b[39m(Distribution, \u001b[38;5;28mself\u001b[39m)\u001b[38;5;241m.\u001b[39m\u001b[38;5;21m__init__\u001b[39m()\n",
      "\u001b[1;31mValueError\u001b[0m: Expected parameter logits (Tensor of shape (2, 4)) of distribution FixedCategorical(logits: torch.Size([2, 4])) to satisfy the constraint IndependentConstraint(Real(), 1), but found invalid values:\ntensor([[-6.6504, -3.9422, -0.1262, -2.3244],\n        [    nan,     nan,     nan,     nan]], grad_fn=<SubBackward0>)"
     ]
    }
   ],
   "source": [
    "model.dist(feat)"
   ]
  },
  {
   "cell_type": "code",
   "execution_count": 2,
   "metadata": {},
   "outputs": [],
   "source": [
    "model_name = 'nav_invisible_shared2/nav_c4_shared0'\n",
    "model, obs_rms, kwargs = load_model_and_env(model_name, 4)"
   ]
  },
  {
   "cell_type": "code",
   "execution_count": 170,
   "metadata": {},
   "outputs": [
    {
     "data": {
      "text/plain": [
       "array([0.59421411, 0.59993124, 0.60534241, 0.61113174, 0.61581064,\n",
       "       0.62019389, 0.62305418, 0.62569788, 0.62862692, 0.63095091,\n",
       "       0.63324395, 0.63572951, 0.63813944, 0.6410066 , 0.64439631,\n",
       "       0.64814356, 0.65272277, 0.65606779, 0.66014164, 0.66027915,\n",
       "       0.65195957, 0.64261207, 0.6287885 , 0.60481986, 0.57836565,\n",
       "       0.55376788, 0.53754813, 0.52837252, 0.51993606, 0.5113827 ,\n",
       "       0.06876142, 0.06352965, 0.05869397, 0.05445501, 0.05119233,\n",
       "       0.04890576, 0.04801412, 0.04785302, 0.04762413, 0.04821631,\n",
       "       0.04931518, 0.0510575 , 0.05322466, 0.05602575, 0.06061937,\n",
       "       0.0653137 , 0.07271248, 0.08784728, 0.10002249, 0.11058126,\n",
       "       0.12951142, 0.14559055, 0.16467496, 0.19101181, 0.21518681,\n",
       "       0.24139215, 0.26112298, 0.27625328, 0.29124893, 0.30764063])"
      ]
     },
     "execution_count": 170,
     "metadata": {},
     "output_type": "execute_result"
    }
   ],
   "source": [
    "obs_rms.mean"
   ]
  },
  {
   "cell_type": "code",
   "execution_count": 171,
   "metadata": {},
   "outputs": [
    {
     "data": {
      "text/plain": [
       "array([0.05328393, 0.05335602, 0.05337516, 0.05334579, 0.05326774,\n",
       "       0.05296955, 0.05283989, 0.05273976, 0.05264   , 0.05243439,\n",
       "       0.05221076, 0.05203898, 0.05191699, 0.05167586, 0.05162289,\n",
       "       0.05135634, 0.05125176, 0.0515831 , 0.05161561, 0.05241153,\n",
       "       0.05580337, 0.0590227 , 0.06341215, 0.06966347, 0.07477135,\n",
       "       0.07842777, 0.08020341, 0.08118127, 0.08199679, 0.0825523 ,\n",
       "       0.01793213, 0.01628423, 0.01484442, 0.01357052, 0.01261308,\n",
       "       0.01207038, 0.0119067 , 0.01189036, 0.0118044 , 0.01201114,\n",
       "       0.01230779, 0.01289499, 0.01364551, 0.01454061, 0.01626624,\n",
       "       0.01795529, 0.02002435, 0.02506719, 0.02899044, 0.03210799,\n",
       "       0.03796079, 0.04257195, 0.04755632, 0.05343727, 0.0584168 ,\n",
       "       0.06353886, 0.06733014, 0.07084942, 0.07478097, 0.07879729])"
      ]
     },
     "execution_count": 171,
     "metadata": {},
     "output_type": "execute_result"
    }
   ],
   "source": [
    "obs_rms.var"
   ]
  },
  {
   "cell_type": "code",
   "execution_count": 165,
   "metadata": {},
   "outputs": [],
   "source": [
    "outputs = model.base(comb, rnn_hxs, masks)\n",
    "feat = outputs['actor_features']"
   ]
  },
  {
   "cell_type": "code",
   "execution_count": 73,
   "metadata": {},
   "outputs": [
    {
     "name": "stdout",
     "output_type": "stream",
     "text": [
      "[0.5        0.5        0.5        0.5        0.5        0.5\n",
      " 0.5        0.5        0.5        0.5        0.5        0.5\n",
      " 0.5        0.5        0.5        0.83333333 0.83333333 0.83333333\n",
      " 0.83333333 0.83333333 0.83333333 0.83333333 0.83333333 0.83333333\n",
      " 0.83333333 0.83333333 0.83333333 0.83333333 0.83333333 0.83333333\n",
      " 0.00723708 0.00714915 0.00709448 0.00707182 0.00708066 0.0071212\n",
      " 0.00719436 0.00730181 0.0074461  0.0076308  0.0078607  0.00814218\n",
      " 0.00848366 0.0088963  0.009395   0.01       0.009395   0.0088963\n",
      " 0.00848366 0.00814218 0.0078607  0.0076308  0.0074461  0.00730181\n",
      " 0.00719436 0.0071212  0.00708066 0.00707182 0.00709448 0.00714915]\n",
      "[4. 4.]\n",
      "[1.70710678 1.70710678]\n",
      "[0.5        0.5        0.5        0.5        0.5        0.5\n",
      " 0.5        0.5        0.5        0.5        0.5        0.5\n",
      " 0.5        0.5        0.5        0.83333333 0.83333333 0.83333333\n",
      " 0.83333333 0.83333333 0.83333333 0.83333333 0.83333333 0.83333333\n",
      " 0.83333333 0.83333333 0.83333333 0.83333333 0.83333333 0.83333333\n",
      " 0.0017058  0.00168507 0.00167219 0.00166684 0.00166893 0.00167848\n",
      " 0.00169573 0.00172105 0.00175506 0.0017986  0.00185278 0.00191913\n",
      " 0.00199962 0.00209688 0.00221442 0.00235702 0.00221442 0.00209688\n",
      " 0.00199962 0.00191913 0.00185278 0.0017986  0.00175506 0.00172105\n",
      " 0.00169573 0.00167848 0.00166893 0.00166684 0.00167219 0.00168507]\n"
     ]
    }
   ],
   "source": [
    "%run ../env/gym_nav/envs/nav_env_flat\n",
    "\n",
    "kwargs2 = kwargs.copy()\n",
    "kwargs2['fixed_reset'] = (np.array([4., 4.]), -np.pi*3/4)\n",
    "# env = gym.make('NavEnv-v0', **kwargs2)\n",
    "env = NavEnvFlat(**kwargs2)\n",
    "\n",
    "print(env.reset())\n",
    "print(env.character.pos)\n",
    "outputs = env.step(torch.tensor(1))\n",
    "obs = outputs[0]\n",
    "print(env.character.pos)\n",
    "print(obs)\n"
   ]
  },
  {
   "cell_type": "code",
   "execution_count": 90,
   "metadata": {},
   "outputs": [
    {
     "name": "stdout",
     "output_type": "stream",
     "text": [
      "0.5269908169872384\n"
     ]
    }
   ],
   "source": [
    "env.step(torch.tensor(0))\n",
    "print(env.character.angle)"
   ]
  },
  {
   "cell_type": "code",
   "execution_count": 91,
   "metadata": {},
   "outputs": [
    {
     "data": {
      "text/plain": [
       "(array([0.83333333, 0.83333333, 0.83333333, 0.83333333, 0.83333333,\n",
       "        0.83333333, 0.83333333, 0.16666667, 0.16666667, 0.16666667,\n",
       "        0.16666667, 0.16666667, 0.16666667, 0.16666667, 0.16666667,\n",
       "        0.16666667, 0.16666667, 0.16666667, 0.16666667, 0.33333333,\n",
       "        0.33333333, 0.33333333, 0.33333333, 0.33333333, 0.33333333,\n",
       "        0.33333333, 0.33333333, 0.33333333, 0.33333333, 0.33333333,\n",
       "        0.02967938, 0.03420841, 0.04058134, 0.05014625, 0.06599405,\n",
       "        0.09711783, 0.18535985, 0.68036743, 0.68159353, 0.68587677,\n",
       "        0.69331392, 0.70407648, 0.71842058, 0.73670239, 0.75940089,\n",
       "        0.78715092, 0.82079086, 0.8614325 , 0.91056478, 0.96626418,\n",
       "        0.90873707, 0.8612864 , 0.82201601, 0.78952528, 0.76276528,\n",
       "        0.74094376, 0.72346087, 0.70986508, 0.69982268, 0.6930968 ]),\n",
       " 0,\n",
       " False,\n",
       " {'auxiliary': array([], dtype=float64)})"
      ]
     },
     "execution_count": 91,
     "metadata": {},
     "output_type": "execute_result"
    }
   ],
   "source": [
    "env.step(torch.tensor(1))\n"
   ]
  },
  {
   "cell_type": "code",
   "execution_count": 56,
   "metadata": {},
   "outputs": [
    {
     "data": {
      "text/plain": [
       "0.7071067811865476"
      ]
     },
     "execution_count": 56,
     "metadata": {},
     "output_type": "execute_result"
    }
   ],
   "source": [
    "import math\n",
    "math.cos(env.character.angle)"
   ]
  },
  {
   "cell_type": "code",
   "execution_count": 67,
   "metadata": {},
   "outputs": [
    {
     "data": {
      "text/plain": [
       "2.2928927329467466"
      ]
     },
     "execution_count": 67,
     "metadata": {},
     "output_type": "execute_result"
    }
   ],
   "source": [
    "math.cos(-0.7853981633974483)*(4.24264-1)"
   ]
  },
  {
   "cell_type": "code",
   "execution_count": 57,
   "metadata": {},
   "outputs": [
    {
     "data": {
      "text/plain": [
       "-0.7071067811865476"
      ]
     },
     "execution_count": 57,
     "metadata": {},
     "output_type": "execute_result"
    }
   ],
   "source": [
    "math.sin(env.character.angle)"
   ]
  },
  {
   "cell_type": "code",
   "execution_count": 64,
   "metadata": {},
   "outputs": [],
   "source": []
  },
  {
   "cell_type": "code",
   "execution_count": 61,
   "metadata": {},
   "outputs": [],
   "source": [
    "env = NavEnvFlat(**kwargs2)"
   ]
  },
  {
   "cell_type": "code",
   "execution_count": 62,
   "metadata": {},
   "outputs": [
    {
     "data": {
      "text/plain": [
       "array([0.83333333, 0.83333333, 0.83333333, 0.83333333, 0.83333333,\n",
       "       0.83333333, 0.83333333, 0.83333333, 0.83333333, 0.83333333,\n",
       "       0.83333333, 0.83333333, 0.83333333, 0.83333333, 0.83333333,\n",
       "       0.83333333, 0.83333333, 0.83333333, 0.83333333, 0.83333333,\n",
       "       0.83333333, 0.83333333, 0.83333333, 0.83333333, 0.83333333,\n",
       "       0.83333333, 0.83333333, 0.83333333, 0.83333333, 0.83333333,\n",
       "       0.        , 0.        , 0.        , 0.        , 0.        ,\n",
       "       0.        , 0.        , 0.        , 0.        , 0.        ,\n",
       "       0.        , 0.        , 0.        , 0.        , 0.        ,\n",
       "       0.        , 0.        , 0.        , 0.        , 0.        ,\n",
       "       0.        , 0.        , 0.        , 0.        , 0.        ,\n",
       "       0.        , 0.        , 0.        , 0.        , 0.        ])"
      ]
     },
     "execution_count": 62,
     "metadata": {},
     "output_type": "execute_result"
    }
   ],
   "source": [
    "env.reset()"
   ]
  },
  {
   "cell_type": "code",
   "execution_count": null,
   "metadata": {},
   "outputs": [],
   "source": []
  },
  {
   "cell_type": "code",
   "execution_count": 52,
   "metadata": {},
   "outputs": [
    {
     "name": "stdout",
     "output_type": "stream",
     "text": [
      "(array([0.5, 0.5, 0.5, 0.5, 0.5, 0.5, 0.5, 0.5, 0.5, 0.5, 0.5, 0.5, 0.5,\n",
      "       0.5, 0.5, 0.5, 0.5, 0.5, 0.5, 0.5, 0.5, 0.5, 0.5, 0.5, 0.5, 0.5,\n",
      "       0.5, 0.5, 0.5, 0.5, 0. , 0. , 0. , 0. , 0. , 0. , 0. , 0. , 0. ,\n",
      "       0. , 0. , 0. , 0. , 0. , 0. , 0. , 0. , 0. , 0. , 0. , 0. , 0. ,\n",
      "       0. , 0. , 0. , 0. , 0. , 0. , 0. , 0. ]), 0.0, False, {'auxiliary': array([], dtype=float64)})\n",
      "1.2101761241668205\n",
      "[1 1]\n",
      "(array([0.5, 0.5, 0.5, 0.5, 0.5, 0.5, 0.5, 0.5, 0.5, 0.5, 0.5, 0.5, 0.5,\n",
      "       0.5, 0.5, 0.5, 0.5, 0.5, 0.5, 0.5, 0.5, 0.5, 0.5, 0.5, 0.5, 0.5,\n",
      "       0.5, 0.5, 0.5, 0.5, 0. , 0. , 0. , 0. , 0. , 0. , 0. , 0. , 0. ,\n",
      "       0. , 0. , 0. , 0. , 0. , 0. , 0. , 0. , 0. , 0. , 0. , 0. , 0. ,\n",
      "       0. , 0. , 0. , 0. , 0. , 0. , 0. , 0. ]), 0, False, {'auxiliary': array([], dtype=float64)})\n",
      "1.0101761241668203\n",
      "[1 1]\n"
     ]
    }
   ],
   "source": [
    "print(env.step(torch.tensor(1)))\n",
    "print(env.character.angle)\n",
    "print(env.character.pos)\n",
    "print(env.step(torch.tensor(0)))\n",
    "print(env.character.angle)\n",
    "print(env.character.pos)\n"
   ]
  },
  {
   "cell_type": "code",
   "execution_count": 342,
   "metadata": {},
   "outputs": [
    {
     "data": {
      "text/plain": [
       "array([0, 0])"
      ]
     },
     "execution_count": 342,
     "metadata": {},
     "output_type": "execute_result"
    }
   ],
   "source": [
    "env.character.pos"
   ]
  },
  {
   "cell_type": "code",
   "execution_count": 209,
   "metadata": {},
   "outputs": [],
   "source": [
    "model_name = 'nav_invisible_shared2/nav_c4_shared0'\n",
    "model, obs_rms, kwargs = load_model_and_env(model_name, 4)\n",
    "\n",
    "kwargs2 = kwargs.copy()\n",
    "kwargs2['fixed_reset'] = (np.array([0, 0]), -np.pi*3/4)\n",
    "\n",
    "envs2 = quick_vec_env(obs_rms, kwargs2, num_processes=2)"
   ]
  },
  {
   "cell_type": "code",
   "execution_count": 210,
   "metadata": {},
   "outputs": [
    {
     "data": {
      "text/plain": [
       "array([0.59421411, 0.59993124, 0.60534241, 0.61113174, 0.61581064,\n",
       "       0.62019389, 0.62305418, 0.62569788, 0.62862692, 0.63095091,\n",
       "       0.63324395, 0.63572951, 0.63813944, 0.6410066 , 0.64439631,\n",
       "       0.64814356, 0.65272277, 0.65606779, 0.66014164, 0.66027915,\n",
       "       0.65195957, 0.64261207, 0.6287885 , 0.60481986, 0.57836565,\n",
       "       0.55376788, 0.53754813, 0.52837252, 0.51993606, 0.5113827 ,\n",
       "       0.06876142, 0.06352965, 0.05869397, 0.05445501, 0.05119233,\n",
       "       0.04890576, 0.04801412, 0.04785302, 0.04762413, 0.04821631,\n",
       "       0.04931518, 0.0510575 , 0.05322466, 0.05602575, 0.06061937,\n",
       "       0.0653137 , 0.07271248, 0.08784728, 0.10002249, 0.11058126,\n",
       "       0.12951142, 0.14559055, 0.16467496, 0.19101181, 0.21518681,\n",
       "       0.24139215, 0.26112298, 0.27625328, 0.29124893, 0.30764063])"
      ]
     },
     "execution_count": 210,
     "metadata": {},
     "output_type": "execute_result"
    }
   ],
   "source": [
    "obs_rms.mean"
   ]
  },
  {
   "cell_type": "code",
   "execution_count": 211,
   "metadata": {},
   "outputs": [],
   "source": [
    "obs3 = envs2.reset()"
   ]
  },
  {
   "cell_type": "code",
   "execution_count": 214,
   "metadata": {},
   "outputs": [],
   "source": [
    "obs4 = envs2.get_attr('env')[0].get_observation()"
   ]
  },
  {
   "cell_type": "code",
   "execution_count": 215,
   "metadata": {},
   "outputs": [
    {
     "ename": "AttributeError",
     "evalue": "'RunningMeanStd' object has no attribute 'normalize_obs'",
     "output_type": "error",
     "traceback": [
      "\u001b[1;31m---------------------------------------------------------------------------\u001b[0m",
      "\u001b[1;31mAttributeError\u001b[0m                            Traceback (most recent call last)",
      "Input \u001b[1;32mIn [215]\u001b[0m, in \u001b[0;36m<cell line: 1>\u001b[1;34m()\u001b[0m\n\u001b[1;32m----> 1\u001b[0m \u001b[43mobs_rms\u001b[49m\u001b[38;5;241;43m.\u001b[39;49m\u001b[43mnormalize_obs\u001b[49m(obs4)\n",
      "\u001b[1;31mAttributeError\u001b[0m: 'RunningMeanStd' object has no attribute 'normalize_obs'"
     ]
    }
   ],
   "source": [
    "obs_rms.normalize_obs(obs4)"
   ]
  },
  {
   "cell_type": "code",
   "execution_count": 219,
   "metadata": {},
   "outputs": [],
   "source": [
    "old_mean = obs_rms.mean.copy()"
   ]
  },
  {
   "cell_type": "code",
   "execution_count": 223,
   "metadata": {},
   "outputs": [
    {
     "ename": "AttributeError",
     "evalue": "'numpy.ndarray' object has no attribute 'numpy'",
     "output_type": "error",
     "traceback": [
      "\u001b[1;31m---------------------------------------------------------------------------\u001b[0m",
      "\u001b[1;31mAttributeError\u001b[0m                            Traceback (most recent call last)",
      "Input \u001b[1;32mIn [223]\u001b[0m, in \u001b[0;36m<cell line: 1>\u001b[1;34m()\u001b[0m\n\u001b[1;32m----> 1\u001b[0m obs_rms\u001b[38;5;241m.\u001b[39mupdate(\u001b[43mobs4\u001b[49m\u001b[38;5;241;43m.\u001b[39;49m\u001b[43mnumpy\u001b[49m())\n",
      "\u001b[1;31mAttributeError\u001b[0m: 'numpy.ndarray' object has no attribute 'numpy'"
     ]
    }
   ],
   "source": [
    "obs_rms.update(obs4.numpy())"
   ]
  },
  {
   "cell_type": "code",
   "execution_count": 224,
   "metadata": {},
   "outputs": [
    {
     "data": {
      "text/plain": [
       "array([inf, inf, inf, inf, inf, inf, inf, inf, inf, inf, inf, inf, inf,\n",
       "       inf, inf, inf, inf, inf, inf, inf, inf, inf, inf, inf, inf, inf,\n",
       "       inf, inf, inf, inf, inf, inf, inf, inf, inf, inf, inf, inf, inf,\n",
       "       inf, inf, inf, inf, inf, inf, inf, inf, inf, inf, inf, inf, inf,\n",
       "       inf, inf, inf, inf, inf, inf, inf, inf])"
      ]
     },
     "execution_count": 224,
     "metadata": {},
     "output_type": "execute_result"
    }
   ],
   "source": [
    "obs_rms.mean"
   ]
  },
  {
   "cell_type": "code",
   "execution_count": 217,
   "metadata": {},
   "outputs": [
    {
     "data": {
      "text/plain": [
       "array([-0.40814808, -0.4326229 , -0.45596722, -0.48115832, -0.5017834 ,\n",
       "       -0.5222389 , -0.53532237, -0.54734206, -0.56062686, -0.57187396,\n",
       "       -0.5831328 , -0.59499025, -0.60626554, -0.6202911 , -0.6355283 ,\n",
       "       -0.6537109 , -0.6746047 , -0.68716264, -0.70487756, -0.7001056 ,\n",
       "       -0.6432767 , -0.58701164, -0.51143545, -0.39713758, -0.28658807,\n",
       "       -0.19199412, -0.13258423, -0.09957951, -0.06962109, -0.03961692,\n",
       "       10.        , 10.        , 10.        , 10.        , 10.        ,\n",
       "       10.        , 10.        , 10.        , 10.        , 10.        ,\n",
       "       10.        , 10.        , 10.        , 10.        , 10.        ,\n",
       "       10.        , 10.        , 10.        , 10.        , 10.        ,\n",
       "       10.        , 10.        , 10.        , 10.        , 10.        ,\n",
       "       10.        , 10.        , 10.        , 10.        , 10.        ],\n",
       "      dtype=float32)"
      ]
     },
     "execution_count": 217,
     "metadata": {},
     "output_type": "execute_result"
    }
   ],
   "source": [
    "envs2.normalize_obs(obs4)"
   ]
  },
  {
   "cell_type": "code",
   "execution_count": 194,
   "metadata": {},
   "outputs": [
    {
     "data": {
      "text/plain": [
       "array([0.59421411, 0.59993124, 0.60534241, 0.61113174, 0.61581064,\n",
       "       0.62019389, 0.62305418, 0.62569788, 0.62862692, 0.63095091,\n",
       "       0.63324395, 0.63572951, 0.63813944, 0.6410066 , 0.64439631,\n",
       "       0.64814356, 0.65272277, 0.65606779, 0.66014164, 0.66027915,\n",
       "       0.65195957, 0.64261207, 0.6287885 , 0.60481986, 0.57836565,\n",
       "       0.55376788, 0.53754813, 0.52837252, 0.51993606, 0.5113827 ,\n",
       "       0.06876142, 0.06352965, 0.05869397, 0.05445501, 0.05119233,\n",
       "       0.04890576, 0.04801412, 0.04785302, 0.04762413, 0.04821631,\n",
       "       0.04931518, 0.0510575 , 0.05322466, 0.05602575, 0.06061937,\n",
       "       0.0653137 , 0.07271248, 0.08784728, 0.10002249, 0.11058126,\n",
       "       0.12951142, 0.14559055, 0.16467496, 0.19101181, 0.21518681,\n",
       "       0.24139215, 0.26112298, 0.27625328, 0.29124893, 0.30764063])"
      ]
     },
     "execution_count": 194,
     "metadata": {},
     "output_type": "execute_result"
    }
   ],
   "source": [
    "obs_rms.mean"
   ]
  },
  {
   "cell_type": "code",
   "execution_count": 189,
   "metadata": {},
   "outputs": [
    {
     "data": {
      "text/plain": [
       "tensor([[-0.4081, -0.4326, -0.4560, -0.4812, -0.5018, -0.5222, -0.5353, -0.5473,\n",
       "         -0.5606, -0.5719, -0.5831, -0.5950, -0.6063, -0.6203, -0.6355, -0.6537,\n",
       "         -0.6746, -0.6872, -0.7049, -0.7001, -0.6433, -0.5870, -0.5114, -0.3971,\n",
       "         -0.2866, -0.1920, -0.1326, -0.0996, -0.0696, -0.0396, 10.0000, 10.0000,\n",
       "         10.0000, 10.0000, 10.0000, 10.0000, 10.0000, 10.0000, 10.0000, 10.0000,\n",
       "         10.0000, 10.0000, 10.0000, 10.0000, 10.0000, 10.0000, 10.0000, 10.0000,\n",
       "         10.0000, 10.0000, 10.0000, 10.0000, 10.0000, 10.0000, 10.0000, 10.0000,\n",
       "         10.0000, 10.0000, 10.0000, 10.0000],\n",
       "        [-0.4081, -0.4326, -0.4560, -0.4812, -0.5018, -0.5222, -0.5353, -0.5473,\n",
       "         -0.5606, -0.5719, -0.5831, -0.5950, -0.6063, -0.6203, -0.6355, -0.6537,\n",
       "         -0.6746, -0.6872, -0.7049, -0.7001, -0.6433, -0.5870, -0.5114, -0.3971,\n",
       "         -0.2866, -0.1920, -0.1326, -0.0996, -0.0696, -0.0396, 10.0000, 10.0000,\n",
       "         10.0000, 10.0000, 10.0000, 10.0000, 10.0000, 10.0000, 10.0000, 10.0000,\n",
       "         10.0000, 10.0000, 10.0000, 10.0000, 10.0000, 10.0000, 10.0000, 10.0000,\n",
       "         10.0000, 10.0000, 10.0000, 10.0000, 10.0000, 10.0000, 10.0000, 10.0000,\n",
       "         10.0000, 10.0000, 10.0000, 10.0000]])"
      ]
     },
     "execution_count": 189,
     "metadata": {},
     "output_type": "execute_result"
    }
   ],
   "source": [
    "envs2.reset()"
   ]
  },
  {
   "cell_type": "code",
   "execution_count": 195,
   "metadata": {},
   "outputs": [
    {
     "data": {
      "text/plain": [
       "array([0., 0., 0., 0., 0., 0., 0., 0., 0., 0., 0., 0., 0., 0., 0., 0., 0.,\n",
       "       0., 0., 0., 0., 0., 0., 0., 0., 0., 0., 0., 0., 0., 0., 0., 0., 0.,\n",
       "       0., 0., 0., 0., 0., 0., 0., 0., 0., 0., 0., 0., 0., 0., 0., 0., 0.,\n",
       "       0., 0., 0., 0., 0., 0., 0., 0., 0.])"
      ]
     },
     "execution_count": 195,
     "metadata": {},
     "output_type": "execute_result"
    }
   ],
   "source": [
    "envs2.obs_rms.mean - obs_rms.mean"
   ]
  },
  {
   "cell_type": "code",
   "execution_count": 196,
   "metadata": {},
   "outputs": [],
   "source": [
    "obs3 = envs2.reset()"
   ]
  },
  {
   "cell_type": "code",
   "execution_count": null,
   "metadata": {},
   "outputs": [],
   "source": []
  },
  {
   "cell_type": "code",
   "execution_count": 203,
   "metadata": {},
   "outputs": [
    {
     "data": {
      "text/plain": [
       "array([-0.40814808, -0.4326229 , -0.45596722, -0.48115832, -0.5017834 ,\n",
       "       -0.5222389 , -0.53532237, -0.54734206, -0.56062686, -0.57187396,\n",
       "       -0.5831328 , -0.59499025, -0.60626554, -0.6202911 , -0.6355283 ,\n",
       "       -0.6537109 , -0.6746047 , -0.68716264, -0.70487756, -0.7001056 ,\n",
       "       -0.6432767 , -0.58701164, -0.51143545, -0.39713758, -0.28658807,\n",
       "       -0.19199412, -0.13258423, -0.09957951, -0.06962109, -0.03961692,\n",
       "       10.        , 10.        , 10.        , 10.        , 10.        ,\n",
       "       10.        , 10.        , 10.        , 10.        , 10.        ,\n",
       "       10.        , 10.        , 10.        , 10.        , 10.        ,\n",
       "       10.        , 10.        , 10.        , 10.        , 10.        ,\n",
       "       10.        , 10.        , 10.        , 10.        , 10.        ,\n",
       "       10.        , 10.        , 10.        , 10.        , 10.        ],\n",
       "      dtype=float32)"
      ]
     },
     "execution_count": 203,
     "metadata": {},
     "output_type": "execute_result"
    }
   ],
   "source": [
    "obs3[0].numpy()"
   ]
  },
  {
   "cell_type": "code",
   "execution_count": 204,
   "metadata": {},
   "outputs": [],
   "source": [
    "obs_rms.update(obs3[0].numpy())"
   ]
  },
  {
   "cell_type": "code",
   "execution_count": 191,
   "metadata": {},
   "outputs": [
    {
     "data": {
      "text/plain": [
       "array([0, 0])"
      ]
     },
     "execution_count": 191,
     "metadata": {},
     "output_type": "execute_result"
    }
   ],
   "source": [
    "envs2.get_attr('env')[0].character.pos"
   ]
  },
  {
   "cell_type": "code",
   "execution_count": 193,
   "metadata": {},
   "outputs": [
    {
     "data": {
      "text/plain": [
       "array([0.5, 0.5, 0.5, 0.5, 0.5, 0.5, 0.5, 0.5, 0.5, 0.5, 0.5, 0.5, 0.5,\n",
       "       0.5, 0.5, 0.5, 0.5, 0.5, 0.5, 0.5, 0.5, 0.5, 0.5, 0.5, 0.5, 0.5,\n",
       "       0.5, 0.5, 0.5, 0.5, inf, inf, inf, inf, inf, inf, inf, inf, inf,\n",
       "       inf, inf, inf, inf, inf, inf, inf, inf, inf, inf, inf, inf, inf,\n",
       "       inf, inf, inf, inf, inf, inf, inf, inf])"
      ]
     },
     "execution_count": 193,
     "metadata": {},
     "output_type": "execute_result"
    }
   ],
   "source": [
    "envs2.get_attr('env')[0].get_observation()"
   ]
  },
  {
   "cell_type": "code",
   "execution_count": 111,
   "metadata": {},
   "outputs": [
    {
     "data": {
      "text/plain": [
       "(tensor([[-4.1994e-02, -1.8605e-02,  6.2080e-03,  3.4514e-02,  7.0061e-02,\n",
       "           1.0600e-01,  1.3960e-01,  1.7234e-01,  1.9891e-01,  2.2098e-01,\n",
       "           2.3997e-01,  2.4782e-01,  2.5463e-01,  2.6291e-01,  2.6267e-01,\n",
       "           2.6172e-01,  2.5950e-01,  2.5698e-01,  2.5395e-01,  2.5104e-01,\n",
       "           2.4692e-01,  2.4275e-01,  2.3994e-01,  2.3520e-01,  2.3014e-01,\n",
       "           2.2233e-01,  2.1841e-01,  1.5267e+00,  1.5228e+00,  1.5189e+00,\n",
       "           1.0000e+01,  1.0000e+01,  1.0000e+01,  1.0000e+01,  1.0000e+01,\n",
       "           1.0000e+01,  1.0000e+01,  1.0000e+01,  1.0000e+01,  1.0000e+01,\n",
       "           1.0000e+01,  1.0000e+01,  1.0000e+01,  1.0000e+01,  1.0000e+01,\n",
       "          -1.4678e+00, -1.4683e+00, -1.4675e+00, -1.4674e+00, -1.4696e+00,\n",
       "          -1.4726e+00, -1.4775e+00, -1.4830e+00, -1.4895e+00, -1.4968e+00,\n",
       "          -1.5017e+00, -1.5044e+00, -1.5055e+00, -1.5047e+00, -1.5018e+00],\n",
       "         [-4.1994e-02, -1.8605e-02,  6.2080e-03,  3.4514e-02,  7.0061e-02,\n",
       "           1.0600e-01,  1.3960e-01,  1.7234e-01,  1.9891e-01,  2.2098e-01,\n",
       "           2.3997e-01,  2.4782e-01,  2.5463e-01,  2.6291e-01,  2.6267e-01,\n",
       "           2.6172e-01,  2.5950e-01,  2.5698e-01,  2.5395e-01,  2.5104e-01,\n",
       "           2.4692e-01,  2.4275e-01,  2.3994e-01,  2.3520e-01,  2.3014e-01,\n",
       "           2.2233e-01,  2.1841e-01,  1.5267e+00,  1.5228e+00,  1.5189e+00,\n",
       "           1.0000e+01,  1.0000e+01,  1.0000e+01,  1.0000e+01,  1.0000e+01,\n",
       "           1.0000e+01,  1.0000e+01,  1.0000e+01,  1.0000e+01,  1.0000e+01,\n",
       "           1.0000e+01,  1.0000e+01,  1.0000e+01,  1.0000e+01,  1.0000e+01,\n",
       "          -1.4678e+00, -1.4683e+00, -1.4675e+00, -1.4674e+00, -1.4696e+00,\n",
       "          -1.4726e+00, -1.4775e+00, -1.4830e+00, -1.4895e+00, -1.4968e+00,\n",
       "          -1.5017e+00, -1.5044e+00, -1.5055e+00, -1.5047e+00, -1.5018e+00]]),\n",
       " tensor([[0.],\n",
       "         [0.]]),\n",
       " array([False, False]),\n",
       " ({'auxiliary': array([], dtype=float64)},\n",
       "  {'auxiliary': array([], dtype=float64)}))"
      ]
     },
     "execution_count": 111,
     "metadata": {},
     "output_type": "execute_result"
    }
   ],
   "source": [
    "envs2.step(torch.tensor([[1],[1]]))"
   ]
  },
  {
   "cell_type": "code",
   "execution_count": 112,
   "metadata": {},
   "outputs": [
    {
     "data": {
      "text/plain": [
       "array([0.5108235 , 0.50480025, 0.49839686, 0.49107518, 0.48187025,\n",
       "       0.47261321, 0.46401227, 0.45573938, 0.44908213, 0.44364162,\n",
       "       0.43907146, 0.43711693, 0.43551421, 0.43363345, 0.43368639,\n",
       "       0.43398359, 0.43460468, 0.43516782, 0.43595605, 0.43677513,\n",
       "       0.43770508, 0.43876009, 0.43957166, 0.44064709, 0.44186716,\n",
       "       0.44378001, 0.44467745, 0.4458671 , 0.44678038, 0.44762071,\n",
       "       0.32954612, 0.32710395, 0.32427021, 0.32102824, 0.31709345,\n",
       "       0.31292987, 0.30862801, 0.30410042, 0.29977237, 0.29581701,\n",
       "       0.29209431, 0.28859574, 0.28566671, 0.28351569, 0.28210333,\n",
       "       0.28169999, 0.28230194, 0.28358912, 0.28549983, 0.28829636,\n",
       "       0.29091202, 0.2939523 , 0.29719444, 0.29975225, 0.30226646,\n",
       "       0.30450416, 0.30618058, 0.30809912, 0.30984259, 0.31150371])"
      ]
     },
     "execution_count": 112,
     "metadata": {},
     "output_type": "execute_result"
    }
   ],
   "source": [
    "obs_rms.mean"
   ]
  },
  {
   "cell_type": "code",
   "execution_count": 115,
   "metadata": {},
   "outputs": [],
   "source": [
    "all_obs2 = np.vstack(all_obs)"
   ]
  },
  {
   "cell_type": "code",
   "execution_count": 121,
   "metadata": {},
   "outputs": [
    {
     "data": {
      "text/plain": [
       "False"
      ]
     },
     "execution_count": 121,
     "metadata": {},
     "output_type": "execute_result"
    }
   ],
   "source": [
    "np.isinf(all_obs2).any()"
   ]
  },
  {
   "cell_type": "code",
   "execution_count": 127,
   "metadata": {},
   "outputs": [
    {
     "data": {
      "text/plain": [
       "False"
      ]
     },
     "execution_count": 127,
     "metadata": {},
     "output_type": "execute_result"
    }
   ],
   "source": [
    "np.isnan(all_obs2 - obs_rms.mean).any()"
   ]
  },
  {
   "cell_type": "code",
   "execution_count": 122,
   "metadata": {},
   "outputs": [
    {
     "data": {
      "text/plain": [
       "(60,)"
      ]
     },
     "execution_count": 122,
     "metadata": {},
     "output_type": "execute_result"
    }
   ],
   "source": [
    "obs_rms.mean.shape"
   ]
  },
  {
   "cell_type": "code",
   "execution_count": 81,
   "metadata": {},
   "outputs": [
    {
     "data": {
      "text/plain": [
       "(array([0.5       , 0.5       , 0.5       , 0.5       , 0.5       ,\n",
       "        0.5       , 0.5       , 0.5       , 0.5       , 0.5       ,\n",
       "        0.5       , 0.5       , 0.5       , 0.5       , 0.5       ,\n",
       "        0.5       , 0.5       , 0.5       , 0.5       , 0.5       ,\n",
       "        0.5       , 0.5       , 0.5       , 0.5       , 0.5       ,\n",
       "        0.5       , 0.5       , 0.83333333, 0.83333333, 0.83333333,\n",
       "               inf,        inf,        inf,        inf,        inf,\n",
       "               inf,        inf,        inf,        inf,        inf,\n",
       "               inf,        inf,        inf,        inf,        inf,\n",
       "        0.00235702, 0.00236227, 0.00237813, 0.00240496, 0.00244338,\n",
       "        0.00249432, 0.00255903, 0.00263923, 0.00273717, 0.00285584,\n",
       "        0.00299919, 0.00317253, 0.00328571, 0.00309249, 0.00293305]),\n",
       " 0.0,\n",
       " False,\n",
       " {'auxiliary': array([], dtype=float64)})"
      ]
     },
     "execution_count": 81,
     "metadata": {},
     "output_type": "execute_result"
    }
   ],
   "source": [
    "env.step(torch.tensor(1))"
   ]
  },
  {
   "cell_type": "markdown",
   "metadata": {},
   "source": [
    "## Example: Test Correlated 2-arm Bandits"
   ]
  },
  {
   "cell_type": "code",
   "execution_count": 2,
   "metadata": {},
   "outputs": [],
   "source": [
    "# env_name = 'CartPole-v1'\n",
    "env_name = 'Bandits-v0'\n",
    "model, rms = load_model(env=env_name, algo='a2c')\n",
    "log_dir = '/tmp/gym/_eval'\n",
    "device = torch.device(\"cpu\")\n"
   ]
  },
  {
   "cell_type": "code",
   "execution_count": 3,
   "metadata": {},
   "outputs": [
    {
     "name": "stdout",
     "output_type": "stream",
     "text": [
      " Evaluation using 10 episodes: mean reward 77.30000\n",
      "\n"
     ]
    }
   ],
   "source": [
    "all_obs, all_actions, all_rewards, all_hidden_states, eval_envs = evaluate(model, rms, env_name, 1, 10, log_dir, device)"
   ]
  },
  {
   "cell_type": "code",
   "execution_count": 4,
   "metadata": {},
   "outputs": [],
   "source": [
    "all_obs2 = torch.zeros(size=[len(all_obs)] + list(all_obs[0].shape))\n",
    "all_actions2 = torch.zeros(size=[len(all_actions)] + list(all_actions[0].shape))\n",
    "all_rewards2 = torch.zeros(size=[len(all_rewards)] + list(all_rewards[0].shape))\n",
    "all_hidden_states2 = torch.zeros(size=[len(all_hidden_states)] + list(all_hidden_states[0].shape))\n",
    "\n",
    "for i in range(len(all_obs)):\n",
    "    all_obs2[i] = all_obs[i]\n",
    "    all_actions2[i] = all_actions[i]\n",
    "    all_rewards2[i] = all_rewards[i]\n",
    "    all_hidden_states2[i] = all_hidden_states[i]"
   ]
  },
  {
   "cell_type": "code",
   "execution_count": 7,
   "metadata": {},
   "outputs": [],
   "source": [
    "reward_probabilities = eval_envs.get_attr('reward_probabilities')"
   ]
  },
  {
   "cell_type": "code",
   "execution_count": 19,
   "metadata": {},
   "outputs": [],
   "source": [
    "second_arm_probs = []\n",
    "second_arm_choices = []\n",
    "for i in range(all_actions2.shape[1]):\n",
    "    second_arm_choices.append(torch.mean(all_actions2.T[0][i]))\n",
    "    second_arm_probs.append(reward_probabilities[i][1])"
   ]
  },
  {
   "cell_type": "code",
   "execution_count": 21,
   "metadata": {},
   "outputs": [
    {
     "data": {
      "text/plain": [
       "<matplotlib.collections.PathCollection at 0x1268d44f408>"
      ]
     },
     "execution_count": 21,
     "metadata": {},
     "output_type": "execute_result"
    },
    {
     "data": {
      "image/png": "[encoded data removed]",
      "text/plain": [
       "<Figure size 432x288 with 1 Axes>"
      ]
     },
     "metadata": {
      "needs_background": "light"
     },
     "output_type": "display_data"
    }
   ],
   "source": [
    "plt.scatter(second_arm_probs, second_arm_choices)"
   ]
  },
  {
   "cell_type": "code",
   "execution_count": 24,
   "metadata": {},
   "outputs": [],
   "source": [
    "env = gym.make('Bandits-v0', num_arms=3)"
   ]
  },
  {
   "cell_type": "code",
   "execution_count": 29,
   "metadata": {},
   "outputs": [
    {
     "data": {
      "text/plain": [
       "(array([0., 0., 1., 1., 5.]), 1, False, {})"
      ]
     },
     "execution_count": 29,
     "metadata": {},
     "output_type": "execute_result"
    }
   ],
   "source": [
    "env.step(2)"
   ]
  },
  {
   "cell_type": "code",
   "execution_count": 30,
   "metadata": {},
   "outputs": [
    {
     "data": {
      "text/plain": [
       "array([0.32455324, 0.33017026, 0.3452765 ])"
      ]
     },
     "execution_count": 30,
     "metadata": {},
     "output_type": "execute_result"
    }
   ],
   "source": [
    "env.reward_probabilities"
   ]
  }
 ],
 "metadata": {
  "kernelspec": {
   "display_name": "Python 3 (ipykernel)",
   "language": "python",
   "name": "python3"
  },
  "language_info": {
   "codemirror_mode": {
    "name": "ipython",
    "version": 3
   },
   "file_extension": ".py",
   "mimetype": "text/x-python",
   "name": "python",
   "nbconvert_exporter": "python",
   "pygments_lexer": "ipython3",
   "version": "3.9.12"
  }
 },
 "nbformat": 4,
 "nbformat_minor": 4
}
