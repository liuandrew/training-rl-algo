{
 "cells": [
  {
   "cell_type": "code",
   "execution_count": 1,
   "metadata": {},
   "outputs": [
    {
     "name": "stdout",
     "output_type": "stream",
     "text": [
      "pygame 2.0.1 (SDL 2.0.14, Python 3.7.6)\n",
      "Hello from the pygame community. https://www.pygame.org/contribute.html\n"
     ]
    }
   ],
   "source": [
    "import gym\n",
    "import gym_nav\n",
    "\n",
    "env = gym.make('NavEnv-v0')\n",
    "capture_video = 1\n",
    "env = gym.wrappers.Monitor(env, './video', \n",
    "    video_callable=lambda t:t%capture_video==0, force=True)\n",
    "\n",
    "obs = env.reset()\n",
    "while True:\n",
    "    obs, reward, done, info = env.step(env.action_space.sample())\n",
    "    if done:\n",
    "        break\n",
    "env.close()"
   ]
  },
  {
   "cell_type": "code",
   "execution_count": 2,
   "metadata": {},
   "outputs": [],
   "source": [
    "import gym\n",
    "import gym_nav\n",
    "\n",
    "env = gym.make('CartPole-v0')\n",
    "capture_video = 1\n",
    "env = gym.wrappers.Monitor(env, './video', \n",
    "    video_callable=lambda t:t%capture_video==0, force=True)\n",
    "\n",
    "obs = env.reset()\n",
    "for i in range(202):\n",
    "    obs, reward, done, info = env.step(env.action_space.sample())\n",
    "    if done:\n",
    "        break\n",
    "env.close()"
   ]
  },
  {
   "cell_type": "code",
   "execution_count": 3,
   "metadata": {},
   "outputs": [
    {
     "data": {
      "text/plain": [
       "{'render.modes': ['human', 'rgb_array'], 'video.frames_per_second': 50}"
      ]
     },
     "execution_count": 3,
     "metadata": {},
     "output_type": "execute_result"
    }
   ],
   "source": [
    "env.metadata"
   ]
  },
  {
   "cell_type": "code",
   "execution_count": 5,
   "metadata": {},
   "outputs": [],
   "source": [
    "import torch\n",
    "from a2c_ppo_acktr.envs import make_vec_envs\n",
    "\n",
    "env_name = 'NavEnv-v0'\n",
    "seed = 1\n",
    "num_processes = 2\n",
    "gamma = 0.99\n",
    "log_dir = '/tmp/gym/'\n",
    "device = torch.device('cpu')\n",
    "capture_video = 1\n",
    "env_kwargs = None\n",
    "envs = make_vec_envs(env_name, seed, num_processes,\n",
    "                     gamma, log_dir, device, False, capture_video=capture_video,\n",
    "                     env_kwargs=env_kwargs)\n",
    "\n",
    "\n",
    "for i in range(1000):\n",
    "    actions = torch.tensor([envs.action_space.sample() for i in range(num_processes)]).to(device)\n",
    "    envs.step(actions.reshape(2, 1))"
   ]
  },
  {
   "cell_type": "code",
   "execution_count": 21,
   "metadata": {},
   "outputs": [
    {
     "ename": "EOFError",
     "evalue": "",
     "output_type": "error",
     "traceback": [
      "\u001b[1;31m---------------------------------------------------------------------------\u001b[0m",
      "\u001b[1;31mBrokenPipeError\u001b[0m                           Traceback (most recent call last)",
      "\u001b[1;32m~\\miniconda3\\lib\\multiprocessing\\connection.py\u001b[0m in \u001b[0;36m_recv_bytes\u001b[1;34m(self, maxsize)\u001b[0m\n\u001b[0;32m    311\u001b[0m                     \u001b[1;32mfinally\u001b[0m\u001b[1;33m:\u001b[0m\u001b[1;33m\u001b[0m\u001b[1;33m\u001b[0m\u001b[0m\n\u001b[1;32m--> 312\u001b[1;33m                         \u001b[0mnread\u001b[0m\u001b[1;33m,\u001b[0m \u001b[0merr\u001b[0m \u001b[1;33m=\u001b[0m \u001b[0mov\u001b[0m\u001b[1;33m.\u001b[0m\u001b[0mGetOverlappedResult\u001b[0m\u001b[1;33m(\u001b[0m\u001b[1;32mTrue\u001b[0m\u001b[1;33m)\u001b[0m\u001b[1;33m\u001b[0m\u001b[1;33m\u001b[0m\u001b[0m\n\u001b[0m\u001b[0;32m    313\u001b[0m                         \u001b[1;32mif\u001b[0m \u001b[0merr\u001b[0m \u001b[1;33m==\u001b[0m \u001b[1;36m0\u001b[0m\u001b[1;33m:\u001b[0m\u001b[1;33m\u001b[0m\u001b[1;33m\u001b[0m\u001b[0m\n",
      "\u001b[1;31mBrokenPipeError\u001b[0m: [WinError 109] The pipe has been ended",
      "\nDuring handling of the above exception, another exception occurred:\n",
      "\u001b[1;31mEOFError\u001b[0m                                  Traceback (most recent call last)",
      "\u001b[1;32m<ipython-input-21-924e38da7737>\u001b[0m in \u001b[0;36m<module>\u001b[1;34m\u001b[0m\n\u001b[0;32m     10\u001b[0m     envs = make_vec_envs(env_name, seed, num_processes,\n\u001b[0;32m     11\u001b[0m                          \u001b[0mgamma\u001b[0m\u001b[1;33m,\u001b[0m \u001b[0mlog_dir\u001b[0m\u001b[1;33m,\u001b[0m \u001b[0mdevice\u001b[0m\u001b[1;33m,\u001b[0m \u001b[1;32mFalse\u001b[0m\u001b[1;33m,\u001b[0m \u001b[0mcapture_video\u001b[0m\u001b[1;33m=\u001b[0m\u001b[0mcapture_video\u001b[0m\u001b[1;33m,\u001b[0m\u001b[1;33m\u001b[0m\u001b[1;33m\u001b[0m\u001b[0m\n\u001b[1;32m---> 12\u001b[1;33m                          env_kwargs=env_kwargs)\n\u001b[0m\u001b[0;32m     13\u001b[0m     \u001b[0menvs\u001b[0m\u001b[1;33m.\u001b[0m\u001b[0mreset\u001b[0m\u001b[1;33m(\u001b[0m\u001b[1;33m)\u001b[0m\u001b[1;33m\u001b[0m\u001b[1;33m\u001b[0m\u001b[0m\n\u001b[0;32m     14\u001b[0m \u001b[1;33m\u001b[0m\u001b[0m\n",
      "\u001b[1;32m~\\Desktop\\Work\\github\\training-rl-algo\\a2c_ppo_acktr\\envs.py\u001b[0m in \u001b[0;36mmake_vec_envs\u001b[1;34m(env_name, seed, num_processes, gamma, log_dir, device, allow_early_resets, num_frame_stack, capture_video, env_kwargs)\u001b[0m\n\u001b[0;32m    110\u001b[0m \u001b[1;33m\u001b[0m\u001b[0m\n\u001b[0;32m    111\u001b[0m     \u001b[1;32mif\u001b[0m \u001b[0mlen\u001b[0m\u001b[1;33m(\u001b[0m\u001b[0menvs\u001b[0m\u001b[1;33m)\u001b[0m \u001b[1;33m>\u001b[0m \u001b[1;36m1\u001b[0m\u001b[1;33m:\u001b[0m\u001b[1;33m\u001b[0m\u001b[1;33m\u001b[0m\u001b[0m\n\u001b[1;32m--> 112\u001b[1;33m         \u001b[0menvs\u001b[0m \u001b[1;33m=\u001b[0m \u001b[0mSubprocVecEnv\u001b[0m\u001b[1;33m(\u001b[0m\u001b[0menvs\u001b[0m\u001b[1;33m)\u001b[0m\u001b[1;33m\u001b[0m\u001b[1;33m\u001b[0m\u001b[0m\n\u001b[0m\u001b[0;32m    113\u001b[0m     \u001b[1;32melse\u001b[0m\u001b[1;33m:\u001b[0m\u001b[1;33m\u001b[0m\u001b[1;33m\u001b[0m\u001b[0m\n\u001b[0;32m    114\u001b[0m         \u001b[0menvs\u001b[0m \u001b[1;33m=\u001b[0m \u001b[0mDummyVecEnv\u001b[0m\u001b[1;33m(\u001b[0m\u001b[0menvs\u001b[0m\u001b[1;33m)\u001b[0m\u001b[1;33m\u001b[0m\u001b[1;33m\u001b[0m\u001b[0m\n",
      "\u001b[1;32m~\\miniconda3\\lib\\site-packages\\stable_baselines3\\common\\vec_env\\subproc_vec_env.py\u001b[0m in \u001b[0;36m__init__\u001b[1;34m(self, env_fns, start_method)\u001b[0m\n\u001b[0;32m    109\u001b[0m \u001b[1;33m\u001b[0m\u001b[0m\n\u001b[0;32m    110\u001b[0m         \u001b[0mself\u001b[0m\u001b[1;33m.\u001b[0m\u001b[0mremotes\u001b[0m\u001b[1;33m[\u001b[0m\u001b[1;36m0\u001b[0m\u001b[1;33m]\u001b[0m\u001b[1;33m.\u001b[0m\u001b[0msend\u001b[0m\u001b[1;33m(\u001b[0m\u001b[1;33m(\u001b[0m\u001b[1;34m\"get_spaces\"\u001b[0m\u001b[1;33m,\u001b[0m \u001b[1;32mNone\u001b[0m\u001b[1;33m)\u001b[0m\u001b[1;33m)\u001b[0m\u001b[1;33m\u001b[0m\u001b[1;33m\u001b[0m\u001b[0m\n\u001b[1;32m--> 111\u001b[1;33m         \u001b[0mobservation_space\u001b[0m\u001b[1;33m,\u001b[0m \u001b[0maction_space\u001b[0m \u001b[1;33m=\u001b[0m \u001b[0mself\u001b[0m\u001b[1;33m.\u001b[0m\u001b[0mremotes\u001b[0m\u001b[1;33m[\u001b[0m\u001b[1;36m0\u001b[0m\u001b[1;33m]\u001b[0m\u001b[1;33m.\u001b[0m\u001b[0mrecv\u001b[0m\u001b[1;33m(\u001b[0m\u001b[1;33m)\u001b[0m\u001b[1;33m\u001b[0m\u001b[1;33m\u001b[0m\u001b[0m\n\u001b[0m\u001b[0;32m    112\u001b[0m         \u001b[0mVecEnv\u001b[0m\u001b[1;33m.\u001b[0m\u001b[0m__init__\u001b[0m\u001b[1;33m(\u001b[0m\u001b[0mself\u001b[0m\u001b[1;33m,\u001b[0m \u001b[0mlen\u001b[0m\u001b[1;33m(\u001b[0m\u001b[0menv_fns\u001b[0m\u001b[1;33m)\u001b[0m\u001b[1;33m,\u001b[0m \u001b[0mobservation_space\u001b[0m\u001b[1;33m,\u001b[0m \u001b[0maction_space\u001b[0m\u001b[1;33m)\u001b[0m\u001b[1;33m\u001b[0m\u001b[1;33m\u001b[0m\u001b[0m\n\u001b[0;32m    113\u001b[0m \u001b[1;33m\u001b[0m\u001b[0m\n",
      "\u001b[1;32m~\\miniconda3\\lib\\multiprocessing\\connection.py\u001b[0m in \u001b[0;36mrecv\u001b[1;34m(self)\u001b[0m\n\u001b[0;32m    248\u001b[0m         \u001b[0mself\u001b[0m\u001b[1;33m.\u001b[0m\u001b[0m_check_closed\u001b[0m\u001b[1;33m(\u001b[0m\u001b[1;33m)\u001b[0m\u001b[1;33m\u001b[0m\u001b[1;33m\u001b[0m\u001b[0m\n\u001b[0;32m    249\u001b[0m         \u001b[0mself\u001b[0m\u001b[1;33m.\u001b[0m\u001b[0m_check_readable\u001b[0m\u001b[1;33m(\u001b[0m\u001b[1;33m)\u001b[0m\u001b[1;33m\u001b[0m\u001b[1;33m\u001b[0m\u001b[0m\n\u001b[1;32m--> 250\u001b[1;33m         \u001b[0mbuf\u001b[0m \u001b[1;33m=\u001b[0m \u001b[0mself\u001b[0m\u001b[1;33m.\u001b[0m\u001b[0m_recv_bytes\u001b[0m\u001b[1;33m(\u001b[0m\u001b[1;33m)\u001b[0m\u001b[1;33m\u001b[0m\u001b[1;33m\u001b[0m\u001b[0m\n\u001b[0m\u001b[0;32m    251\u001b[0m         \u001b[1;32mreturn\u001b[0m \u001b[0m_ForkingPickler\u001b[0m\u001b[1;33m.\u001b[0m\u001b[0mloads\u001b[0m\u001b[1;33m(\u001b[0m\u001b[0mbuf\u001b[0m\u001b[1;33m.\u001b[0m\u001b[0mgetbuffer\u001b[0m\u001b[1;33m(\u001b[0m\u001b[1;33m)\u001b[0m\u001b[1;33m)\u001b[0m\u001b[1;33m\u001b[0m\u001b[1;33m\u001b[0m\u001b[0m\n\u001b[0;32m    252\u001b[0m \u001b[1;33m\u001b[0m\u001b[0m\n",
      "\u001b[1;32m~\\miniconda3\\lib\\multiprocessing\\connection.py\u001b[0m in \u001b[0;36m_recv_bytes\u001b[1;34m(self, maxsize)\u001b[0m\n\u001b[0;32m    319\u001b[0m                 \u001b[1;32mexcept\u001b[0m \u001b[0mOSError\u001b[0m \u001b[1;32mas\u001b[0m \u001b[0me\u001b[0m\u001b[1;33m:\u001b[0m\u001b[1;33m\u001b[0m\u001b[1;33m\u001b[0m\u001b[0m\n\u001b[0;32m    320\u001b[0m                     \u001b[1;32mif\u001b[0m \u001b[0me\u001b[0m\u001b[1;33m.\u001b[0m\u001b[0mwinerror\u001b[0m \u001b[1;33m==\u001b[0m \u001b[0m_winapi\u001b[0m\u001b[1;33m.\u001b[0m\u001b[0mERROR_BROKEN_PIPE\u001b[0m\u001b[1;33m:\u001b[0m\u001b[1;33m\u001b[0m\u001b[1;33m\u001b[0m\u001b[0m\n\u001b[1;32m--> 321\u001b[1;33m                         \u001b[1;32mraise\u001b[0m \u001b[0mEOFError\u001b[0m\u001b[1;33m\u001b[0m\u001b[1;33m\u001b[0m\u001b[0m\n\u001b[0m\u001b[0;32m    322\u001b[0m                     \u001b[1;32melse\u001b[0m\u001b[1;33m:\u001b[0m\u001b[1;33m\u001b[0m\u001b[1;33m\u001b[0m\u001b[0m\n\u001b[0;32m    323\u001b[0m                         \u001b[1;32mraise\u001b[0m\u001b[1;33m\u001b[0m\u001b[1;33m\u001b[0m\u001b[0m\n",
      "\u001b[1;31mEOFError\u001b[0m: "
     ]
    }
   ],
   "source": [
    "if __name__ == '__main__':\n",
    "    env_name = 'NavEnv-v0'\n",
    "    seed = 1\n",
    "    num_processes = 2\n",
    "    gamma = 0.99\n",
    "    log_dir = 'logs/'\n",
    "    device = torch.device('cpu')\n",
    "    capture_video = 1\n",
    "    env_kwargs = None\n",
    "    envs = make_vec_envs(env_name, seed, num_processes,\n",
    "                         gamma, log_dir, device, False, capture_video=capture_video,\n",
    "                         env_kwargs=env_kwargs)\n",
    "    envs.reset()\n",
    "\n",
    "    for i in range(1000):\n",
    "        actions = torch.tensor([envs.action_space.sample() for i in range(num_processes)]).to(device)\n",
    "        envs.step(actions.reshape(2, 1))"
   ]
  },
  {
   "cell_type": "markdown",
   "metadata": {},
   "source": [
    "## Switch to RecordVideo wrapper"
   ]
  },
  {
   "cell_type": "code",
   "execution_count": 24,
   "metadata": {},
   "outputs": [],
   "source": [
    "import gym\n",
    "import gym_nav\n",
    "import numpy as np\n",
    "\n",
    "env = gym.make('NavEnv-v0')\n",
    "capture_video = 1\n",
    "env = gym.wrappers.RecordVideo(env, './video')\n",
    "obs = env.reset()\n",
    "while True:\n",
    "    obs, reward, done, info = env.step(env.action_space.sample())\n",
    "    if done:\n",
    "        break\n",
    "env.close()"
   ]
  },
  {
   "cell_type": "code",
   "execution_count": 30,
   "metadata": {},
   "outputs": [
    {
     "name": "stdout",
     "output_type": "stream",
     "text": [
      "done\n",
      "done\n",
      "done\n",
      "done\n"
     ]
    }
   ],
   "source": [
    "\n",
    "\n",
    "if __name__ == '__main__':\n",
    "    env_name = 'NavEnv-v0'\n",
    "    seed = 1\n",
    "    num_processes = 2\n",
    "    gamma = 0.99\n",
    "    log_dir = 'logs/'\n",
    "    device = torch.device('cpu')\n",
    "    capture_video = 1\n",
    "    env_kwargs = None\n",
    "    envs = make_vec_envs(env_name, seed, num_processes,\n",
    "                         gamma, log_dir, device, False, capture_video=capture_video,\n",
    "                         env_kwargs=env_kwargs)\n",
    "    envs.reset()\n",
    "\n",
    "    for i in range(1000):\n",
    "        actions = torch.tensor([envs.action_space.sample() for i in range(num_processes)]).to(device)\n",
    "        _, _, dones, _ = envs.step(actions.reshape(2, 1))\n",
    "        if(dones[0]):\n",
    "            print('done')\n",
    "        \n",
    "envs.close()"
   ]
  },
  {
   "cell_type": "code",
   "execution_count": 1,
   "metadata": {},
   "outputs": [],
   "source": [
    "import os"
   ]
  },
  {
   "cell_type": "code",
   "execution_count": 2,
   "metadata": {},
   "outputs": [
    {
     "name": "stdout",
     "output_type": "stream",
     "text": [
      "76.4 µs ± 1.1 µs per loop (mean ± std. dev. of 7 runs, 10000 loops each)\n"
     ]
    }
   ],
   "source": [
    "%%timeit\n",
    "os.listdir('video')"
   ]
  },
  {
   "cell_type": "code",
   "execution_count": 9,
   "metadata": {},
   "outputs": [],
   "source": [
    "def test_file(f):\n",
    "    if os.path.exists(f):\n",
    "        try:\n",
    "            os.rename(f, f)\n",
    "            return True\n",
    "        except OSError as e:\n",
    "            return False"
   ]
  },
  {
   "cell_type": "code",
   "execution_count": 6,
   "metadata": {},
   "outputs": [],
   "source": [
    "f = os.listdir('video')[0]\n",
    "f = os.path.join('video', f)"
   ]
  },
  {
   "cell_type": "code",
   "execution_count": 10,
   "metadata": {},
   "outputs": [
    {
     "name": "stdout",
     "output_type": "stream",
     "text": [
      "532 µs ± 27 µs per loop (mean ± std. dev. of 7 runs, 1000 loops each)\n"
     ]
    }
   ],
   "source": [
    "%%timeit\n",
    "test_file(f)"
   ]
  },
  {
   "cell_type": "code",
   "execution_count": 11,
   "metadata": {},
   "outputs": [
    {
     "name": "stdout",
     "output_type": "stream",
     "text": [
      "77.1 µs ± 694 ns per loop (mean ± std. dev. of 7 runs, 10000 loops each)\n"
     ]
    }
   ],
   "source": [
    "%%timeit\n",
    "for f in os.listdir('video'):\n",
    "    if '.mp4' in f:\n",
    "        pass"
   ]
  },
  {
   "cell_type": "code",
   "execution_count": 9,
   "metadata": {},
   "outputs": [],
   "source": [
    "import os\n",
    "import numpy as np"
   ]
  },
  {
   "cell_type": "code",
   "execution_count": 18,
   "metadata": {},
   "outputs": [],
   "source": [
    "logged_videos = []\n",
    "def available_videos():\n",
    "    vid_dir = 'video'\n",
    "    unuploaded_vids = []\n",
    "    idxs = []\n",
    "    for f in os.listdir(vid_dir):\n",
    "        if '.mp4' in f and f not in logged_videos:\n",
    "            unuploaded_vids.append(f)\n",
    "    for f in unuploaded_vids:\n",
    "        idxs.append(int(f.split('.mp4')[0].split('-')[-1]))\n",
    "    return os.path.join(vid_dir, unuploaded_vids[np.argmin(idxs)])"
   ]
  },
  {
   "cell_type": "code",
   "execution_count": 22,
   "metadata": {},
   "outputs": [],
   "source": [
    "logged_videos.append('rl-video-episode-2.mp4')"
   ]
  },
  {
   "cell_type": "code",
   "execution_count": 23,
   "metadata": {},
   "outputs": [
    {
     "name": "stdout",
     "output_type": "stream",
     "text": [
      "rl-video-episode-0.meta.json\n",
      "rl-video-episode-0.mp4\n",
      "rl-video-episode-1.meta.json\n",
      "rl-video-episode-1.mp4\n",
      "rl-video-episode-2.meta.json\n",
      "rl-video-episode-2.mp4\n",
      "rl-video-episode-3.meta.json\n",
      "rl-video-episode-3.mp4\n",
      "rl-video-episode-4.meta.json\n",
      "rl-video-episode-4.mp4\n",
      "['rl-video-episode-1.mp4', 'rl-video-episode-3.mp4', 'rl-video-episode-4.mp4']\n"
     ]
    },
    {
     "data": {
      "text/plain": [
       "'video\\\\rl-video-episode-1.mp4'"
      ]
     },
     "execution_count": 23,
     "metadata": {},
     "output_type": "execute_result"
    }
   ],
   "source": [
    "available_videos()"
   ]
  },
  {
   "cell_type": "code",
   "execution_count": 27,
   "metadata": {},
   "outputs": [],
   "source": [
    "    def available_videos():\n",
    "        vid_dir = 'video'\n",
    "        unuploaded_vids = []\n",
    "        idxs = []\n",
    "        for f in os.listdir(vid_dir):\n",
    "            if '.mp4' in f and f not in logged_videos:\n",
    "                unuploaded_vids.append(f)\n",
    "\n",
    "        if len(unuploaded_vids) > 1:\n",
    "            for f in unuploaded_vids:\n",
    "                idxs.append(int(f.split('.mp4')[0].split('-')[-1]))\n",
    "            return os.path.join(vid_dir, unuploaded_vids[np.argmin(idxs)])\n",
    "        else:\n",
    "            return False\n",
    "\n",
    "    def upload_videos():\n",
    "        path = available_videos()\n",
    "        if path is not False:\n",
    "            # wandb.log({'video': wandb.Video(path),\n",
    "            #     'format': 'gif'})\n",
    "            logged_videos.append(path)\n",
    "                        \n",
    "\n",
    "    logged_videos = []"
   ]
  },
  {
   "cell_type": "code",
   "execution_count": 28,
   "metadata": {},
   "outputs": [],
   "source": [
    "upload_videos()"
   ]
  },
  {
   "cell_type": "code",
   "execution_count": 25,
   "metadata": {},
   "outputs": [
    {
     "data": {
      "text/plain": [
       "[]"
      ]
     },
     "execution_count": 25,
     "metadata": {},
     "output_type": "execute_result"
    }
   ],
   "source": [
    "logged_videos"
   ]
  },
  {
   "cell_type": "code",
   "execution_count": 14,
   "metadata": {},
   "outputs": [],
   "source": [
    "gym.wrappers.RecordVideo()"
   ]
  },
  {
   "cell_type": "code",
   "execution_count": 17,
   "metadata": {},
   "outputs": [
    {
     "data": {
      "text/plain": [
       "tensor([[3],\n",
       "        [2]])"
      ]
     },
     "execution_count": 17,
     "metadata": {},
     "output_type": "execute_result"
    }
   ],
   "source": [
    "actions.reshape(2, 1)"
   ]
  },
  {
   "cell_type": "code",
   "execution_count": 18,
   "metadata": {},
   "outputs": [
    {
     "data": {
      "text/plain": [
       "(tensor([[ 0.0000,  0.9910,  0.0000, -0.9998,  0.9999,  0.0000, -0.9998,  0.9999,\n",
       "           0.0000,  0.0000,  0.9896,  0.0000,  0.0000,  0.9868,  0.0000,  0.0000,\n",
       "           0.9842,  0.0000,  0.0000,  0.9862,  0.0000,  0.0000,  0.9883,  0.0000,\n",
       "           0.0000,  0.9939,  0.0000,  0.0000,  0.6732,  0.0000,  0.0000,  0.6345,\n",
       "           0.0000,  0.0000,  0.5924,  0.0000,  0.0000,  0.5468,  0.0000,  0.0000,\n",
       "           0.4932,  0.0000,  0.0000,  0.4291,  0.0000,  0.0000,  0.3479,  0.0000,\n",
       "           0.0000,  0.2394,  0.0000,  0.0000,  0.0845,  0.0000,  0.0000, -0.1362,\n",
       "           0.0000,  0.0000, -0.4329,  0.0000,  0.0000,  0.9074,  0.0000,  0.0000,\n",
       "           0.4237,  0.0000,  0.0000,  0.4494,  0.0000,  0.0000, -0.7260,  0.0000,\n",
       "           0.0000, -0.8164,  0.0000,  0.0000, -0.8764,  0.0000,  0.0000, -0.9074,\n",
       "           0.0000,  0.0000, -0.9144,  0.0000,  0.0000, -0.9126,  0.0000,  0.0000,\n",
       "          -0.9641,  0.0000],\n",
       "         [ 0.0000, -0.9896,  0.0000,  0.9999, -0.9998,  0.0000,  0.9999, -0.9998,\n",
       "           0.0000,  0.0000, -0.9881,  0.0000,  0.0000, -0.9852,  0.0000,  0.0000,\n",
       "          -0.9824,  0.0000,  0.0000, -0.9846,  0.0000,  0.0000, -0.9867,  0.0000,\n",
       "           0.0000, -0.9928,  0.0000,  0.0000, -0.6659,  0.0000,  0.0000, -0.6268,\n",
       "           0.0000,  0.0000, -0.5844,  0.0000,  0.0000, -0.5385,  0.0000,  0.0000,\n",
       "          -0.4846,  0.0000,  0.0000, -0.4201,  0.0000,  0.0000, -0.3386,  0.0000,\n",
       "           0.0000, -0.2298,  0.0000,  0.0000, -0.0747,  0.0000,  0.0000,  0.1460,\n",
       "           0.0000,  0.0000,  0.4417,  0.0000,  0.0000, -0.9033,  0.0000,  0.0000,\n",
       "          -0.4150,  0.0000,  0.0000, -0.4411,  0.0000,  0.0000,  0.7326,  0.0000,\n",
       "           0.0000,  0.8219,  0.0000,  0.0000,  0.8810,  0.0000,  0.0000,  0.9115,\n",
       "           0.0000,  0.0000,  0.9183,  0.0000,  0.0000,  0.9165,  0.0000,  0.0000,\n",
       "           0.9666,  0.0000]]),\n",
       " tensor([[-0.6495],\n",
       "         [-2.4384]]),\n",
       " array([False, False]),\n",
       " ({}, {}))"
      ]
     },
     "execution_count": 18,
     "metadata": {},
     "output_type": "execute_result"
    }
   ],
   "source": [
    "envs.step(actions.reshape(2, 1))"
   ]
  },
  {
   "cell_type": "code",
   "execution_count": 19,
   "metadata": {},
   "outputs": [],
   "source": []
  }
 ],
 "metadata": {
  "kernelspec": {
   "display_name": "Python 3",
   "language": "python",
   "name": "python3"
  },
  "language_info": {
   "codemirror_mode": {
    "name": "ipython",
    "version": 3
   },
   "file_extension": ".py",
   "mimetype": "text/x-python",
   "name": "python",
   "nbconvert_exporter": "python",
   "pygments_lexer": "ipython3",
   "version": "3.7.6"
  }
 },
 "nbformat": 4,
 "nbformat_minor": 4
}
